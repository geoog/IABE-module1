{
  "nbformat": 4,
  "nbformat_minor": 0,
  "metadata": {
    "kernelspec": {
      "display_name": "Python 3",
      "language": "python",
      "name": "python3"
    },
    "language_info": {
      "codemirror_mode": {
        "name": "ipython",
        "version": 3
      },
      "file_extension": ".py",
      "mimetype": "text/x-python",
      "name": "python",
      "nbconvert_exporter": "python",
      "pygments_lexer": "ipython3",
      "version": "3.8.8"
    },
    "colab": {
      "name": "IABE_DS_Certificate_Module1_Day2_v1 - Exos_with_answers.ipynb",
      "provenance": [],
      "collapsed_sections": [
        "L5NH7CiOrPpn",
        "nBekCjQTrPp6"
      ]
    }
  },
  "cells": [
    {
      "cell_type": "markdown",
      "metadata": {
        "id": "sLOKbDRhrPpi"
      },
      "source": [
        "<center> <h1> <span style=\"color:black\"> IABE Data Science Certificate - Module 1 - Day 2  </h1> </center> \n",
        "<center> <h2> <span style=\"color:red\"> Programming : (Generalized) Linear models </h1> </center>"
      ]
    },
    {
      "cell_type": "markdown",
      "metadata": {
        "id": "L5NH7CiOrPpn"
      },
      "source": [
        "# Agenda\n",
        "\n",
        "* [Chapter 1 - Introduction](#one)\n",
        "    + [1.1 Objective of the notebook](#one-one)\n",
        "    + [1.2 Speakers](#one-two)\n",
        "    + [1.3 IT requirements](#one-three)\n",
        "\n",
        "\n",
        "* [Chapter 2 - Import of libraries and dataset](#two)\n",
        "    + [2.1 Importing the libraries](#two-one)\n",
        "    + [2.2 Importing the data](#two-two)\n",
        "    \n",
        "    \n",
        "* [Chapter 3 - Linear Model on the Sales Prices](#three)\n",
        "    + [3.1 Introduction](#three-one)\n",
        "    + [3.2 Data preparation](#three-two)\n",
        "    + [3.3 Description Analysis](#three-three)\n",
        "    + [3.4 Split Training/Test Set](#three-four)\n",
        "    + [3.5 Model Training](#three-five)\n",
        "\n",
        "* [Chapter 4 - GLM on frequency](#four)\n",
        "    + [4.1 Missing values filters](#four-one)\n",
        "    + [4.2 Low dispersion ratio/high concentration filters](#four-two)\n",
        "    \n",
        "    \n"
      ]
    },
    {
      "cell_type": "markdown",
      "metadata": {
        "id": "J361A0ghrPpo"
      },
      "source": [
        "<br><br>"
      ]
    },
    {
      "cell_type": "markdown",
      "metadata": {
        "id": "gtVzeYqVrPpo"
      },
      "source": [
        "# Chapter 1 - Introduction <a name=\"one\"></a>"
      ]
    },
    {
      "cell_type": "markdown",
      "metadata": {
        "id": "r0rxtus8rPpp"
      },
      "source": [
        "## 1.1 Objective of the notebook <a name=\"one-one\"></a>"
      ]
    },
    {
      "cell_type": "markdown",
      "metadata": {
        "id": "DE0HmJNRrPpp"
      },
      "source": [
        "The objectif of this notebook is to \n",
        "1. Explain how to run Linear and General Linear Models in Python\n",
        "2. Perform some simple but useful tasks on the two datasets which were introduced during the first session such as\n",
        "    - descriptive analysis\n",
        "    - data manipulation\n",
        "    - Trainig/Test split\n",
        "3. Illustrate the adjustment of Linear models using the Sales Prices database\n",
        "3. Illustrate the adjustment of General Linear models using the MTPL database"
      ]
    },
    {
      "cell_type": "markdown",
      "metadata": {
        "id": "yU_RIz57rPpq"
      },
      "source": [
        "## 1.2 Speakers<a name=\"one-two\"></a>"
      ]
    },
    {
      "cell_type": "markdown",
      "metadata": {
        "id": "iLIn6t7WrPpq"
      },
      "source": [
        "- Samuel Mahy\n",
        "\n",
        "Samuel Mahy is director at Reacfin and head of the Non-Life Center of Excellence. He holds a Master of Engineering in Applied Mathematics and a Master of Actuarial Sciences both from the University of Louvain.\n",
        "\n",
        "contact : samuel.mahy@reacfin.com\n",
        "\n",
        "- Michael Lecuivre\n",
        "\n",
        "Michael Lecuivre is senior consultant Non-Life at Reacfin. He holds a Master of Physics and a Master of Actuarial Sciences both from the University of Louvain.  \n",
        "\n",
        "contact : michael.lecuivre@reacfin.com"
      ]
    },
    {
      "cell_type": "markdown",
      "metadata": {
        "id": "nFS2vEjvrPpr"
      },
      "source": [
        "## 1.3 IT requirements <a name=\"one-three\"></a>"
      ]
    },
    {
      "cell_type": "markdown",
      "metadata": {
        "id": "nnSQZHfurPps"
      },
      "source": [
        "First, download the notebooks by clicking [here](https://gitfront.io/r/katrienantonio/a29071bdc7b2f20f24268be573ef54b68c65168c/IABE-DS-module-1/)\n",
        "\n",
        "\n",
        "\n",
        "You then have two options to join the coding exercises covered during the computer labs.\n",
        "\n",
        "**Google Colab - default!**\n",
        "\n",
        "Google Colaboratory, or “Colab” for short, allows you to write and execute Python in your browser. Having a Google account you should be able to open the notebook and to run the python code cells. You can find [here](https://colab.research.google.com/drive/1xBHj08d1rj4C_IeMGXqwDz-sGGiis40F#scrollTo=rA-4zXBijbX3) a very simple notebook with some first exploratory steps of this research environment. You can store a copy of this notebook on your Google drive, or download a local copy.\n",
        "\n",
        "To open the notebook you have downloaded from [here](https://gitfront.io/r/katrienantonio/a29071bdc7b2f20f24268be573ef54b68c65168c/IABE-DS-module-1/) just perform the following steps : \n",
        "1. go to Google Colab :  https://colab.research.google.com/notebooks/intro.ipynb \n",
        "2. click on **File>Upload notebook**. \n",
        "\n",
        "To execute the code in a code cell, select it with a click and then either press the play button to the left of the code, or use the keyboard shortcut \"Command/Ctrl+Enter\". To edit the code, just click the cell and start editing. Watch [Introduction to Colab](https://www.youtube.com/watch?v=inN8seMm7UI) to learn more.\n",
        "\n",
        "In colab many python libraries are already available by default. If a library is missing it can be installed as explained [here](https://colab.research.google.com/notebooks/snippets/importing_libraries.ipynb)\n",
        "\n",
        "**Local installation - optional**\n",
        "\n",
        "We recommend obtaining your local installation of Python via the distribution platform Anaconda. Here you should\n",
        "\n",
        "- download Anaconda at https://www.anaconda.com/distribution/#download-section, select the version for Python 3.8 and make sure to pick the right operating system (top of the page: select Windows, macOS or Linux)\n",
        "\n",
        "- install Anaconda; this is straightforward after launching the installer, but (in case you are in doubt) some instructions are at https://docs.anaconda.com/anaconda/install/windows/.\n",
        "\n",
        "To open the notebook you have downloaded [here](https://gitfront.io/r/katrienantonio/a29071bdc7b2f20f24268be573ef54b68c65168c/IABE-DS-module-1/) simply\n",
        "\n",
        "1. Launch Anaconda\n",
        "2. Launch Jupiter Notebook from Anaconda main screen\n",
        "3. Open the notebook file stored on your computer\n",
        "\n",
        "In Anaconda many python libraries are already available by default. If a library is missing it can be installed by typing **pip install [library]** in the Anaconda command prompt. In order to be able to run this command you have to install **pip** from [here](https://pip.pypa.io/en/stable/installing/)"
      ]
    },
    {
      "cell_type": "markdown",
      "metadata": {
        "id": "j29z3KBJrPpt"
      },
      "source": [
        "# Chapter 2 - Import of libraries and datasets <a name=\"two\"></a>"
      ]
    },
    {
      "cell_type": "markdown",
      "metadata": {
        "id": "bj1ePTpprPpu"
      },
      "source": [
        "In this chapter, we will explain how to load the required libraries and datasets\n",
        "<br><br>"
      ]
    },
    {
      "cell_type": "markdown",
      "metadata": {
        "id": "TFm7s6EPrPpu"
      },
      "source": [
        "## 2.1 Importing the libraries<a name=\"two-one\"></a>"
      ]
    },
    {
      "cell_type": "markdown",
      "metadata": {
        "id": "ORl5frhtrPpu"
      },
      "source": [
        "First we make sure we are running an up to date version of Pyhton (at least 3.8)"
      ]
    },
    {
      "cell_type": "code",
      "metadata": {
        "colab": {
          "base_uri": "https://localhost:8080/"
        },
        "id": "KLU7Zy-NrPpv",
        "outputId": "9f3c007b-459a-4602-d899-8c586f3abf7a"
      },
      "source": [
        "import sys\n",
        "print (sys.version)"
      ],
      "execution_count": 2,
      "outputs": [
        {
          "output_type": "stream",
          "name": "stdout",
          "text": [
            "3.7.12 (default, Sep 10 2021, 00:21:48) \n",
            "[GCC 7.5.0]\n"
          ]
        }
      ]
    },
    {
      "cell_type": "markdown",
      "metadata": {
        "id": "JncWj2JXrPpw"
      },
      "source": [
        "In this first training we will use the **following libraries**: \n",
        "\n",
        "|Library | Definition                                                                             |\n",
        "|----|---------------------------------------------------------------------------------|\n",
        "| feature_engine | Contains functions related to feature engineering such as one hot encoding,...|\n",
        "| matplotlib | Python 2D plotting library that contains many submodules like pyplot, a matlab-like interface\t|\n",
        "| math | Mathematical functions such as exponential, sine, etc. |\n",
        "| numpy | Fundamental package for scientific computing. Numpy allows the user to integrate C/C++ and Fortran code to Python projects |\n",
        "| pandas | Provides high-performance, easy-to-use data structures and data analysis tools |\n",
        "| seaborn | Allows to plot distributions|\n",
        "| sklearn | Widely used machine learning library with classification, regression, clustering, model selection, preprocessing etc. |\n",
        "| warnings | Allows to handle warnings options|\n",
        "| statmodels | Widely used statistical library with traditional regression models (LM, GLM, ...)|\n",
        "\n",
        "\n"
      ]
    },
    {
      "cell_type": "markdown",
      "metadata": {
        "id": "rFf-0R2DrPpx"
      },
      "source": [
        "After installing the libraries through the use of **pip**, we still have to import them in the notebook for which we can use the `import` statement."
      ]
    },
    {
      "cell_type": "markdown",
      "metadata": {
        "id": "ZmuuQ5RorPpx"
      },
      "source": [
        " "
      ]
    },
    {
      "cell_type": "code",
      "metadata": {
        "id": "hrYpE5EorPpx"
      },
      "source": [
        "import math \n",
        "import warnings; warnings.filterwarnings(\"ignore\") #delete warnings"
      ],
      "execution_count": 3,
      "outputs": []
    },
    {
      "cell_type": "markdown",
      "metadata": {
        "id": "nCPDlHT7rPpy"
      },
      "source": [
        " "
      ]
    },
    {
      "cell_type": "markdown",
      "metadata": {
        "id": "_ZZctGUnrPpy"
      },
      "source": [
        "Basically, we know that we will have to use *pandas* library many times. To **improve the code readability**, we will also use the command `import pandas as pd`. This means that we will be able to use a pandas function using `pd.name_of_a_function`. We will apply the same manipulation for other packages as well such as package *numpy*."
      ]
    },
    {
      "cell_type": "code",
      "metadata": {
        "colab": {
          "base_uri": "https://localhost:8080/"
        },
        "id": "5HKjmFICrPpy",
        "outputId": "59d27cdb-96c1-4b60-bb39-b928baa28317"
      },
      "source": [
        "!pip install feature_engine #in colab as it is not in the evironment by default\n",
        "\n",
        "import pandas as pd\n",
        "import numpy as np\n",
        "import seaborn as sb\n",
        "import matplotlib.pyplot as plt\n",
        "import statsmodels.api as sm\n",
        "import scipy.stats as ss\n"
      ],
      "execution_count": 9,
      "outputs": [
        {
          "output_type": "stream",
          "name": "stdout",
          "text": [
            "Requirement already satisfied: feature_engine in /usr/local/lib/python3.7/dist-packages (1.1.2)\n",
            "Requirement already satisfied: numpy>=1.18.2 in /usr/local/lib/python3.7/dist-packages (from feature_engine) (1.19.5)\n",
            "Requirement already satisfied: statsmodels>=0.11.1 in /usr/local/lib/python3.7/dist-packages (from feature_engine) (0.13.0)\n",
            "Requirement already satisfied: pandas>=1.0.3 in /usr/local/lib/python3.7/dist-packages (from feature_engine) (1.1.5)\n",
            "Requirement already satisfied: scikit-learn>=0.22.2 in /usr/local/lib/python3.7/dist-packages (from feature_engine) (0.22.2.post1)\n",
            "Requirement already satisfied: scipy>=1.4.1 in /usr/local/lib/python3.7/dist-packages (from feature_engine) (1.4.1)\n",
            "Requirement already satisfied: pytz>=2017.2 in /usr/local/lib/python3.7/dist-packages (from pandas>=1.0.3->feature_engine) (2018.9)\n",
            "Requirement already satisfied: python-dateutil>=2.7.3 in /usr/local/lib/python3.7/dist-packages (from pandas>=1.0.3->feature_engine) (2.8.2)\n",
            "Requirement already satisfied: six>=1.5 in /usr/local/lib/python3.7/dist-packages (from python-dateutil>=2.7.3->pandas>=1.0.3->feature_engine) (1.15.0)\n",
            "Requirement already satisfied: joblib>=0.11 in /usr/local/lib/python3.7/dist-packages (from scikit-learn>=0.22.2->feature_engine) (1.0.1)\n",
            "Requirement already satisfied: patsy>=0.5.2 in /usr/local/lib/python3.7/dist-packages (from statsmodels>=0.11.1->feature_engine) (0.5.2)\n"
          ]
        }
      ]
    },
    {
      "cell_type": "markdown",
      "metadata": {
        "id": "dp0jxNKGrPpy"
      },
      "source": [
        "Some libraries, such as *sklearn*, are **too big for the use we will have**. Therefore, we prefer to import only one function, i.e. *train_test_split*, from *sklearn*. The same logic is used for some other libraries:"
      ]
    },
    {
      "cell_type": "code",
      "metadata": {
        "id": "ziYnbCFnrPpy"
      },
      "source": [
        "from sklearn.model_selection import train_test_split\n",
        "from sklearn.model_selection import cross_val_score\n",
        "from sklearn.model_selection import RepeatedStratifiedKFold\n",
        "from sklearn.model_selection import KFold\n",
        "\n",
        "from sklearn.compose import ColumnTransformer\n",
        "from sklearn.preprocessing import StandardScaler, MinMaxScaler\n",
        "from sklearn.pipeline import make_pipeline\n",
        "from sklearn.linear_model import LinearRegression\n",
        "from sklearn.metrics import mean_squared_error\n",
        "\n",
        "\n",
        "from feature_engine.encoding import OrdinalEncoder, OneHotEncoder\n",
        "\n"
      ],
      "execution_count": 10,
      "outputs": []
    },
    {
      "cell_type": "markdown",
      "metadata": {
        "id": "AdqYl5Z9rPpz"
      },
      "source": [
        "This approach has **several benefits**:\n",
        "\n",
        "* Few functions (and their dependences) are loaded;\n",
        "* We can just call the function by its name."
      ]
    },
    {
      "cell_type": "markdown",
      "metadata": {
        "id": "9YnhyTjWrPpz"
      },
      "source": [
        "<br>"
      ]
    },
    {
      "cell_type": "markdown",
      "metadata": {
        "id": "WCFJv6ASrPpz"
      },
      "source": [
        "## 2.2 Importing the data<a name=\"two-two\"></a>"
      ]
    },
    {
      "cell_type": "markdown",
      "metadata": {
        "id": "ACnWaSJHrPpz"
      },
      "source": [
        "For business case purposes, we will use the following datasets : \n",
        "\n",
        "- a dataset describing the sale of individual residential property in Ames, Iowa from 2006 to 2010 (more info [here](http://jse.amstat.org/v19n3/decock/DataDocumentation.txt))\n",
        "- a dataset containing the claim history for Motor Third Party Liability insurance cover \n",
        "\n",
        "If we want to load these files in Python, we can use the function `read_csv()` which belongs to the panda library (which we abbreviated to `pd`)"
      ]
    },
    {
      "cell_type": "code",
      "metadata": {
        "id": "sVquqfnyrPpz"
      },
      "source": [
        "ames_python = pd.read_csv(\"https://katrienantonio.github.io/hands-on-machine-learning-R-module-1/data/ames_python.csv\")\n",
        "mtpl_python = pd.read_csv(\"https://katrienantonio.github.io/hands-on-machine-learning-R-module-1/data/PC_data.txt\", delimiter = \"\\t\")"
      ],
      "execution_count": 11,
      "outputs": []
    },
    {
      "cell_type": "markdown",
      "metadata": {
        "id": "AXRbri4BrPp0"
      },
      "source": [
        "We can check that the import was performed correctly by using the `head()` function."
      ]
    },
    {
      "cell_type": "code",
      "metadata": {
        "colab": {
          "base_uri": "https://localhost:8080/",
          "height": 270
        },
        "id": "WlNm77YRrPp0",
        "outputId": "3151c36e-9313-4135-cc02-eb0901a31949"
      },
      "source": [
        "ames_python.head()\n"
      ],
      "execution_count": 12,
      "outputs": [
        {
          "output_type": "execute_result",
          "data": {
            "text/html": [
              "<div>\n",
              "<style scoped>\n",
              "    .dataframe tbody tr th:only-of-type {\n",
              "        vertical-align: middle;\n",
              "    }\n",
              "\n",
              "    .dataframe tbody tr th {\n",
              "        vertical-align: top;\n",
              "    }\n",
              "\n",
              "    .dataframe thead th {\n",
              "        text-align: right;\n",
              "    }\n",
              "</style>\n",
              "<table border=\"1\" class=\"dataframe\">\n",
              "  <thead>\n",
              "    <tr style=\"text-align: right;\">\n",
              "      <th></th>\n",
              "      <th>Unnamed: 0</th>\n",
              "      <th>MS_SubClass</th>\n",
              "      <th>MS_Zoning</th>\n",
              "      <th>Lot_Frontage</th>\n",
              "      <th>Lot_Area</th>\n",
              "      <th>Street</th>\n",
              "      <th>Alley</th>\n",
              "      <th>Lot_Shape</th>\n",
              "      <th>Land_Contour</th>\n",
              "      <th>Utilities</th>\n",
              "      <th>Lot_Config</th>\n",
              "      <th>Land_Slope</th>\n",
              "      <th>Neighborhood</th>\n",
              "      <th>Condition_1</th>\n",
              "      <th>Condition_2</th>\n",
              "      <th>Bldg_Type</th>\n",
              "      <th>House_Style</th>\n",
              "      <th>Overall_Qual</th>\n",
              "      <th>Overall_Cond</th>\n",
              "      <th>Year_Built</th>\n",
              "      <th>Year_Remod_Add</th>\n",
              "      <th>Roof_Style</th>\n",
              "      <th>Roof_Matl</th>\n",
              "      <th>Exterior_1st</th>\n",
              "      <th>Exterior_2nd</th>\n",
              "      <th>Mas_Vnr_Type</th>\n",
              "      <th>Mas_Vnr_Area</th>\n",
              "      <th>Exter_Qual</th>\n",
              "      <th>Exter_Cond</th>\n",
              "      <th>Foundation</th>\n",
              "      <th>Bsmt_Qual</th>\n",
              "      <th>Bsmt_Cond</th>\n",
              "      <th>Bsmt_Exposure</th>\n",
              "      <th>BsmtFin_Type_1</th>\n",
              "      <th>BsmtFin_SF_1</th>\n",
              "      <th>BsmtFin_Type_2</th>\n",
              "      <th>BsmtFin_SF_2</th>\n",
              "      <th>Bsmt_Unf_SF</th>\n",
              "      <th>Total_Bsmt_SF</th>\n",
              "      <th>Heating</th>\n",
              "      <th>...</th>\n",
              "      <th>Electrical</th>\n",
              "      <th>First_Flr_SF</th>\n",
              "      <th>Second_Flr_SF</th>\n",
              "      <th>Low_Qual_Fin_SF</th>\n",
              "      <th>Gr_Liv_Area</th>\n",
              "      <th>Bsmt_Full_Bath</th>\n",
              "      <th>Bsmt_Half_Bath</th>\n",
              "      <th>Full_Bath</th>\n",
              "      <th>Half_Bath</th>\n",
              "      <th>Bedroom_AbvGr</th>\n",
              "      <th>Kitchen_AbvGr</th>\n",
              "      <th>Kitchen_Qual</th>\n",
              "      <th>TotRms_AbvGrd</th>\n",
              "      <th>Functional</th>\n",
              "      <th>Fireplaces</th>\n",
              "      <th>Fireplace_Qu</th>\n",
              "      <th>Garage_Type</th>\n",
              "      <th>Garage_Finish</th>\n",
              "      <th>Garage_Cars</th>\n",
              "      <th>Garage_Area</th>\n",
              "      <th>Garage_Qual</th>\n",
              "      <th>Garage_Cond</th>\n",
              "      <th>Paved_Drive</th>\n",
              "      <th>Wood_Deck_SF</th>\n",
              "      <th>Open_Porch_SF</th>\n",
              "      <th>Enclosed_Porch</th>\n",
              "      <th>Three_season_porch</th>\n",
              "      <th>Screen_Porch</th>\n",
              "      <th>Pool_Area</th>\n",
              "      <th>Pool_QC</th>\n",
              "      <th>Fence</th>\n",
              "      <th>Misc_Feature</th>\n",
              "      <th>Misc_Val</th>\n",
              "      <th>Mo_Sold</th>\n",
              "      <th>Year_Sold</th>\n",
              "      <th>Sale_Type</th>\n",
              "      <th>Sale_Condition</th>\n",
              "      <th>Sale_Price</th>\n",
              "      <th>Longitude</th>\n",
              "      <th>Latitude</th>\n",
              "    </tr>\n",
              "  </thead>\n",
              "  <tbody>\n",
              "    <tr>\n",
              "      <th>0</th>\n",
              "      <td>1</td>\n",
              "      <td>One_Story_1946_and_Newer_All_Styles</td>\n",
              "      <td>Residential_Low_Density</td>\n",
              "      <td>141</td>\n",
              "      <td>31770</td>\n",
              "      <td>Pave</td>\n",
              "      <td>No_Alley_Access</td>\n",
              "      <td>Slightly_Irregular</td>\n",
              "      <td>Lvl</td>\n",
              "      <td>AllPub</td>\n",
              "      <td>Corner</td>\n",
              "      <td>Gtl</td>\n",
              "      <td>North_Ames</td>\n",
              "      <td>Norm</td>\n",
              "      <td>Norm</td>\n",
              "      <td>OneFam</td>\n",
              "      <td>One_Story</td>\n",
              "      <td>Above_Average</td>\n",
              "      <td>Average</td>\n",
              "      <td>1960</td>\n",
              "      <td>1960</td>\n",
              "      <td>Hip</td>\n",
              "      <td>CompShg</td>\n",
              "      <td>BrkFace</td>\n",
              "      <td>Plywood</td>\n",
              "      <td>Stone</td>\n",
              "      <td>112</td>\n",
              "      <td>Typical</td>\n",
              "      <td>Typical</td>\n",
              "      <td>CBlock</td>\n",
              "      <td>Typical</td>\n",
              "      <td>Good</td>\n",
              "      <td>Gd</td>\n",
              "      <td>BLQ</td>\n",
              "      <td>2</td>\n",
              "      <td>Unf</td>\n",
              "      <td>0</td>\n",
              "      <td>441</td>\n",
              "      <td>1080</td>\n",
              "      <td>GasA</td>\n",
              "      <td>...</td>\n",
              "      <td>SBrkr</td>\n",
              "      <td>1656</td>\n",
              "      <td>0</td>\n",
              "      <td>0</td>\n",
              "      <td>1656</td>\n",
              "      <td>1</td>\n",
              "      <td>0</td>\n",
              "      <td>1</td>\n",
              "      <td>0</td>\n",
              "      <td>3</td>\n",
              "      <td>1</td>\n",
              "      <td>Typical</td>\n",
              "      <td>7</td>\n",
              "      <td>Typ</td>\n",
              "      <td>2</td>\n",
              "      <td>Good</td>\n",
              "      <td>Attchd</td>\n",
              "      <td>Fin</td>\n",
              "      <td>2</td>\n",
              "      <td>528</td>\n",
              "      <td>Typical</td>\n",
              "      <td>Typical</td>\n",
              "      <td>Partial_Pavement</td>\n",
              "      <td>210</td>\n",
              "      <td>62</td>\n",
              "      <td>0</td>\n",
              "      <td>0</td>\n",
              "      <td>0</td>\n",
              "      <td>0</td>\n",
              "      <td>No_Pool</td>\n",
              "      <td>No_Fence</td>\n",
              "      <td>None</td>\n",
              "      <td>0</td>\n",
              "      <td>5</td>\n",
              "      <td>2010</td>\n",
              "      <td>WD</td>\n",
              "      <td>Normal</td>\n",
              "      <td>215000</td>\n",
              "      <td>-93.619754</td>\n",
              "      <td>42.054035</td>\n",
              "    </tr>\n",
              "    <tr>\n",
              "      <th>1</th>\n",
              "      <td>2</td>\n",
              "      <td>One_Story_1946_and_Newer_All_Styles</td>\n",
              "      <td>Residential_High_Density</td>\n",
              "      <td>80</td>\n",
              "      <td>11622</td>\n",
              "      <td>Pave</td>\n",
              "      <td>No_Alley_Access</td>\n",
              "      <td>Regular</td>\n",
              "      <td>Lvl</td>\n",
              "      <td>AllPub</td>\n",
              "      <td>Inside</td>\n",
              "      <td>Gtl</td>\n",
              "      <td>North_Ames</td>\n",
              "      <td>Feedr</td>\n",
              "      <td>Norm</td>\n",
              "      <td>OneFam</td>\n",
              "      <td>One_Story</td>\n",
              "      <td>Average</td>\n",
              "      <td>Above_Average</td>\n",
              "      <td>1961</td>\n",
              "      <td>1961</td>\n",
              "      <td>Gable</td>\n",
              "      <td>CompShg</td>\n",
              "      <td>VinylSd</td>\n",
              "      <td>VinylSd</td>\n",
              "      <td>None</td>\n",
              "      <td>0</td>\n",
              "      <td>Typical</td>\n",
              "      <td>Typical</td>\n",
              "      <td>CBlock</td>\n",
              "      <td>Typical</td>\n",
              "      <td>Typical</td>\n",
              "      <td>No</td>\n",
              "      <td>Rec</td>\n",
              "      <td>6</td>\n",
              "      <td>LwQ</td>\n",
              "      <td>144</td>\n",
              "      <td>270</td>\n",
              "      <td>882</td>\n",
              "      <td>GasA</td>\n",
              "      <td>...</td>\n",
              "      <td>SBrkr</td>\n",
              "      <td>896</td>\n",
              "      <td>0</td>\n",
              "      <td>0</td>\n",
              "      <td>896</td>\n",
              "      <td>0</td>\n",
              "      <td>0</td>\n",
              "      <td>1</td>\n",
              "      <td>0</td>\n",
              "      <td>2</td>\n",
              "      <td>1</td>\n",
              "      <td>Typical</td>\n",
              "      <td>5</td>\n",
              "      <td>Typ</td>\n",
              "      <td>0</td>\n",
              "      <td>No_Fireplace</td>\n",
              "      <td>Attchd</td>\n",
              "      <td>Unf</td>\n",
              "      <td>1</td>\n",
              "      <td>730</td>\n",
              "      <td>Typical</td>\n",
              "      <td>Typical</td>\n",
              "      <td>Paved</td>\n",
              "      <td>140</td>\n",
              "      <td>0</td>\n",
              "      <td>0</td>\n",
              "      <td>0</td>\n",
              "      <td>120</td>\n",
              "      <td>0</td>\n",
              "      <td>No_Pool</td>\n",
              "      <td>Minimum_Privacy</td>\n",
              "      <td>None</td>\n",
              "      <td>0</td>\n",
              "      <td>6</td>\n",
              "      <td>2010</td>\n",
              "      <td>WD</td>\n",
              "      <td>Normal</td>\n",
              "      <td>105000</td>\n",
              "      <td>-93.619756</td>\n",
              "      <td>42.053014</td>\n",
              "    </tr>\n",
              "    <tr>\n",
              "      <th>2</th>\n",
              "      <td>3</td>\n",
              "      <td>One_Story_1946_and_Newer_All_Styles</td>\n",
              "      <td>Residential_Low_Density</td>\n",
              "      <td>81</td>\n",
              "      <td>14267</td>\n",
              "      <td>Pave</td>\n",
              "      <td>No_Alley_Access</td>\n",
              "      <td>Slightly_Irregular</td>\n",
              "      <td>Lvl</td>\n",
              "      <td>AllPub</td>\n",
              "      <td>Corner</td>\n",
              "      <td>Gtl</td>\n",
              "      <td>North_Ames</td>\n",
              "      <td>Norm</td>\n",
              "      <td>Norm</td>\n",
              "      <td>OneFam</td>\n",
              "      <td>One_Story</td>\n",
              "      <td>Above_Average</td>\n",
              "      <td>Above_Average</td>\n",
              "      <td>1958</td>\n",
              "      <td>1958</td>\n",
              "      <td>Hip</td>\n",
              "      <td>CompShg</td>\n",
              "      <td>Wd Sdng</td>\n",
              "      <td>Wd Sdng</td>\n",
              "      <td>BrkFace</td>\n",
              "      <td>108</td>\n",
              "      <td>Typical</td>\n",
              "      <td>Typical</td>\n",
              "      <td>CBlock</td>\n",
              "      <td>Typical</td>\n",
              "      <td>Typical</td>\n",
              "      <td>No</td>\n",
              "      <td>ALQ</td>\n",
              "      <td>1</td>\n",
              "      <td>Unf</td>\n",
              "      <td>0</td>\n",
              "      <td>406</td>\n",
              "      <td>1329</td>\n",
              "      <td>GasA</td>\n",
              "      <td>...</td>\n",
              "      <td>SBrkr</td>\n",
              "      <td>1329</td>\n",
              "      <td>0</td>\n",
              "      <td>0</td>\n",
              "      <td>1329</td>\n",
              "      <td>0</td>\n",
              "      <td>0</td>\n",
              "      <td>1</td>\n",
              "      <td>1</td>\n",
              "      <td>3</td>\n",
              "      <td>1</td>\n",
              "      <td>Good</td>\n",
              "      <td>6</td>\n",
              "      <td>Typ</td>\n",
              "      <td>0</td>\n",
              "      <td>No_Fireplace</td>\n",
              "      <td>Attchd</td>\n",
              "      <td>Unf</td>\n",
              "      <td>1</td>\n",
              "      <td>312</td>\n",
              "      <td>Typical</td>\n",
              "      <td>Typical</td>\n",
              "      <td>Paved</td>\n",
              "      <td>393</td>\n",
              "      <td>36</td>\n",
              "      <td>0</td>\n",
              "      <td>0</td>\n",
              "      <td>0</td>\n",
              "      <td>0</td>\n",
              "      <td>No_Pool</td>\n",
              "      <td>No_Fence</td>\n",
              "      <td>Gar2</td>\n",
              "      <td>12500</td>\n",
              "      <td>6</td>\n",
              "      <td>2010</td>\n",
              "      <td>WD</td>\n",
              "      <td>Normal</td>\n",
              "      <td>172000</td>\n",
              "      <td>-93.619387</td>\n",
              "      <td>42.052659</td>\n",
              "    </tr>\n",
              "    <tr>\n",
              "      <th>3</th>\n",
              "      <td>4</td>\n",
              "      <td>One_Story_1946_and_Newer_All_Styles</td>\n",
              "      <td>Residential_Low_Density</td>\n",
              "      <td>93</td>\n",
              "      <td>11160</td>\n",
              "      <td>Pave</td>\n",
              "      <td>No_Alley_Access</td>\n",
              "      <td>Regular</td>\n",
              "      <td>Lvl</td>\n",
              "      <td>AllPub</td>\n",
              "      <td>Corner</td>\n",
              "      <td>Gtl</td>\n",
              "      <td>North_Ames</td>\n",
              "      <td>Norm</td>\n",
              "      <td>Norm</td>\n",
              "      <td>OneFam</td>\n",
              "      <td>One_Story</td>\n",
              "      <td>Good</td>\n",
              "      <td>Average</td>\n",
              "      <td>1968</td>\n",
              "      <td>1968</td>\n",
              "      <td>Hip</td>\n",
              "      <td>CompShg</td>\n",
              "      <td>BrkFace</td>\n",
              "      <td>BrkFace</td>\n",
              "      <td>None</td>\n",
              "      <td>0</td>\n",
              "      <td>Good</td>\n",
              "      <td>Typical</td>\n",
              "      <td>CBlock</td>\n",
              "      <td>Typical</td>\n",
              "      <td>Typical</td>\n",
              "      <td>No</td>\n",
              "      <td>ALQ</td>\n",
              "      <td>1</td>\n",
              "      <td>Unf</td>\n",
              "      <td>0</td>\n",
              "      <td>1045</td>\n",
              "      <td>2110</td>\n",
              "      <td>GasA</td>\n",
              "      <td>...</td>\n",
              "      <td>SBrkr</td>\n",
              "      <td>2110</td>\n",
              "      <td>0</td>\n",
              "      <td>0</td>\n",
              "      <td>2110</td>\n",
              "      <td>1</td>\n",
              "      <td>0</td>\n",
              "      <td>2</td>\n",
              "      <td>1</td>\n",
              "      <td>3</td>\n",
              "      <td>1</td>\n",
              "      <td>Excellent</td>\n",
              "      <td>8</td>\n",
              "      <td>Typ</td>\n",
              "      <td>2</td>\n",
              "      <td>Typical</td>\n",
              "      <td>Attchd</td>\n",
              "      <td>Fin</td>\n",
              "      <td>2</td>\n",
              "      <td>522</td>\n",
              "      <td>Typical</td>\n",
              "      <td>Typical</td>\n",
              "      <td>Paved</td>\n",
              "      <td>0</td>\n",
              "      <td>0</td>\n",
              "      <td>0</td>\n",
              "      <td>0</td>\n",
              "      <td>0</td>\n",
              "      <td>0</td>\n",
              "      <td>No_Pool</td>\n",
              "      <td>No_Fence</td>\n",
              "      <td>None</td>\n",
              "      <td>0</td>\n",
              "      <td>4</td>\n",
              "      <td>2010</td>\n",
              "      <td>WD</td>\n",
              "      <td>Normal</td>\n",
              "      <td>244000</td>\n",
              "      <td>-93.617320</td>\n",
              "      <td>42.051245</td>\n",
              "    </tr>\n",
              "    <tr>\n",
              "      <th>4</th>\n",
              "      <td>5</td>\n",
              "      <td>Two_Story_1946_and_Newer</td>\n",
              "      <td>Residential_Low_Density</td>\n",
              "      <td>74</td>\n",
              "      <td>13830</td>\n",
              "      <td>Pave</td>\n",
              "      <td>No_Alley_Access</td>\n",
              "      <td>Slightly_Irregular</td>\n",
              "      <td>Lvl</td>\n",
              "      <td>AllPub</td>\n",
              "      <td>Inside</td>\n",
              "      <td>Gtl</td>\n",
              "      <td>Gilbert</td>\n",
              "      <td>Norm</td>\n",
              "      <td>Norm</td>\n",
              "      <td>OneFam</td>\n",
              "      <td>Two_Story</td>\n",
              "      <td>Average</td>\n",
              "      <td>Average</td>\n",
              "      <td>1997</td>\n",
              "      <td>1998</td>\n",
              "      <td>Gable</td>\n",
              "      <td>CompShg</td>\n",
              "      <td>VinylSd</td>\n",
              "      <td>VinylSd</td>\n",
              "      <td>None</td>\n",
              "      <td>0</td>\n",
              "      <td>Typical</td>\n",
              "      <td>Typical</td>\n",
              "      <td>PConc</td>\n",
              "      <td>Good</td>\n",
              "      <td>Typical</td>\n",
              "      <td>No</td>\n",
              "      <td>GLQ</td>\n",
              "      <td>3</td>\n",
              "      <td>Unf</td>\n",
              "      <td>0</td>\n",
              "      <td>137</td>\n",
              "      <td>928</td>\n",
              "      <td>GasA</td>\n",
              "      <td>...</td>\n",
              "      <td>SBrkr</td>\n",
              "      <td>928</td>\n",
              "      <td>701</td>\n",
              "      <td>0</td>\n",
              "      <td>1629</td>\n",
              "      <td>0</td>\n",
              "      <td>0</td>\n",
              "      <td>2</td>\n",
              "      <td>1</td>\n",
              "      <td>3</td>\n",
              "      <td>1</td>\n",
              "      <td>Typical</td>\n",
              "      <td>6</td>\n",
              "      <td>Typ</td>\n",
              "      <td>1</td>\n",
              "      <td>Typical</td>\n",
              "      <td>Attchd</td>\n",
              "      <td>Fin</td>\n",
              "      <td>2</td>\n",
              "      <td>482</td>\n",
              "      <td>Typical</td>\n",
              "      <td>Typical</td>\n",
              "      <td>Paved</td>\n",
              "      <td>212</td>\n",
              "      <td>34</td>\n",
              "      <td>0</td>\n",
              "      <td>0</td>\n",
              "      <td>0</td>\n",
              "      <td>0</td>\n",
              "      <td>No_Pool</td>\n",
              "      <td>Minimum_Privacy</td>\n",
              "      <td>None</td>\n",
              "      <td>0</td>\n",
              "      <td>3</td>\n",
              "      <td>2010</td>\n",
              "      <td>WD</td>\n",
              "      <td>Normal</td>\n",
              "      <td>189900</td>\n",
              "      <td>-93.638933</td>\n",
              "      <td>42.060899</td>\n",
              "    </tr>\n",
              "  </tbody>\n",
              "</table>\n",
              "<p>5 rows × 82 columns</p>\n",
              "</div>"
            ],
            "text/plain": [
              "   Unnamed: 0                          MS_SubClass  ...  Longitude   Latitude\n",
              "0           1  One_Story_1946_and_Newer_All_Styles  ... -93.619754  42.054035\n",
              "1           2  One_Story_1946_and_Newer_All_Styles  ... -93.619756  42.053014\n",
              "2           3  One_Story_1946_and_Newer_All_Styles  ... -93.619387  42.052659\n",
              "3           4  One_Story_1946_and_Newer_All_Styles  ... -93.617320  42.051245\n",
              "4           5             Two_Story_1946_and_Newer  ... -93.638933  42.060899\n",
              "\n",
              "[5 rows x 82 columns]"
            ]
          },
          "metadata": {},
          "execution_count": 12
        }
      ]
    },
    {
      "cell_type": "code",
      "metadata": {
        "scrolled": false,
        "colab": {
          "base_uri": "https://localhost:8080/",
          "height": 204
        },
        "id": "hzx0iZPNrPp0",
        "outputId": "ddfe8d0a-4ee3-461b-9756-b7aa7266b029"
      },
      "source": [
        "mtpl_python.head()\n"
      ],
      "execution_count": 13,
      "outputs": [
        {
          "output_type": "execute_result",
          "data": {
            "text/html": [
              "<div>\n",
              "<style scoped>\n",
              "    .dataframe tbody tr th:only-of-type {\n",
              "        vertical-align: middle;\n",
              "    }\n",
              "\n",
              "    .dataframe tbody tr th {\n",
              "        vertical-align: top;\n",
              "    }\n",
              "\n",
              "    .dataframe thead th {\n",
              "        text-align: right;\n",
              "    }\n",
              "</style>\n",
              "<table border=\"1\" class=\"dataframe\">\n",
              "  <thead>\n",
              "    <tr style=\"text-align: right;\">\n",
              "      <th></th>\n",
              "      <th>ID</th>\n",
              "      <th>NCLAIMS</th>\n",
              "      <th>AMOUNT</th>\n",
              "      <th>AVG</th>\n",
              "      <th>EXP</th>\n",
              "      <th>COVERAGE</th>\n",
              "      <th>FUEL</th>\n",
              "      <th>USE</th>\n",
              "      <th>FLEET</th>\n",
              "      <th>SEX</th>\n",
              "      <th>AGEPH</th>\n",
              "      <th>BM</th>\n",
              "      <th>AGEC</th>\n",
              "      <th>POWER</th>\n",
              "      <th>PC</th>\n",
              "      <th>TOWN</th>\n",
              "      <th>LONG</th>\n",
              "      <th>LAT</th>\n",
              "    </tr>\n",
              "  </thead>\n",
              "  <tbody>\n",
              "    <tr>\n",
              "      <th>0</th>\n",
              "      <td>1</td>\n",
              "      <td>1</td>\n",
              "      <td>1618.001036</td>\n",
              "      <td>1618.001036</td>\n",
              "      <td>1.000000</td>\n",
              "      <td>TPL</td>\n",
              "      <td>gasoline</td>\n",
              "      <td>private</td>\n",
              "      <td>N</td>\n",
              "      <td>male</td>\n",
              "      <td>50</td>\n",
              "      <td>5</td>\n",
              "      <td>12</td>\n",
              "      <td>77</td>\n",
              "      <td>1000</td>\n",
              "      <td>BRUSSEL</td>\n",
              "      <td>4.355223</td>\n",
              "      <td>50.845386</td>\n",
              "    </tr>\n",
              "    <tr>\n",
              "      <th>1</th>\n",
              "      <td>2</td>\n",
              "      <td>0</td>\n",
              "      <td>0.000000</td>\n",
              "      <td>NaN</td>\n",
              "      <td>1.000000</td>\n",
              "      <td>PO</td>\n",
              "      <td>gasoline</td>\n",
              "      <td>private</td>\n",
              "      <td>N</td>\n",
              "      <td>female</td>\n",
              "      <td>64</td>\n",
              "      <td>5</td>\n",
              "      <td>3</td>\n",
              "      <td>66</td>\n",
              "      <td>1000</td>\n",
              "      <td>BRUSSEL</td>\n",
              "      <td>4.355223</td>\n",
              "      <td>50.845386</td>\n",
              "    </tr>\n",
              "    <tr>\n",
              "      <th>2</th>\n",
              "      <td>3</td>\n",
              "      <td>0</td>\n",
              "      <td>0.000000</td>\n",
              "      <td>NaN</td>\n",
              "      <td>1.000000</td>\n",
              "      <td>TPL</td>\n",
              "      <td>diesel</td>\n",
              "      <td>private</td>\n",
              "      <td>N</td>\n",
              "      <td>male</td>\n",
              "      <td>60</td>\n",
              "      <td>0</td>\n",
              "      <td>10</td>\n",
              "      <td>70</td>\n",
              "      <td>1000</td>\n",
              "      <td>BRUSSEL</td>\n",
              "      <td>4.355223</td>\n",
              "      <td>50.845386</td>\n",
              "    </tr>\n",
              "    <tr>\n",
              "      <th>3</th>\n",
              "      <td>4</td>\n",
              "      <td>0</td>\n",
              "      <td>0.000000</td>\n",
              "      <td>NaN</td>\n",
              "      <td>1.000000</td>\n",
              "      <td>TPL</td>\n",
              "      <td>gasoline</td>\n",
              "      <td>private</td>\n",
              "      <td>N</td>\n",
              "      <td>male</td>\n",
              "      <td>77</td>\n",
              "      <td>0</td>\n",
              "      <td>15</td>\n",
              "      <td>57</td>\n",
              "      <td>1000</td>\n",
              "      <td>BRUSSEL</td>\n",
              "      <td>4.355223</td>\n",
              "      <td>50.845386</td>\n",
              "    </tr>\n",
              "    <tr>\n",
              "      <th>4</th>\n",
              "      <td>5</td>\n",
              "      <td>1</td>\n",
              "      <td>155.974606</td>\n",
              "      <td>155.974606</td>\n",
              "      <td>0.046575</td>\n",
              "      <td>TPL</td>\n",
              "      <td>gasoline</td>\n",
              "      <td>private</td>\n",
              "      <td>N</td>\n",
              "      <td>female</td>\n",
              "      <td>28</td>\n",
              "      <td>9</td>\n",
              "      <td>7</td>\n",
              "      <td>70</td>\n",
              "      <td>1000</td>\n",
              "      <td>BRUSSEL</td>\n",
              "      <td>4.355223</td>\n",
              "      <td>50.845386</td>\n",
              "    </tr>\n",
              "  </tbody>\n",
              "</table>\n",
              "</div>"
            ],
            "text/plain": [
              "   ID  NCLAIMS       AMOUNT          AVG  ...    PC     TOWN      LONG        LAT\n",
              "0   1        1  1618.001036  1618.001036  ...  1000  BRUSSEL  4.355223  50.845386\n",
              "1   2        0     0.000000          NaN  ...  1000  BRUSSEL  4.355223  50.845386\n",
              "2   3        0     0.000000          NaN  ...  1000  BRUSSEL  4.355223  50.845386\n",
              "3   4        0     0.000000          NaN  ...  1000  BRUSSEL  4.355223  50.845386\n",
              "4   5        1   155.974606   155.974606  ...  1000  BRUSSEL  4.355223  50.845386\n",
              "\n",
              "[5 rows x 18 columns]"
            ]
          },
          "metadata": {},
          "execution_count": 13
        }
      ]
    },
    {
      "cell_type": "markdown",
      "metadata": {
        "id": "PSUNu05MrPp0"
      },
      "source": [
        "# Chapter 3 - Linear Model on the Sales Price <a name=\"three\"></a>"
      ]
    },
    {
      "cell_type": "markdown",
      "metadata": {
        "id": "jQUSt7uRrPp0"
      },
      "source": [
        "### 3.1 Introduction <a name=\"three-one\"></a> "
      ]
    },
    {
      "cell_type": "markdown",
      "metadata": {
        "id": "7qMakKNYrPp1"
      },
      "source": [
        "We will first start by a very simple linear model to predict the Sales_Price ($y$) in the Ames dataset. We restrict here the possible explanatory variables to the following : \n",
        "\n",
        "- MS Zoning ($x_1$)\n",
        "- Exter_Qual ($x_2$)\n",
        "- Street ($x_3$)\n",
        "- Lot Area ($x_4$)"
      ]
    },
    {
      "cell_type": "markdown",
      "metadata": {
        "id": "Fr880KEHrPp1"
      },
      "source": [
        "The linear model we will fit is the following : \n",
        "\n",
        "$$ y(x_1,x_2,x_3,x_4)\\sim \\mathcal{N}\\big(\\mu(x_1,x_2,x_3,x_4)=\\beta_{0}+\\beta_{x_1}(x_1)+\\beta_{x_2}(x_2)+\\beta_{x_3}(x_3)+\\beta_{x_4}*x_4\\big)$$  \n"
      ]
    },
    {
      "cell_type": "markdown",
      "metadata": {
        "id": "CF_xFDY2rPp1"
      },
      "source": [
        "Where \n",
        "\n",
        "- $ \\mathcal{N} \\mbox{ is the Normal distribution}$\n",
        "- $ \\beta_{0} \\mbox{ is the intercept of the model.} $\n",
        "- $ \\beta_{x}(x) \\mbox{ is the effect of the categorical variable } x \\mbox{ in function of its categories}.$\n",
        "    * $\\mbox{N-1 parameters if N categories}$\n",
        "        * $\\beta_{x}(x=cat_{ref})=0 \\mbox { as this category is assigned to the reference class}$\n",
        "        * $\\beta_{x}(x=cat_{1}),...,\\beta_{x}(x=cat_{N-1}) \\mbox{ to determine}$    \n",
        "- $ \\beta_{x_4} \\mbox{ is the unique parameter linked the continuous variable } x_4$\n",
        "\n",
        "\n",
        "For the street variable for example, there are two possible categories : \n",
        "- Pave\n",
        "- Gravel\n",
        "\n",
        "If the Pave is in the reference class then \n",
        "\n",
        "- $\\beta_{Street}(Street=Pave)=0$\n",
        "- $\\beta_{Street}(Street=Gravel) \\mbox{ is the unique parameter to determine}$\n",
        "\n",
        "For each variable we only have to calibrate the parameters corresponding to the effect of deviating from the reference class. "
      ]
    },
    {
      "cell_type": "markdown",
      "metadata": {
        "id": "iKSZRunJrPp1"
      },
      "source": [
        "### 3.2 Data preparation <a name=\"three-one\"></a>"
      ]
    },
    {
      "cell_type": "markdown",
      "metadata": {
        "id": "sFlZ2CLlrPp1"
      },
      "source": [
        "Let us check the type of the variables of interest in the dataset: "
      ]
    },
    {
      "cell_type": "code",
      "metadata": {
        "colab": {
          "base_uri": "https://localhost:8080/"
        },
        "id": "hGLYBpVyrPp1",
        "outputId": "b50c1436-6d91-40a1-b938-a1f296619fa3"
      },
      "source": [
        "print(\"Ames_Python\")\n",
        "ames_python[[\"MS_Zoning\",\"Lot_Area\",\"Exter_Qual\",\"Street\"]].info()"
      ],
      "execution_count": 14,
      "outputs": [
        {
          "output_type": "stream",
          "name": "stdout",
          "text": [
            "Ames_Python\n",
            "<class 'pandas.core.frame.DataFrame'>\n",
            "RangeIndex: 2930 entries, 0 to 2929\n",
            "Data columns (total 4 columns):\n",
            " #   Column      Non-Null Count  Dtype \n",
            "---  ------      --------------  ----- \n",
            " 0   MS_Zoning   2930 non-null   object\n",
            " 1   Lot_Area    2930 non-null   int64 \n",
            " 2   Exter_Qual  2930 non-null   object\n",
            " 3   Street      2930 non-null   object\n",
            "dtypes: int64(1), object(3)\n",
            "memory usage: 91.7+ KB\n"
          ]
        }
      ]
    },
    {
      "cell_type": "markdown",
      "metadata": {
        "id": "-J-_SpEPrPp2"
      },
      "source": [
        "We convert the object types into category"
      ]
    },
    {
      "cell_type": "code",
      "metadata": {
        "id": "fUJjPrHsrPp2"
      },
      "source": [
        "for c in [\"MS_Zoning\",\"Exter_Qual\",\"Street\"]:\n",
        "    ames_python[c]=pd.Categorical(ames_python[c])\n",
        "    \n"
      ],
      "execution_count": 15,
      "outputs": []
    },
    {
      "cell_type": "code",
      "metadata": {
        "colab": {
          "base_uri": "https://localhost:8080/"
        },
        "id": "lVPdP5G5rPp2",
        "outputId": "ca0341b6-f171-4413-c3a5-4ef7defe17da"
      },
      "source": [
        "print(\"Ames_Python\")\n",
        "ames_python[[\"MS_Zoning\",\"Lot_Area\",\"Exter_Qual\",\"Street\"]].info()"
      ],
      "execution_count": 16,
      "outputs": [
        {
          "output_type": "stream",
          "name": "stdout",
          "text": [
            "Ames_Python\n",
            "<class 'pandas.core.frame.DataFrame'>\n",
            "RangeIndex: 2930 entries, 0 to 2929\n",
            "Data columns (total 4 columns):\n",
            " #   Column      Non-Null Count  Dtype   \n",
            "---  ------      --------------  -----   \n",
            " 0   MS_Zoning   2930 non-null   category\n",
            " 1   Lot_Area    2930 non-null   int64   \n",
            " 2   Exter_Qual  2930 non-null   category\n",
            " 3   Street      2930 non-null   category\n",
            "dtypes: category(3), int64(1)\n",
            "memory usage: 32.2 KB\n"
          ]
        }
      ]
    },
    {
      "cell_type": "markdown",
      "metadata": {
        "id": "PlCbKh3yrPp2"
      },
      "source": [
        "### 3.3 Descriptive analysis <a name=\"three-one\"></a>"
      ]
    },
    {
      "cell_type": "markdown",
      "metadata": {
        "id": "sFisQvXArPp2"
      },
      "source": [
        "Let us check the frequency of the different classes of the categorical variables : "
      ]
    },
    {
      "cell_type": "code",
      "metadata": {
        "id": "DuA5t-ZErPp2"
      },
      "source": [
        "def descriptive_analysis(variable,data):\n",
        "    \n",
        "    Price = data[['Sale_Price']].groupby([data[variable]]).mean().reset_index()\n",
        "    Count = data.groupby([variable]).size().reset_index(name='counts')\n",
        "    table = pd.merge(Price,Count)\n",
        "\n",
        "    #print(table)\n",
        "\n",
        "    plt.rcParams['figure.figsize'] = [15, 6]\n",
        "    table.plot(kind='bar', secondary_y='counts', rot=30)\n",
        "    plt.xticks(range(table.shape[0]),list(table.iloc[:,0]), rotation=30)\n",
        "    plt.show()\n",
        "    \n",
        "    return(table)"
      ],
      "execution_count": 17,
      "outputs": []
    },
    {
      "cell_type": "code",
      "metadata": {
        "scrolled": true,
        "colab": {
          "base_uri": "https://localhost:8080/",
          "height": 694
        },
        "id": "pmol9tvirPp3",
        "outputId": "fd758ae5-7b72-4ab3-ef81-18787da4bd0e"
      },
      "source": [
        "descriptive_analysis('MS_Zoning',ames_python)"
      ],
      "execution_count": 18,
      "outputs": [
        {
          "output_type": "display_data",
          "data": {
            "image/png": "[encoded data removed]",
            "text/plain": [
              "<Figure size 1080x432 with 2 Axes>"
            ]
          },
          "metadata": {
            "needs_background": "light"
          }
        },
        {
          "output_type": "execute_result",
          "data": {
            "text/html": [
              "<div>\n",
              "<style scoped>\n",
              "    .dataframe tbody tr th:only-of-type {\n",
              "        vertical-align: middle;\n",
              "    }\n",
              "\n",
              "    .dataframe tbody tr th {\n",
              "        vertical-align: top;\n",
              "    }\n",
              "\n",
              "    .dataframe thead th {\n",
              "        text-align: right;\n",
              "    }\n",
              "</style>\n",
              "<table border=\"1\" class=\"dataframe\">\n",
              "  <thead>\n",
              "    <tr style=\"text-align: right;\">\n",
              "      <th></th>\n",
              "      <th>MS_Zoning</th>\n",
              "      <th>Sale_Price</th>\n",
              "      <th>counts</th>\n",
              "    </tr>\n",
              "  </thead>\n",
              "  <tbody>\n",
              "    <tr>\n",
              "      <th>0</th>\n",
              "      <td>A_agr</td>\n",
              "      <td>47300.000000</td>\n",
              "      <td>2</td>\n",
              "    </tr>\n",
              "    <tr>\n",
              "      <th>1</th>\n",
              "      <td>C_all</td>\n",
              "      <td>79795.040000</td>\n",
              "      <td>25</td>\n",
              "    </tr>\n",
              "    <tr>\n",
              "      <th>2</th>\n",
              "      <td>Floating_Village_Residential</td>\n",
              "      <td>218986.949640</td>\n",
              "      <td>139</td>\n",
              "    </tr>\n",
              "    <tr>\n",
              "      <th>3</th>\n",
              "      <td>I_all</td>\n",
              "      <td>80312.500000</td>\n",
              "      <td>2</td>\n",
              "    </tr>\n",
              "    <tr>\n",
              "      <th>4</th>\n",
              "      <td>Residential_High_Density</td>\n",
              "      <td>136419.777778</td>\n",
              "      <td>27</td>\n",
              "    </tr>\n",
              "    <tr>\n",
              "      <th>5</th>\n",
              "      <td>Residential_Low_Density</td>\n",
              "      <td>191283.251650</td>\n",
              "      <td>2273</td>\n",
              "    </tr>\n",
              "    <tr>\n",
              "      <th>6</th>\n",
              "      <td>Residential_Medium_Density</td>\n",
              "      <td>126781.393939</td>\n",
              "      <td>462</td>\n",
              "    </tr>\n",
              "  </tbody>\n",
              "</table>\n",
              "</div>"
            ],
            "text/plain": [
              "                      MS_Zoning     Sale_Price  counts\n",
              "0                         A_agr   47300.000000       2\n",
              "1                         C_all   79795.040000      25\n",
              "2  Floating_Village_Residential  218986.949640     139\n",
              "3                         I_all   80312.500000       2\n",
              "4      Residential_High_Density  136419.777778      27\n",
              "5       Residential_Low_Density  191283.251650    2273\n",
              "6    Residential_Medium_Density  126781.393939     462"
            ]
          },
          "metadata": {},
          "execution_count": 18
        }
      ]
    },
    {
      "cell_type": "markdown",
      "metadata": {
        "id": "8nRfOxnEvHXq"
      },
      "source": [
        "One can notice already the wide range of Sales Prices according the selected variables. It is also interesting to notice the unequal distribution of the observations between the different categories."
      ]
    },
    {
      "cell_type": "markdown",
      "metadata": {
        "id": "LD5kR1oGrPp3"
      },
      "source": [
        "### 3.4 Split Training/Test set <a name=\"three-one\"></a>"
      ]
    },
    {
      "cell_type": "markdown",
      "metadata": {
        "id": "-A3zBpt3rPp3"
      },
      "source": [
        "Before adjusting the linear model, we create a training/test split in stratified way with respect to the target variable. In order to do so we apply the procedure ```Cut``` and ```train_test_split``` that were introduced during the first sessions.\n",
        "\n",
        "First, we categorize the response variable *Sales_Price* into 20 bins. We create the bins using the ```linspace``` function from the *numpy* package and we then feed those bins to the ```cut``` function from the *panda* package which will categorize the *Sales_Price* according to the bins.\n",
        "\n",
        "Once this is done we use the ```train_test_split``` function from *sklearn* to create a training and test set using stratified sampling according to the ```y_cat``` variable. We choose to build a training set which corresponds to 70% of the initial dataset. Because we do the sampling in a stratified way it means that we will perform the 70%-30% separately in each category of ```y_cat```. It means that the distribution of ```y_cat``` over the full dataset will be preserved in the training and test sets.\n"
      ]
    },
    {
      "cell_type": "code",
      "metadata": {
        "scrolled": true,
        "colab": {
          "base_uri": "https://localhost:8080/",
          "height": 350
        },
        "id": "M41Odbu1rPp3",
        "outputId": "5f05c34f-728a-41eb-8734-88c02aa0b229"
      },
      "source": [
        "np.random.seed(123)\n",
        "\n",
        "bins = np.linspace(ames_python.Sale_Price.min(),ames_python.Sale_Price.max(), 20 ) \n",
        "y_cat = pd.cut(ames_python.Sale_Price,bins=bins,include_lowest=True) \n",
        "ames_python_X = ames_python.drop(labels=['Sale_Price'], axis=1) \n",
        "ames_python_X_train, ames_python_X_test, ames_python_y_train, ames_python_y_test = train_test_split(ames_python_X,ames_python.Sale_Price, test_size=0.3, stratify=y_cat)\n",
        "\n",
        "ames_python_train=ames_python_X_train\n",
        "ames_python_train[\"Sale_Price\"]=ames_python_y_train\n",
        "\n",
        "ames_python_test=ames_python_X_test\n",
        "ames_python_test[\"Sale_Price\"]=ames_python_y_test\n",
        "\n",
        "#create dataframe from different vector lengths\n",
        "\n",
        "df1 = pd.DataFrame(ames_python_y_train)\n",
        "df2= pd.DataFrame(ames_python_y_test)\n",
        "plot_pd = pd.concat([df1,df2], ignore_index=True, axis=1)\n",
        "\n",
        "#rename columns for x-label\n",
        "plot_pd.columns = ['scikit-learn: Sale Price train', 'scikit-learn: Sale Price test']\n",
        "\n",
        "#plot \n",
        "\n",
        "fig, axs = plt.subplots(ncols=1, figsize=(10,5));\n",
        "sb.kdeplot(plot_pd['scikit-learn: Sale Price train'], ax = axs, color='r').set(title='scikit-learn');\n",
        "sb.kdeplot(plot_pd['scikit-learn: Sale Price test'], ax = axs, color='k');\n",
        "plt.show()"
      ],
      "execution_count": 19,
      "outputs": [
        {
          "output_type": "display_data",
          "data": {
            "image/png": "[encoded data removed]",
            "text/plain": [
              "<Figure size 720x360 with 1 Axes>"
            ]
          },
          "metadata": {
            "needs_background": "light"
          }
        }
      ]
    },
    {
      "cell_type": "code",
      "metadata": {
        "colab": {
          "base_uri": "https://localhost:8080/",
          "height": 270
        },
        "id": "p369mrTfrPp6",
        "outputId": "66e70057-fb97-4b7d-a63f-d41ee43d7e2b"
      },
      "source": [
        "ames_python_train.head()"
      ],
      "execution_count": 20,
      "outputs": [
        {
          "output_type": "execute_result",
          "data": {
            "text/html": [
              "<div>\n",
              "<style scoped>\n",
              "    .dataframe tbody tr th:only-of-type {\n",
              "        vertical-align: middle;\n",
              "    }\n",
              "\n",
              "    .dataframe tbody tr th {\n",
              "        vertical-align: top;\n",
              "    }\n",
              "\n",
              "    .dataframe thead th {\n",
              "        text-align: right;\n",
              "    }\n",
              "</style>\n",
              "<table border=\"1\" class=\"dataframe\">\n",
              "  <thead>\n",
              "    <tr style=\"text-align: right;\">\n",
              "      <th></th>\n",
              "      <th>Unnamed: 0</th>\n",
              "      <th>MS_SubClass</th>\n",
              "      <th>MS_Zoning</th>\n",
              "      <th>Lot_Frontage</th>\n",
              "      <th>Lot_Area</th>\n",
              "      <th>Street</th>\n",
              "      <th>Alley</th>\n",
              "      <th>Lot_Shape</th>\n",
              "      <th>Land_Contour</th>\n",
              "      <th>Utilities</th>\n",
              "      <th>Lot_Config</th>\n",
              "      <th>Land_Slope</th>\n",
              "      <th>Neighborhood</th>\n",
              "      <th>Condition_1</th>\n",
              "      <th>Condition_2</th>\n",
              "      <th>Bldg_Type</th>\n",
              "      <th>House_Style</th>\n",
              "      <th>Overall_Qual</th>\n",
              "      <th>Overall_Cond</th>\n",
              "      <th>Year_Built</th>\n",
              "      <th>Year_Remod_Add</th>\n",
              "      <th>Roof_Style</th>\n",
              "      <th>Roof_Matl</th>\n",
              "      <th>Exterior_1st</th>\n",
              "      <th>Exterior_2nd</th>\n",
              "      <th>Mas_Vnr_Type</th>\n",
              "      <th>Mas_Vnr_Area</th>\n",
              "      <th>Exter_Qual</th>\n",
              "      <th>Exter_Cond</th>\n",
              "      <th>Foundation</th>\n",
              "      <th>Bsmt_Qual</th>\n",
              "      <th>Bsmt_Cond</th>\n",
              "      <th>Bsmt_Exposure</th>\n",
              "      <th>BsmtFin_Type_1</th>\n",
              "      <th>BsmtFin_SF_1</th>\n",
              "      <th>BsmtFin_Type_2</th>\n",
              "      <th>BsmtFin_SF_2</th>\n",
              "      <th>Bsmt_Unf_SF</th>\n",
              "      <th>Total_Bsmt_SF</th>\n",
              "      <th>Heating</th>\n",
              "      <th>...</th>\n",
              "      <th>Electrical</th>\n",
              "      <th>First_Flr_SF</th>\n",
              "      <th>Second_Flr_SF</th>\n",
              "      <th>Low_Qual_Fin_SF</th>\n",
              "      <th>Gr_Liv_Area</th>\n",
              "      <th>Bsmt_Full_Bath</th>\n",
              "      <th>Bsmt_Half_Bath</th>\n",
              "      <th>Full_Bath</th>\n",
              "      <th>Half_Bath</th>\n",
              "      <th>Bedroom_AbvGr</th>\n",
              "      <th>Kitchen_AbvGr</th>\n",
              "      <th>Kitchen_Qual</th>\n",
              "      <th>TotRms_AbvGrd</th>\n",
              "      <th>Functional</th>\n",
              "      <th>Fireplaces</th>\n",
              "      <th>Fireplace_Qu</th>\n",
              "      <th>Garage_Type</th>\n",
              "      <th>Garage_Finish</th>\n",
              "      <th>Garage_Cars</th>\n",
              "      <th>Garage_Area</th>\n",
              "      <th>Garage_Qual</th>\n",
              "      <th>Garage_Cond</th>\n",
              "      <th>Paved_Drive</th>\n",
              "      <th>Wood_Deck_SF</th>\n",
              "      <th>Open_Porch_SF</th>\n",
              "      <th>Enclosed_Porch</th>\n",
              "      <th>Three_season_porch</th>\n",
              "      <th>Screen_Porch</th>\n",
              "      <th>Pool_Area</th>\n",
              "      <th>Pool_QC</th>\n",
              "      <th>Fence</th>\n",
              "      <th>Misc_Feature</th>\n",
              "      <th>Misc_Val</th>\n",
              "      <th>Mo_Sold</th>\n",
              "      <th>Year_Sold</th>\n",
              "      <th>Sale_Type</th>\n",
              "      <th>Sale_Condition</th>\n",
              "      <th>Longitude</th>\n",
              "      <th>Latitude</th>\n",
              "      <th>Sale_Price</th>\n",
              "    </tr>\n",
              "  </thead>\n",
              "  <tbody>\n",
              "    <tr>\n",
              "      <th>1988</th>\n",
              "      <td>1989</td>\n",
              "      <td>One_Story_1945_and_Older</td>\n",
              "      <td>Residential_Medium_Density</td>\n",
              "      <td>60</td>\n",
              "      <td>8520</td>\n",
              "      <td>Pave</td>\n",
              "      <td>No_Alley_Access</td>\n",
              "      <td>Regular</td>\n",
              "      <td>Lvl</td>\n",
              "      <td>AllPub</td>\n",
              "      <td>Inside</td>\n",
              "      <td>Gtl</td>\n",
              "      <td>Old_Town</td>\n",
              "      <td>Norm</td>\n",
              "      <td>Norm</td>\n",
              "      <td>OneFam</td>\n",
              "      <td>One_Story</td>\n",
              "      <td>Average</td>\n",
              "      <td>Above_Average</td>\n",
              "      <td>1923</td>\n",
              "      <td>2006</td>\n",
              "      <td>Gable</td>\n",
              "      <td>CompShg</td>\n",
              "      <td>Wd Sdng</td>\n",
              "      <td>Wd Sdng</td>\n",
              "      <td>None</td>\n",
              "      <td>0</td>\n",
              "      <td>Good</td>\n",
              "      <td>Typical</td>\n",
              "      <td>CBlock</td>\n",
              "      <td>Typical</td>\n",
              "      <td>Typical</td>\n",
              "      <td>No</td>\n",
              "      <td>Unf</td>\n",
              "      <td>7</td>\n",
              "      <td>Unf</td>\n",
              "      <td>0</td>\n",
              "      <td>968</td>\n",
              "      <td>968</td>\n",
              "      <td>GasA</td>\n",
              "      <td>...</td>\n",
              "      <td>SBrkr</td>\n",
              "      <td>968</td>\n",
              "      <td>0</td>\n",
              "      <td>0</td>\n",
              "      <td>968</td>\n",
              "      <td>0</td>\n",
              "      <td>0</td>\n",
              "      <td>1</td>\n",
              "      <td>0</td>\n",
              "      <td>2</td>\n",
              "      <td>1</td>\n",
              "      <td>Typical</td>\n",
              "      <td>5</td>\n",
              "      <td>Typ</td>\n",
              "      <td>0</td>\n",
              "      <td>No_Fireplace</td>\n",
              "      <td>Detchd</td>\n",
              "      <td>Unf</td>\n",
              "      <td>2</td>\n",
              "      <td>480</td>\n",
              "      <td>Fair</td>\n",
              "      <td>Typical</td>\n",
              "      <td>Dirt_Gravel</td>\n",
              "      <td>0</td>\n",
              "      <td>0</td>\n",
              "      <td>184</td>\n",
              "      <td>0</td>\n",
              "      <td>0</td>\n",
              "      <td>0</td>\n",
              "      <td>No_Pool</td>\n",
              "      <td>No_Fence</td>\n",
              "      <td>None</td>\n",
              "      <td>0</td>\n",
              "      <td>7</td>\n",
              "      <td>2007</td>\n",
              "      <td>WD</td>\n",
              "      <td>Normal</td>\n",
              "      <td>-93.606789</td>\n",
              "      <td>42.030311</td>\n",
              "      <td>100000</td>\n",
              "    </tr>\n",
              "    <tr>\n",
              "      <th>2521</th>\n",
              "      <td>2522</td>\n",
              "      <td>One_Story_PUD_1946_and_Newer</td>\n",
              "      <td>Residential_Low_Density</td>\n",
              "      <td>40</td>\n",
              "      <td>3876</td>\n",
              "      <td>Pave</td>\n",
              "      <td>No_Alley_Access</td>\n",
              "      <td>Slightly_Irregular</td>\n",
              "      <td>Lvl</td>\n",
              "      <td>AllPub</td>\n",
              "      <td>Inside</td>\n",
              "      <td>Gtl</td>\n",
              "      <td>Greens</td>\n",
              "      <td>Norm</td>\n",
              "      <td>Norm</td>\n",
              "      <td>Twnhs</td>\n",
              "      <td>One_Story</td>\n",
              "      <td>Very_Good</td>\n",
              "      <td>Average</td>\n",
              "      <td>1978</td>\n",
              "      <td>1978</td>\n",
              "      <td>Gable</td>\n",
              "      <td>CompShg</td>\n",
              "      <td>Wd Sdng</td>\n",
              "      <td>Plywood</td>\n",
              "      <td>None</td>\n",
              "      <td>0</td>\n",
              "      <td>Good</td>\n",
              "      <td>Typical</td>\n",
              "      <td>CBlock</td>\n",
              "      <td>Good</td>\n",
              "      <td>Typical</td>\n",
              "      <td>Gd</td>\n",
              "      <td>GLQ</td>\n",
              "      <td>3</td>\n",
              "      <td>Rec</td>\n",
              "      <td>526</td>\n",
              "      <td>48</td>\n",
              "      <td>1226</td>\n",
              "      <td>GasA</td>\n",
              "      <td>...</td>\n",
              "      <td>SBrkr</td>\n",
              "      <td>1226</td>\n",
              "      <td>0</td>\n",
              "      <td>0</td>\n",
              "      <td>1226</td>\n",
              "      <td>1</td>\n",
              "      <td>0</td>\n",
              "      <td>1</td>\n",
              "      <td>0</td>\n",
              "      <td>1</td>\n",
              "      <td>1</td>\n",
              "      <td>Good</td>\n",
              "      <td>4</td>\n",
              "      <td>Typ</td>\n",
              "      <td>1</td>\n",
              "      <td>Typical</td>\n",
              "      <td>Attchd</td>\n",
              "      <td>Fin</td>\n",
              "      <td>2</td>\n",
              "      <td>484</td>\n",
              "      <td>Typical</td>\n",
              "      <td>Typical</td>\n",
              "      <td>Paved</td>\n",
              "      <td>133</td>\n",
              "      <td>60</td>\n",
              "      <td>0</td>\n",
              "      <td>0</td>\n",
              "      <td>0</td>\n",
              "      <td>0</td>\n",
              "      <td>No_Pool</td>\n",
              "      <td>No_Fence</td>\n",
              "      <td>None</td>\n",
              "      <td>0</td>\n",
              "      <td>7</td>\n",
              "      <td>2006</td>\n",
              "      <td>WD</td>\n",
              "      <td>Normal</td>\n",
              "      <td>-93.649329</td>\n",
              "      <td>42.043351</td>\n",
              "      <td>170000</td>\n",
              "    </tr>\n",
              "    <tr>\n",
              "      <th>463</th>\n",
              "      <td>464</td>\n",
              "      <td>Two_Story_PUD_1946_and_Newer</td>\n",
              "      <td>Residential_Low_Density</td>\n",
              "      <td>36</td>\n",
              "      <td>2268</td>\n",
              "      <td>Pave</td>\n",
              "      <td>No_Alley_Access</td>\n",
              "      <td>Regular</td>\n",
              "      <td>Lvl</td>\n",
              "      <td>AllPub</td>\n",
              "      <td>Inside</td>\n",
              "      <td>Gtl</td>\n",
              "      <td>Northridge_Heights</td>\n",
              "      <td>Norm</td>\n",
              "      <td>Norm</td>\n",
              "      <td>Twnhs</td>\n",
              "      <td>Two_Story</td>\n",
              "      <td>Good</td>\n",
              "      <td>Average</td>\n",
              "      <td>2003</td>\n",
              "      <td>2004</td>\n",
              "      <td>Gable</td>\n",
              "      <td>CompShg</td>\n",
              "      <td>VinylSd</td>\n",
              "      <td>Wd Shng</td>\n",
              "      <td>Stone</td>\n",
              "      <td>106</td>\n",
              "      <td>Good</td>\n",
              "      <td>Typical</td>\n",
              "      <td>PConc</td>\n",
              "      <td>Good</td>\n",
              "      <td>Typical</td>\n",
              "      <td>No</td>\n",
              "      <td>GLQ</td>\n",
              "      <td>3</td>\n",
              "      <td>Unf</td>\n",
              "      <td>0</td>\n",
              "      <td>197</td>\n",
              "      <td>764</td>\n",
              "      <td>GasA</td>\n",
              "      <td>...</td>\n",
              "      <td>SBrkr</td>\n",
              "      <td>764</td>\n",
              "      <td>862</td>\n",
              "      <td>0</td>\n",
              "      <td>1626</td>\n",
              "      <td>0</td>\n",
              "      <td>0</td>\n",
              "      <td>2</td>\n",
              "      <td>0</td>\n",
              "      <td>2</td>\n",
              "      <td>1</td>\n",
              "      <td>Good</td>\n",
              "      <td>6</td>\n",
              "      <td>Typ</td>\n",
              "      <td>0</td>\n",
              "      <td>No_Fireplace</td>\n",
              "      <td>BuiltIn</td>\n",
              "      <td>RFn</td>\n",
              "      <td>2</td>\n",
              "      <td>474</td>\n",
              "      <td>Typical</td>\n",
              "      <td>Typical</td>\n",
              "      <td>Paved</td>\n",
              "      <td>0</td>\n",
              "      <td>27</td>\n",
              "      <td>0</td>\n",
              "      <td>0</td>\n",
              "      <td>0</td>\n",
              "      <td>0</td>\n",
              "      <td>No_Pool</td>\n",
              "      <td>No_Fence</td>\n",
              "      <td>None</td>\n",
              "      <td>0</td>\n",
              "      <td>7</td>\n",
              "      <td>2009</td>\n",
              "      <td>WD</td>\n",
              "      <td>Normal</td>\n",
              "      <td>-93.650238</td>\n",
              "      <td>42.057467</td>\n",
              "      <td>173000</td>\n",
              "    </tr>\n",
              "    <tr>\n",
              "      <th>2067</th>\n",
              "      <td>2068</td>\n",
              "      <td>One_and_Half_Story_Finished_All_Ages</td>\n",
              "      <td>Residential_Low_Density</td>\n",
              "      <td>70</td>\n",
              "      <td>6960</td>\n",
              "      <td>Pave</td>\n",
              "      <td>No_Alley_Access</td>\n",
              "      <td>Regular</td>\n",
              "      <td>Lvl</td>\n",
              "      <td>AllPub</td>\n",
              "      <td>Inside</td>\n",
              "      <td>Gtl</td>\n",
              "      <td>Sawyer</td>\n",
              "      <td>Norm</td>\n",
              "      <td>Norm</td>\n",
              "      <td>OneFam</td>\n",
              "      <td>One_and_Half_Fin</td>\n",
              "      <td>Good</td>\n",
              "      <td>Very_Good</td>\n",
              "      <td>1940</td>\n",
              "      <td>1998</td>\n",
              "      <td>Gable</td>\n",
              "      <td>CompShg</td>\n",
              "      <td>Wd Sdng</td>\n",
              "      <td>Wd Sdng</td>\n",
              "      <td>None</td>\n",
              "      <td>0</td>\n",
              "      <td>Typical</td>\n",
              "      <td>Typical</td>\n",
              "      <td>BrkTil</td>\n",
              "      <td>Typical</td>\n",
              "      <td>Typical</td>\n",
              "      <td>No</td>\n",
              "      <td>ALQ</td>\n",
              "      <td>1</td>\n",
              "      <td>Unf</td>\n",
              "      <td>0</td>\n",
              "      <td>422</td>\n",
              "      <td>680</td>\n",
              "      <td>GasA</td>\n",
              "      <td>...</td>\n",
              "      <td>FuseA</td>\n",
              "      <td>798</td>\n",
              "      <td>504</td>\n",
              "      <td>0</td>\n",
              "      <td>1302</td>\n",
              "      <td>0</td>\n",
              "      <td>0</td>\n",
              "      <td>1</td>\n",
              "      <td>1</td>\n",
              "      <td>2</td>\n",
              "      <td>1</td>\n",
              "      <td>Good</td>\n",
              "      <td>6</td>\n",
              "      <td>Typ</td>\n",
              "      <td>2</td>\n",
              "      <td>Good</td>\n",
              "      <td>Attchd</td>\n",
              "      <td>Unf</td>\n",
              "      <td>1</td>\n",
              "      <td>224</td>\n",
              "      <td>Typical</td>\n",
              "      <td>Typical</td>\n",
              "      <td>Paved</td>\n",
              "      <td>0</td>\n",
              "      <td>0</td>\n",
              "      <td>0</td>\n",
              "      <td>0</td>\n",
              "      <td>126</td>\n",
              "      <td>0</td>\n",
              "      <td>No_Pool</td>\n",
              "      <td>Minimum_Privacy</td>\n",
              "      <td>None</td>\n",
              "      <td>0</td>\n",
              "      <td>7</td>\n",
              "      <td>2007</td>\n",
              "      <td>WD</td>\n",
              "      <td>Normal</td>\n",
              "      <td>-93.660691</td>\n",
              "      <td>42.032638</td>\n",
              "      <td>165250</td>\n",
              "    </tr>\n",
              "    <tr>\n",
              "      <th>482</th>\n",
              "      <td>483</td>\n",
              "      <td>One_Story_PUD_1946_and_Newer</td>\n",
              "      <td>Residential_Low_Density</td>\n",
              "      <td>34</td>\n",
              "      <td>5063</td>\n",
              "      <td>Pave</td>\n",
              "      <td>No_Alley_Access</td>\n",
              "      <td>Regular</td>\n",
              "      <td>Lvl</td>\n",
              "      <td>AllPub</td>\n",
              "      <td>Inside</td>\n",
              "      <td>Gtl</td>\n",
              "      <td>Northridge_Heights</td>\n",
              "      <td>Norm</td>\n",
              "      <td>Norm</td>\n",
              "      <td>Twnhs</td>\n",
              "      <td>One_Story</td>\n",
              "      <td>Good</td>\n",
              "      <td>Average</td>\n",
              "      <td>2007</td>\n",
              "      <td>2008</td>\n",
              "      <td>Gable</td>\n",
              "      <td>CompShg</td>\n",
              "      <td>VinylSd</td>\n",
              "      <td>VinylSd</td>\n",
              "      <td>Stone</td>\n",
              "      <td>166</td>\n",
              "      <td>Good</td>\n",
              "      <td>Typical</td>\n",
              "      <td>PConc</td>\n",
              "      <td>Good</td>\n",
              "      <td>Typical</td>\n",
              "      <td>No</td>\n",
              "      <td>GLQ</td>\n",
              "      <td>3</td>\n",
              "      <td>Unf</td>\n",
              "      <td>0</td>\n",
              "      <td>410</td>\n",
              "      <td>1314</td>\n",
              "      <td>GasA</td>\n",
              "      <td>...</td>\n",
              "      <td>SBrkr</td>\n",
              "      <td>1314</td>\n",
              "      <td>0</td>\n",
              "      <td>0</td>\n",
              "      <td>1314</td>\n",
              "      <td>1</td>\n",
              "      <td>0</td>\n",
              "      <td>2</td>\n",
              "      <td>0</td>\n",
              "      <td>2</td>\n",
              "      <td>1</td>\n",
              "      <td>Good</td>\n",
              "      <td>6</td>\n",
              "      <td>Typ</td>\n",
              "      <td>1</td>\n",
              "      <td>Good</td>\n",
              "      <td>Attchd</td>\n",
              "      <td>RFn</td>\n",
              "      <td>2</td>\n",
              "      <td>626</td>\n",
              "      <td>Typical</td>\n",
              "      <td>Typical</td>\n",
              "      <td>Paved</td>\n",
              "      <td>172</td>\n",
              "      <td>62</td>\n",
              "      <td>0</td>\n",
              "      <td>0</td>\n",
              "      <td>0</td>\n",
              "      <td>0</td>\n",
              "      <td>No_Pool</td>\n",
              "      <td>No_Fence</td>\n",
              "      <td>None</td>\n",
              "      <td>0</td>\n",
              "      <td>4</td>\n",
              "      <td>2009</td>\n",
              "      <td>ConLw</td>\n",
              "      <td>Normal</td>\n",
              "      <td>-93.649649</td>\n",
              "      <td>42.058368</td>\n",
              "      <td>207500</td>\n",
              "    </tr>\n",
              "  </tbody>\n",
              "</table>\n",
              "<p>5 rows × 82 columns</p>\n",
              "</div>"
            ],
            "text/plain": [
              "      Unnamed: 0                           MS_SubClass  ...   Latitude  Sale_Price\n",
              "1988        1989              One_Story_1945_and_Older  ...  42.030311      100000\n",
              "2521        2522          One_Story_PUD_1946_and_Newer  ...  42.043351      170000\n",
              "463          464          Two_Story_PUD_1946_and_Newer  ...  42.057467      173000\n",
              "2067        2068  One_and_Half_Story_Finished_All_Ages  ...  42.032638      165250\n",
              "482          483          One_Story_PUD_1946_and_Newer  ...  42.058368      207500\n",
              "\n",
              "[5 rows x 82 columns]"
            ]
          },
          "metadata": {},
          "execution_count": 20
        }
      ]
    },
    {
      "cell_type": "markdown",
      "metadata": {
        "id": "nBekCjQTrPp6"
      },
      "source": [
        "### 3.5 Model training <a name=\"three-two\"></a>"
      ]
    },
    {
      "cell_type": "markdown",
      "metadata": {
        "id": "eqhbb_jDrPp6"
      },
      "source": [
        "### 3.5.1 Initial fit <a name=\"three-two\"></a>"
      ]
    },
    {
      "cell_type": "markdown",
      "metadata": {
        "id": "4vInnJmYrPp6"
      },
      "source": [
        "We can fit the linear model by using the ```ols()``` funtion of the *statsmodel* package"
      ]
    },
    {
      "cell_type": "code",
      "metadata": {
        "id": "3MSFKYkbrPp7"
      },
      "source": [
        "LM_model_0 = sm.formula.ols(\"Sale_Price ~ MS_Zoning + Exter_Qual + Street + Lot_Area\",data = ames_python_train)\n",
        "LM_model_0_result=LM_model_0.fit()\n"
      ],
      "execution_count": 21,
      "outputs": []
    },
    {
      "cell_type": "markdown",
      "metadata": {
        "id": "QOVoMLbHrPp7"
      },
      "source": [
        "We can have an overview of the model using the ```summary()``` function : "
      ]
    },
    {
      "cell_type": "code",
      "metadata": {
        "colab": {
          "base_uri": "https://localhost:8080/"
        },
        "id": "YqTGbMRJrPp7",
        "outputId": "234548aa-4a7e-465e-f3d9-33c25674cc26"
      },
      "source": [
        "print(LM_model_0_result.summary())"
      ],
      "execution_count": 22,
      "outputs": [
        {
          "output_type": "stream",
          "name": "stdout",
          "text": [
            "                            OLS Regression Results                            \n",
            "==============================================================================\n",
            "Dep. Variable:             Sale_Price   R-squared:                       0.575\n",
            "Model:                            OLS   Adj. R-squared:                  0.573\n",
            "Method:                 Least Squares   F-statistic:                     251.1\n",
            "Date:                Tue, 26 Oct 2021   Prob (F-statistic):               0.00\n",
            "Time:                        09:06:51   Log-Likelihood:                -25173.\n",
            "No. Observations:                2051   AIC:                         5.037e+04\n",
            "Df Residuals:                    2039   BIC:                         5.044e+04\n",
            "Df Model:                          11                                         \n",
            "Covariance Type:            nonrobust                                         \n",
            "=============================================================================================================\n",
            "                                                coef    std err          t      P>|t|      [0.025      0.975]\n",
            "-------------------------------------------------------------------------------------------------------------\n",
            "Intercept                                  1.821e+05   4.32e+04      4.218      0.000    9.74e+04    2.67e+05\n",
            "MS_Zoning[T.C_all]                         5.744e+04   3.91e+04      1.471      0.142   -1.92e+04    1.34e+05\n",
            "MS_Zoning[T.Floating_Village_Residential]  1.128e+05   3.76e+04      3.001      0.003    3.91e+04    1.87e+05\n",
            "MS_Zoning[T.I_all]                          2.15e+04   5.28e+04      0.407      0.684    -8.2e+04    1.25e+05\n",
            "MS_Zoning[T.Residential_High_Density]      9.397e+04   3.86e+04      2.434      0.015    1.83e+04     1.7e+05\n",
            "MS_Zoning[T.Residential_Low_Density]       1.199e+05   3.72e+04      3.227      0.001     4.7e+04    1.93e+05\n",
            "MS_Zoning[T.Residential_Medium_Density]    9.043e+04   3.73e+04      2.427      0.015    1.74e+04    1.63e+05\n",
            "Exter_Qual[T.Fair]                        -2.356e+05   1.19e+04    -19.854      0.000   -2.59e+05   -2.12e+05\n",
            "Exter_Qual[T.Good]                        -1.318e+05   6362.008    -20.717      0.000   -1.44e+05   -1.19e+05\n",
            "Exter_Qual[T.Typical]                     -2.148e+05   6228.193    -34.482      0.000   -2.27e+05   -2.03e+05\n",
            "Street[T.Pave]                             4.354e+04   1.91e+04      2.285      0.022    6165.329    8.09e+04\n",
            "Lot_Area                                      2.0455      0.161     12.711      0.000       1.730       2.361\n",
            "==============================================================================\n",
            "Omnibus:                      628.824   Durbin-Watson:                   2.029\n",
            "Prob(Omnibus):                  0.000   Jarque-Bera (JB):             6489.857\n",
            "Skew:                           1.137   Prob(JB):                         0.00\n",
            "Kurtosis:                      11.412   Cond. No.                     1.11e+06\n",
            "==============================================================================\n",
            "\n",
            "Warnings:\n",
            "[1] Standard Errors assume that the covariance matrix of the errors is correctly specified.\n",
            "[2] The condition number is large, 1.11e+06. This might indicate that there are\n",
            "strong multicollinearity or other numerical problems.\n"
          ]
        }
      ]
    },
    {
      "cell_type": "markdown",
      "metadata": {
        "id": "-ysdunY0rPp7"
      },
      "source": [
        "In this summary you find global indicators on the fit quality (**R squarred**, **AIC**, **BIC**,...) as well as the the following information for each parameter :\n",
        "\n",
        "- **coef** : the estimated parameter\n",
        "- **std err** : the standard error around the estimated parameter\n",
        "- **t** : the value of the test statistics for the hypothese that the parameter has no effect ($H_0 : \\beta_j = 0$)\n",
        "- **P >|t|** : the p-value of the test statistics for the hypothese that the parameter has no effect ($H_0 : \\beta_j = 0$)\n",
        "- **[0.025 0.975]** : the 95% confidence interval around the estimated parameter"
      ]
    },
    {
      "cell_type": "markdown",
      "metadata": {
        "id": "ak3RZavOrPp7"
      },
      "source": [
        "You can access to specific information (already shown or not in the summary) by calling specific methods on the fitted model. The available methods can be displayed as follow using the ```dir``` funtion: "
      ]
    },
    {
      "cell_type": "code",
      "metadata": {
        "colab": {
          "base_uri": "https://localhost:8080/"
        },
        "id": "EowR7E4IrPp8",
        "outputId": "d39345cc-efd9-40a5-eb54-0933e45dad89"
      },
      "source": [
        "dir(LM_model_0_result)"
      ],
      "execution_count": 23,
      "outputs": [
        {
          "output_type": "execute_result",
          "data": {
            "text/plain": [
              "['HC0_se',\n",
              " 'HC1_se',\n",
              " 'HC2_se',\n",
              " 'HC3_se',\n",
              " '_HCCM',\n",
              " '__class__',\n",
              " '__delattr__',\n",
              " '__dict__',\n",
              " '__dir__',\n",
              " '__doc__',\n",
              " '__eq__',\n",
              " '__format__',\n",
              " '__ge__',\n",
              " '__getattribute__',\n",
              " '__gt__',\n",
              " '__hash__',\n",
              " '__init__',\n",
              " '__init_subclass__',\n",
              " '__le__',\n",
              " '__lt__',\n",
              " '__module__',\n",
              " '__ne__',\n",
              " '__new__',\n",
              " '__reduce__',\n",
              " '__reduce_ex__',\n",
              " '__repr__',\n",
              " '__setattr__',\n",
              " '__sizeof__',\n",
              " '__str__',\n",
              " '__subclasshook__',\n",
              " '__weakref__',\n",
              " '_cache',\n",
              " '_data_attr',\n",
              " '_get_robustcov_results',\n",
              " '_is_nested',\n",
              " '_wexog_singular_values',\n",
              " 'aic',\n",
              " 'bic',\n",
              " 'bse',\n",
              " 'centered_tss',\n",
              " 'compare_f_test',\n",
              " 'compare_lm_test',\n",
              " 'compare_lr_test',\n",
              " 'condition_number',\n",
              " 'conf_int',\n",
              " 'conf_int_el',\n",
              " 'cov_HC0',\n",
              " 'cov_HC1',\n",
              " 'cov_HC2',\n",
              " 'cov_HC3',\n",
              " 'cov_kwds',\n",
              " 'cov_params',\n",
              " 'cov_type',\n",
              " 'df_model',\n",
              " 'df_resid',\n",
              " 'diagn',\n",
              " 'eigenvals',\n",
              " 'el_test',\n",
              " 'ess',\n",
              " 'f_pvalue',\n",
              " 'f_test',\n",
              " 'fittedvalues',\n",
              " 'fvalue',\n",
              " 'get_influence',\n",
              " 'get_prediction',\n",
              " 'get_robustcov_results',\n",
              " 'initialize',\n",
              " 'k_constant',\n",
              " 'llf',\n",
              " 'load',\n",
              " 'model',\n",
              " 'mse_model',\n",
              " 'mse_resid',\n",
              " 'mse_total',\n",
              " 'nobs',\n",
              " 'normalized_cov_params',\n",
              " 'outlier_test',\n",
              " 'params',\n",
              " 'predict',\n",
              " 'pvalues',\n",
              " 'remove_data',\n",
              " 'resid',\n",
              " 'resid_pearson',\n",
              " 'rsquared',\n",
              " 'rsquared_adj',\n",
              " 'save',\n",
              " 'scale',\n",
              " 'ssr',\n",
              " 'summary',\n",
              " 'summary2',\n",
              " 't_test',\n",
              " 't_test_pairwise',\n",
              " 'tvalues',\n",
              " 'uncentered_tss',\n",
              " 'use_t',\n",
              " 'wald_test',\n",
              " 'wald_test_terms',\n",
              " 'wresid']"
            ]
          },
          "metadata": {},
          "execution_count": 23
        }
      ]
    },
    {
      "cell_type": "markdown",
      "metadata": {
        "id": "9ldpcB8orPp8"
      },
      "source": [
        "The AIC value is therefore accessible with the following instruction (already shown in the summary) : "
      ]
    },
    {
      "cell_type": "code",
      "metadata": {
        "colab": {
          "base_uri": "https://localhost:8080/"
        },
        "id": "4R5eHDKvrPp8",
        "outputId": "517e3ce2-bad2-471f-b111-a55e45d310c6"
      },
      "source": [
        "LM_model_0_result.aic"
      ],
      "execution_count": 24,
      "outputs": [
        {
          "output_type": "execute_result",
          "data": {
            "text/plain": [
              "50370.69648700156"
            ]
          },
          "metadata": {},
          "execution_count": 24
        }
      ]
    },
    {
      "cell_type": "markdown",
      "metadata": {
        "id": "fxTOsKFDrPp8"
      },
      "source": [
        "The linear model parameters are accessible with the following instruction (already shown in the summary) : "
      ]
    },
    {
      "cell_type": "code",
      "metadata": {
        "colab": {
          "base_uri": "https://localhost:8080/"
        },
        "id": "kD075bymrPp8",
        "outputId": "04532201-db38-4f75-d25a-ca23dfa0398d"
      },
      "source": [
        "LM_model_0_result.params"
      ],
      "execution_count": 25,
      "outputs": [
        {
          "output_type": "execute_result",
          "data": {
            "text/plain": [
              "Intercept                                    182050.627718\n",
              "MS_Zoning[T.C_all]                            57439.324709\n",
              "MS_Zoning[T.Floating_Village_Residential]    112822.817953\n",
              "MS_Zoning[T.I_all]                            21495.385152\n",
              "MS_Zoning[T.Residential_High_Density]         93968.602876\n",
              "MS_Zoning[T.Residential_Low_Density]         119902.512925\n",
              "MS_Zoning[T.Residential_Medium_Density]       90425.330396\n",
              "Exter_Qual[T.Fair]                          -235569.264331\n",
              "Exter_Qual[T.Good]                          -131804.192355\n",
              "Exter_Qual[T.Typical]                       -214758.158019\n",
              "Street[T.Pave]                                43537.291027\n",
              "Lot_Area                                          2.045459\n",
              "dtype: float64"
            ]
          },
          "metadata": {},
          "execution_count": 25
        }
      ]
    },
    {
      "cell_type": "markdown",
      "metadata": {
        "id": "3zR3gYcprPp9"
      },
      "source": [
        "The p-value of the test statistics for the hypothese that the parameter has no effect ($H_0 : \\beta_j = 0$) can be extracted using the following instruction (already shown in the summary) : "
      ]
    },
    {
      "cell_type": "code",
      "metadata": {
        "colab": {
          "base_uri": "https://localhost:8080/"
        },
        "id": "-jqEA8MdrPp9",
        "outputId": "34e2dbed-1836-4009-88c9-0d0f90dfe5b7"
      },
      "source": [
        "LM_model_0_result.pvalues"
      ],
      "execution_count": 26,
      "outputs": [
        {
          "output_type": "execute_result",
          "data": {
            "text/plain": [
              "Intercept                                     2.576960e-05\n",
              "MS_Zoning[T.C_all]                            1.415078e-01\n",
              "MS_Zoning[T.Floating_Village_Residential]     2.721495e-03\n",
              "MS_Zoning[T.I_all]                            6.837965e-01\n",
              "MS_Zoning[T.Residential_High_Density]         1.502558e-02\n",
              "MS_Zoning[T.Residential_Low_Density]          1.271504e-03\n",
              "MS_Zoning[T.Residential_Medium_Density]       1.529212e-02\n",
              "Exter_Qual[T.Fair]                            2.455962e-80\n",
              "Exter_Qual[T.Good]                            1.104843e-86\n",
              "Exter_Qual[T.Typical]                        1.146355e-205\n",
              "Street[T.Pave]                                2.243511e-02\n",
              "Lot_Area                                      1.121669e-35\n",
              "dtype: float64"
            ]
          },
          "metadata": {},
          "execution_count": 26
        }
      ]
    },
    {
      "cell_type": "markdown",
      "metadata": {
        "id": "exqHoC02rPp9"
      },
      "source": [
        "By looking the categories which are not listed explicitely we can deduce that the reference class is defined as\n",
        "- **MS_Zoning** = A_agr\n",
        "- **Exter_Qual** = Excellent\n",
        "- **Street** = Gravel\n",
        "\n",
        "In this segment the effect of the categorical variables are included in the intercept.\n",
        "\n"
      ]
    },
    {
      "cell_type": "markdown",
      "metadata": {
        "id": "xaJSTRvWrPp9"
      },
      "source": [
        "We can impose for each variable the class which will belong in the intercept. in order to do so, one can use the function ```Treatment``` We choose to put the most frequent categories in the reference class : "
      ]
    },
    {
      "cell_type": "code",
      "metadata": {
        "colab": {
          "base_uri": "https://localhost:8080/"
        },
        "id": "K9et2LOarPp9",
        "outputId": "9beb279f-df26-4423-b5b1-f94a5345a697"
      },
      "source": [
        "LM_model_0 = sm.formula.ols(\"Sale_Price ~ C(MS_Zoning, Treatment('Residential_Low_Density')) + C(Exter_Qual, Treatment('Typical')) + C(Street, Treatment('Pave'))+ Lot_Area\",data = ames_python_train)\n",
        "LM_model_0_result=LM_model_0.fit()\n",
        "print(LM_model_0_result.summary())"
      ],
      "execution_count": 27,
      "outputs": [
        {
          "output_type": "stream",
          "name": "stdout",
          "text": [
            "                            OLS Regression Results                            \n",
            "==============================================================================\n",
            "Dep. Variable:             Sale_Price   R-squared:                       0.575\n",
            "Model:                            OLS   Adj. R-squared:                  0.573\n",
            "Method:                 Least Squares   F-statistic:                     251.1\n",
            "Date:                Tue, 26 Oct 2021   Prob (F-statistic):               0.00\n",
            "Time:                        09:07:10   Log-Likelihood:                -25173.\n",
            "No. Observations:                2051   AIC:                         5.037e+04\n",
            "Df Residuals:                    2039   BIC:                         5.044e+04\n",
            "Df Model:                          11                                         \n",
            "Covariance Type:            nonrobust                                         \n",
            "======================================================================================================================================================\n",
            "                                                                                         coef    std err          t      P>|t|      [0.025      0.975]\n",
            "------------------------------------------------------------------------------------------------------------------------------------------------------\n",
            "Intercept                                                                           1.307e+05   2426.899     53.868      0.000    1.26e+05    1.35e+05\n",
            "C(MS_Zoning, Treatment('Residential_Low_Density'))[T.A_agr]                        -1.199e+05   3.72e+04     -3.227      0.001   -1.93e+05    -4.7e+04\n",
            "C(MS_Zoning, Treatment('Residential_Low_Density'))[T.C_all]                        -6.246e+04   1.29e+04     -4.833      0.000   -8.78e+04   -3.71e+04\n",
            "C(MS_Zoning, Treatment('Residential_Low_Density'))[T.Floating_Village_Residential] -7079.6950   5494.542     -1.288      0.198   -1.79e+04    3695.806\n",
            "C(MS_Zoning, Treatment('Residential_Low_Density'))[T.I_all]                        -9.841e+04   3.81e+04     -2.580      0.010   -1.73e+05   -2.36e+04\n",
            "C(MS_Zoning, Treatment('Residential_Low_Density'))[T.Residential_High_Density]     -2.593e+04    1.1e+04     -2.366      0.018   -4.74e+04   -4439.839\n",
            "C(MS_Zoning, Treatment('Residential_Low_Density'))[T.Residential_Medium_Density]   -2.948e+04   3297.297     -8.940      0.000   -3.59e+04    -2.3e+04\n",
            "C(Exter_Qual, Treatment('Typical'))[T.Excellent]                                    2.148e+05   6228.193     34.482      0.000    2.03e+05    2.27e+05\n",
            "C(Exter_Qual, Treatment('Typical'))[T.Fair]                                        -2.081e+04   1.02e+04     -2.042      0.041   -4.08e+04    -828.361\n",
            "C(Exter_Qual, Treatment('Typical'))[T.Good]                                         8.295e+04   2621.761     31.641      0.000    7.78e+04    8.81e+04\n",
            "C(Street, Treatment('Pave'))[T.Grvl]                                               -4.354e+04   1.91e+04     -2.285      0.022   -8.09e+04   -6165.329\n",
            "Lot_Area                                                                               2.0455      0.161     12.711      0.000       1.730       2.361\n",
            "==============================================================================\n",
            "Omnibus:                      628.824   Durbin-Watson:                   2.029\n",
            "Prob(Omnibus):                  0.000   Jarque-Bera (JB):             6489.857\n",
            "Skew:                           1.137   Prob(JB):                         0.00\n",
            "Kurtosis:                      11.412   Cond. No.                     4.26e+05\n",
            "==============================================================================\n",
            "\n",
            "Warnings:\n",
            "[1] Standard Errors assume that the covariance matrix of the errors is correctly specified.\n",
            "[2] The condition number is large, 4.26e+05. This might indicate that there are\n",
            "strong multicollinearity or other numerical problems.\n"
          ]
        }
      ]
    },
    {
      "cell_type": "markdown",
      "metadata": {
        "id": "T4Ma5Q61rPp-"
      },
      "source": [
        "Using the **coef** column printed with the ```summary()``` function or using the ```.params``` attribute of the model we can easily compute the prediction of the model for a given profile. \n",
        "\n",
        "For instance let us compute the prediction for the following profile : \n",
        "\n",
        "- **MS_Zoning** = Residential_High_Density\n",
        "- **Exter_Qual** = Fair\n",
        "- **Street** = Grvl\n",
        "- **Lot_Area** = 1000\n",
        "\n",
        "\n"
      ]
    },
    {
      "cell_type": "markdown",
      "metadata": {
        "id": "k9vV6abFrPp-"
      },
      "source": [
        "The fitted parameters are the following : "
      ]
    },
    {
      "cell_type": "code",
      "metadata": {
        "colab": {
          "base_uri": "https://localhost:8080/"
        },
        "id": "LGkmnm-TrPp-",
        "outputId": "6265633b-7767-452f-92c2-c034c6f9d39e"
      },
      "source": [
        "LM_model_0_result.params"
      ],
      "execution_count": 28,
      "outputs": [
        {
          "output_type": "execute_result",
          "data": {
            "text/plain": [
              "Intercept                                                                             130732.273652\n",
              "C(MS_Zoning, Treatment('Residential_Low_Density'))[T.A_agr]                          -119902.512926\n",
              "C(MS_Zoning, Treatment('Residential_Low_Density'))[T.C_all]                           -62463.188216\n",
              "C(MS_Zoning, Treatment('Residential_Low_Density'))[T.Floating_Village_Residential]     -7079.694972\n",
              "C(MS_Zoning, Treatment('Residential_Low_Density'))[T.I_all]                           -98407.127773\n",
              "C(MS_Zoning, Treatment('Residential_Low_Density'))[T.Residential_High_Density]        -25933.910049\n",
              "C(MS_Zoning, Treatment('Residential_Low_Density'))[T.Residential_Medium_Density]      -29477.182529\n",
              "C(Exter_Qual, Treatment('Typical'))[T.Excellent]                                      214758.158019\n",
              "C(Exter_Qual, Treatment('Typical'))[T.Fair]                                           -20811.106312\n",
              "C(Exter_Qual, Treatment('Typical'))[T.Good]                                            82953.965664\n",
              "C(Street, Treatment('Pave'))[T.Grvl]                                                  -43537.291028\n",
              "Lot_Area                                                                                   2.045459\n",
              "dtype: float64"
            ]
          },
          "metadata": {},
          "execution_count": 28
        }
      ]
    },
    {
      "cell_type": "markdown",
      "metadata": {
        "id": "eFkVw_4HrPp-"
      },
      "source": [
        "We then simply have to add the following effects : \n",
        "\n",
        "- **Intercept effect** : 130 732.273652\n",
        "- **MS_Zoning effect when = Residential_High_Density** : -25 933.910049 \n",
        "- **Exter_Qual effect when = Fair** : -20 811.106312\n",
        "- **Street effect when = Grvl** : -43 537.291028\n",
        "- **Lot_Area effect when area = 1000** : 2.045459*1000 = 2 045.459\n",
        "\n",
        "This can be done easily : "
      ]
    },
    {
      "cell_type": "code",
      "metadata": {
        "colab": {
          "base_uri": "https://localhost:8080/"
        },
        "id": "ylzO2o3PrPp-",
        "outputId": "1cefc242-99d7-430d-bfa5-0c983b5c6d18"
      },
      "source": [
        "LM_model_0_result.params[LM_model_0_result.params.index == \"Intercept\"].values + \\\n",
        "LM_model_0_result.params[LM_model_0_result.params.index == \"C(MS_Zoning, Treatment('Residential_Low_Density'))[T.Residential_High_Density]\"].values + \\\n",
        "LM_model_0_result.params[LM_model_0_result.params.index == \"C(Exter_Qual, Treatment('Typical'))[T.Fair]\"].values + \\\n",
        "LM_model_0_result.params[LM_model_0_result.params.index == \"C(Street, Treatment('Pave'))[T.Grvl]\"].values + \\\n",
        "LM_model_0_result.params[LM_model_0_result.params.index == \"Lot_Area\"].values *1000\n"
      ],
      "execution_count": 29,
      "outputs": [
        {
          "output_type": "execute_result",
          "data": {
            "text/plain": [
              "array([42495.4256353])"
            ]
          },
          "metadata": {},
          "execution_count": 29
        }
      ]
    },
    {
      "cell_type": "markdown",
      "metadata": {
        "id": "Glse7YLZrPp-"
      },
      "source": [
        "The predicted price is 42 495 euros"
      ]
    },
    {
      "cell_type": "markdown",
      "metadata": {
        "id": "8aLpbK4crPp-"
      },
      "source": [
        "We can also obtain the prediction on this specific profile by applying the ```predict()``` method of the model on a dataframe containing this profile"
      ]
    },
    {
      "cell_type": "code",
      "metadata": {
        "colab": {
          "base_uri": "https://localhost:8080/",
          "height": 80
        },
        "id": "ZkNPP66drPp-",
        "outputId": "498f45ea-204d-43a2-e00a-a5c5682cfd59"
      },
      "source": [
        "profile=pd.DataFrame({\n",
        "'MS_Zoning' : [\"Residential_High_Density\"],\n",
        "    'Exter_Qual' : [\"Fair\"],\n",
        "    'Street' : [\"Grvl\"],\n",
        "    'Lot_Area' : [1000]\n",
        "    })\n",
        "profile"
      ],
      "execution_count": 30,
      "outputs": [
        {
          "output_type": "execute_result",
          "data": {
            "text/html": [
              "<div>\n",
              "<style scoped>\n",
              "    .dataframe tbody tr th:only-of-type {\n",
              "        vertical-align: middle;\n",
              "    }\n",
              "\n",
              "    .dataframe tbody tr th {\n",
              "        vertical-align: top;\n",
              "    }\n",
              "\n",
              "    .dataframe thead th {\n",
              "        text-align: right;\n",
              "    }\n",
              "</style>\n",
              "<table border=\"1\" class=\"dataframe\">\n",
              "  <thead>\n",
              "    <tr style=\"text-align: right;\">\n",
              "      <th></th>\n",
              "      <th>MS_Zoning</th>\n",
              "      <th>Exter_Qual</th>\n",
              "      <th>Street</th>\n",
              "      <th>Lot_Area</th>\n",
              "    </tr>\n",
              "  </thead>\n",
              "  <tbody>\n",
              "    <tr>\n",
              "      <th>0</th>\n",
              "      <td>Residential_High_Density</td>\n",
              "      <td>Fair</td>\n",
              "      <td>Grvl</td>\n",
              "      <td>1000</td>\n",
              "    </tr>\n",
              "  </tbody>\n",
              "</table>\n",
              "</div>"
            ],
            "text/plain": [
              "                  MS_Zoning Exter_Qual Street  Lot_Area\n",
              "0  Residential_High_Density       Fair   Grvl      1000"
            ]
          },
          "metadata": {},
          "execution_count": 30
        }
      ]
    },
    {
      "cell_type": "markdown",
      "metadata": {
        "id": "139Juwbr0biV"
      },
      "source": [
        "One can then submit this dataframe (containing a unique row) to the ```predict()``` function to get the predicted price which confirms our previous calculation. Usually, the ```predict()``` function is applied on the entire database in order to get a prediction for the entire sample."
      ]
    },
    {
      "cell_type": "code",
      "metadata": {
        "scrolled": true,
        "colab": {
          "base_uri": "https://localhost:8080/",
          "height": 80
        },
        "id": "H86_kLKerPp_",
        "outputId": "e31d8f39-6fab-4795-8a3c-ae6c6945b85d"
      },
      "source": [
        "profile[\"prediction\"]=LM_model_0_result.predict(profile)\n",
        "profile"
      ],
      "execution_count": 31,
      "outputs": [
        {
          "output_type": "execute_result",
          "data": {
            "text/html": [
              "<div>\n",
              "<style scoped>\n",
              "    .dataframe tbody tr th:only-of-type {\n",
              "        vertical-align: middle;\n",
              "    }\n",
              "\n",
              "    .dataframe tbody tr th {\n",
              "        vertical-align: top;\n",
              "    }\n",
              "\n",
              "    .dataframe thead th {\n",
              "        text-align: right;\n",
              "    }\n",
              "</style>\n",
              "<table border=\"1\" class=\"dataframe\">\n",
              "  <thead>\n",
              "    <tr style=\"text-align: right;\">\n",
              "      <th></th>\n",
              "      <th>MS_Zoning</th>\n",
              "      <th>Exter_Qual</th>\n",
              "      <th>Street</th>\n",
              "      <th>Lot_Area</th>\n",
              "      <th>prediction</th>\n",
              "    </tr>\n",
              "  </thead>\n",
              "  <tbody>\n",
              "    <tr>\n",
              "      <th>0</th>\n",
              "      <td>Residential_High_Density</td>\n",
              "      <td>Fair</td>\n",
              "      <td>Grvl</td>\n",
              "      <td>1000</td>\n",
              "      <td>42495.425635</td>\n",
              "    </tr>\n",
              "  </tbody>\n",
              "</table>\n",
              "</div>"
            ],
            "text/plain": [
              "                  MS_Zoning Exter_Qual Street  Lot_Area    prediction\n",
              "0  Residential_High_Density       Fair   Grvl      1000  42495.425635"
            ]
          },
          "metadata": {},
          "execution_count": 31
        }
      ]
    },
    {
      "cell_type": "markdown",
      "metadata": {
        "id": "N7tooEYGrPp_"
      },
      "source": [
        "### 3.5.2 Optimisation <a name=\"three-two\"></a>"
      ]
    },
    {
      "cell_type": "markdown",
      "metadata": {
        "id": "oPghC-MdrPp_"
      },
      "source": [
        "Once the model has been trained with the initial set of variables we can try to simplify it by removing variables and gathering categories.\n",
        "\n",
        "Usually, the strategy is the following : \n",
        "\n",
        "- First we look at which variables can be removed as a whole\n",
        "- Then we look at the gatherings that can be done between the categories of the remaining variables\n",
        "    - For non ordered variables : we test the gathering of each class with the reference class\n",
        "    - For ordered variables : we test adjacent gatherings\n",
        " \n",
        "Each time, only one variabe can be removed at a time or a single gathering performed. Indeed, a non significant variable can become significant once another variable is removed from the model (if there were correlated).\n"
      ]
    },
    {
      "cell_type": "markdown",
      "metadata": {
        "id": "0t5_DnjXrPp_"
      },
      "source": [
        "We can also look at the significance of each variable $x$ by looking at the p-values of the Wald test : \n",
        "\n",
        "$$ H_0 : \\beta_{x}(j)=0 \\mbox{ } \\forall j \\mbox{ (= the true effect is zero for all parameters of the variables)}$$\n",
        "\n",
        "If the p-value is > 5% we consider that the estimated coefficients for the variable are not large enoughs (in total as we look at the total effect of the variable) to reject the hypothese that the true effect of the variable is zero.\n",
        "\n",
        "For instance, for the variable Street the test is the following : \n",
        "\n",
        "$$ H_0 : \\beta_{Street}(Street=Pave)=\\beta_{Street}(Street=Grvl)=0 $$"
      ]
    },
    {
      "cell_type": "code",
      "metadata": {
        "colab": {
          "base_uri": "https://localhost:8080/"
        },
        "id": "BC6u65uUrPp_",
        "outputId": "22014095-fb16-4d29-b57a-a96a3b581421"
      },
      "source": [
        "LM_model_0_result.wald_test_terms()"
      ],
      "execution_count": 32,
      "outputs": [
        {
          "output_type": "execute_result",
          "data": {
            "text/plain": [
              "<class 'statsmodels.stats.contrast.WaldTestResults'>\n",
              "                                                              F            P>F  df constraint  df denom\n",
              "Intercept                                           2901.765227   0.000000e+00              1    2039.0\n",
              "C(MS_Zoning, Treatment('Residential_Low_Density'))    18.796921   2.159776e-21              6    2039.0\n",
              "C(Exter_Qual, Treatment('Typical'))                  635.471144  1.360307e-291              3    2039.0\n",
              "C(Street, Treatment('Pave'))                           5.219669   2.243511e-02              1    2039.0\n",
              "Lot_Area                                             161.560086   1.121669e-35              1    2039.0"
            ]
          },
          "metadata": {},
          "execution_count": 32
        }
      ]
    },
    {
      "cell_type": "markdown",
      "metadata": {
        "id": "bjx6_6ORrPp_"
      },
      "source": [
        "We see that no variables can be removed as a whole."
      ]
    },
    {
      "cell_type": "markdown",
      "metadata": {
        "id": "9r5tyon4rPqA"
      },
      "source": [
        "We can also look at the significance of each parameter individually by looking at the p-values associated to the following test : \n",
        "\n",
        "$$ H_0 : \\beta_j=0 \\mbox{ (= the true effect is zero)}$$\n",
        "\n",
        "If the p-value is > 5% we consider that the estimated coefficient is not large enough to reject the hypothese that the true effect is zero."
      ]
    },
    {
      "cell_type": "code",
      "metadata": {
        "colab": {
          "base_uri": "https://localhost:8080/"
        },
        "id": "hjW2eyZIrPqA",
        "outputId": "eb788491-bfbf-4a95-c169-5204b26bedef"
      },
      "source": [
        "LM_model_0_result.pvalues"
      ],
      "execution_count": 33,
      "outputs": [
        {
          "output_type": "execute_result",
          "data": {
            "text/plain": [
              "Intercept                                                                              0.000000e+00\n",
              "C(MS_Zoning, Treatment('Residential_Low_Density'))[T.A_agr]                            1.271504e-03\n",
              "C(MS_Zoning, Treatment('Residential_Low_Density'))[T.C_all]                            1.444674e-06\n",
              "C(MS_Zoning, Treatment('Residential_Low_Density'))[T.Floating_Village_Residential]     1.977196e-01\n",
              "C(MS_Zoning, Treatment('Residential_Low_Density'))[T.I_all]                            9.936342e-03\n",
              "C(MS_Zoning, Treatment('Residential_Low_Density'))[T.Residential_High_Density]         1.806373e-02\n",
              "C(MS_Zoning, Treatment('Residential_Low_Density'))[T.Residential_Medium_Density]       8.524955e-19\n",
              "C(Exter_Qual, Treatment('Typical'))[T.Excellent]                                      1.146355e-205\n",
              "C(Exter_Qual, Treatment('Typical'))[T.Fair]                                            4.123785e-02\n",
              "C(Exter_Qual, Treatment('Typical'))[T.Good]                                           4.276065e-179\n",
              "C(Street, Treatment('Pave'))[T.Grvl]                                                   2.243511e-02\n",
              "Lot_Area                                                                               1.121669e-35\n",
              "dtype: float64"
            ]
          },
          "metadata": {},
          "execution_count": 33
        }
      ]
    },
    {
      "cell_type": "code",
      "metadata": {
        "colab": {
          "base_uri": "https://localhost:8080/"
        },
        "id": "vDZ-KMvyrPqA",
        "outputId": "76ba0d94-57a3-4978-e9f0-49c58de0f435"
      },
      "source": [
        "LM_model_0_result.pvalues.max()"
      ],
      "execution_count": 34,
      "outputs": [
        {
          "output_type": "execute_result",
          "data": {
            "text/plain": [
              "0.19771959206201115"
            ]
          },
          "metadata": {},
          "execution_count": 34
        }
      ]
    },
    {
      "cell_type": "markdown",
      "metadata": {
        "id": "3cwjLZWorPqA"
      },
      "source": [
        "We see here that the only non significant category is the Floating_Village_Residential category of the MS_Zoning variable. It suggests we could gather this category with the reference class. It is quite intuitive when we look at the mean Sales price and exposition along the MS_Zoning variable : \n"
      ]
    },
    {
      "cell_type": "code",
      "metadata": {
        "colab": {
          "base_uri": "https://localhost:8080/",
          "height": 694
        },
        "id": "hxfEoqKCrPqA",
        "outputId": "bbef012f-a8e6-4899-f5bd-aac1cb19ecfa"
      },
      "source": [
        "descriptive_analysis(\"MS_Zoning\",ames_python)"
      ],
      "execution_count": 35,
      "outputs": [
        {
          "output_type": "display_data",
          "data": {
            "image/png": "[encoded data removed]",
            "text/plain": [
              "<Figure size 1080x432 with 2 Axes>"
            ]
          },
          "metadata": {
            "needs_background": "light"
          }
        },
        {
          "output_type": "execute_result",
          "data": {
            "text/html": [
              "<div>\n",
              "<style scoped>\n",
              "    .dataframe tbody tr th:only-of-type {\n",
              "        vertical-align: middle;\n",
              "    }\n",
              "\n",
              "    .dataframe tbody tr th {\n",
              "        vertical-align: top;\n",
              "    }\n",
              "\n",
              "    .dataframe thead th {\n",
              "        text-align: right;\n",
              "    }\n",
              "</style>\n",
              "<table border=\"1\" class=\"dataframe\">\n",
              "  <thead>\n",
              "    <tr style=\"text-align: right;\">\n",
              "      <th></th>\n",
              "      <th>MS_Zoning</th>\n",
              "      <th>Sale_Price</th>\n",
              "      <th>counts</th>\n",
              "    </tr>\n",
              "  </thead>\n",
              "  <tbody>\n",
              "    <tr>\n",
              "      <th>0</th>\n",
              "      <td>A_agr</td>\n",
              "      <td>47300.000000</td>\n",
              "      <td>2</td>\n",
              "    </tr>\n",
              "    <tr>\n",
              "      <th>1</th>\n",
              "      <td>C_all</td>\n",
              "      <td>79795.040000</td>\n",
              "      <td>25</td>\n",
              "    </tr>\n",
              "    <tr>\n",
              "      <th>2</th>\n",
              "      <td>Floating_Village_Residential</td>\n",
              "      <td>218986.949640</td>\n",
              "      <td>139</td>\n",
              "    </tr>\n",
              "    <tr>\n",
              "      <th>3</th>\n",
              "      <td>I_all</td>\n",
              "      <td>80312.500000</td>\n",
              "      <td>2</td>\n",
              "    </tr>\n",
              "    <tr>\n",
              "      <th>4</th>\n",
              "      <td>Residential_High_Density</td>\n",
              "      <td>136419.777778</td>\n",
              "      <td>27</td>\n",
              "    </tr>\n",
              "    <tr>\n",
              "      <th>5</th>\n",
              "      <td>Residential_Low_Density</td>\n",
              "      <td>191283.251650</td>\n",
              "      <td>2273</td>\n",
              "    </tr>\n",
              "    <tr>\n",
              "      <th>6</th>\n",
              "      <td>Residential_Medium_Density</td>\n",
              "      <td>126781.393939</td>\n",
              "      <td>462</td>\n",
              "    </tr>\n",
              "  </tbody>\n",
              "</table>\n",
              "</div>"
            ],
            "text/plain": [
              "                      MS_Zoning     Sale_Price  counts\n",
              "0                         A_agr   47300.000000       2\n",
              "1                         C_all   79795.040000      25\n",
              "2  Floating_Village_Residential  218986.949640     139\n",
              "3                         I_all   80312.500000       2\n",
              "4      Residential_High_Density  136419.777778      27\n",
              "5       Residential_Low_Density  191283.251650    2273\n",
              "6    Residential_Medium_Density  126781.393939     462"
            ]
          },
          "metadata": {},
          "execution_count": 35
        }
      ]
    },
    {
      "cell_type": "markdown",
      "metadata": {
        "id": "CVT5JCdfrPqB"
      },
      "source": [
        "We indeed see that the category Floating village residential is very poorly represented and has an observed mean Sales Price quite close to the one observed on the the Residential_Low_Density. It induces that the model can't differentiate those 2 classes with enough certainty."
      ]
    },
    {
      "cell_type": "markdown",
      "metadata": {
        "id": "ZZP9VYhwrPqB"
      },
      "source": [
        "Let us then gather the Floating village residential modality with the intercept : "
      ]
    },
    {
      "cell_type": "code",
      "metadata": {
        "colab": {
          "base_uri": "https://localhost:8080/"
        },
        "id": "7ZkO2aSbrPqB",
        "outputId": "6571e2c2-7017-459f-d232-815a4b7a63f0"
      },
      "source": [
        "ames_python_train['MS_Zoning_2'] = ames_python_train['MS_Zoning'].astype('object')\n",
        "ames_python_train.loc[ames_python_train['MS_Zoning'].isin([\"Floating_Village_Residential\",\"Residential_Low_Density\"]),'MS_Zoning_2']=\"Residential_Low_Density_Floating\"\n",
        "ames_python_train['MS_Zoning_2']=ames_python_train['MS_Zoning_2'].astype('category')\n",
        "print(ames_python_train.MS_Zoning.value_counts())\n",
        "print(\"\")\n",
        "print(ames_python_train.MS_Zoning_2.value_counts())\n",
        "\n",
        "\n",
        "ames_python_test['MS_Zoning_2'] = ames_python_test['MS_Zoning'].astype('object')\n",
        "ames_python_test.loc[ames_python_test['MS_Zoning'].isin([\"Floating_Village_Residential\",\"Residential_Low_Density\"]),'MS_Zoning_2']=\"Residential_Low_Density_Floating\"\n",
        "ames_python_test['MS_Zoning_2']=ames_python_test['MS_Zoning_2'].astype('category')\n",
        "print(ames_python_test.MS_Zoning.value_counts())\n",
        "print(\"\")\n",
        "print(ames_python_test.MS_Zoning_2.value_counts())"
      ],
      "execution_count": 36,
      "outputs": [
        {
          "output_type": "stream",
          "name": "stdout",
          "text": [
            "Residential_Low_Density         1566\n",
            "Residential_Medium_Density       335\n",
            "Floating_Village_Residential     105\n",
            "Residential_High_Density          23\n",
            "C_all                             18\n",
            "I_all                              2\n",
            "A_agr                              2\n",
            "Name: MS_Zoning, dtype: int64\n",
            "\n",
            "Residential_Low_Density_Floating    1671\n",
            "Residential_Medium_Density           335\n",
            "Residential_High_Density              23\n",
            "C_all                                 18\n",
            "I_all                                  2\n",
            "A_agr                                  2\n",
            "Name: MS_Zoning_2, dtype: int64\n",
            "Residential_Low_Density         707\n",
            "Residential_Medium_Density      127\n",
            "Floating_Village_Residential     34\n",
            "C_all                             7\n",
            "Residential_High_Density          4\n",
            "I_all                             0\n",
            "A_agr                             0\n",
            "Name: MS_Zoning, dtype: int64\n",
            "\n",
            "Residential_Low_Density_Floating    741\n",
            "Residential_Medium_Density          127\n",
            "C_all                                 7\n",
            "Residential_High_Density              4\n",
            "Name: MS_Zoning_2, dtype: int64\n"
          ]
        }
      ]
    },
    {
      "cell_type": "markdown",
      "metadata": {
        "id": "zqJoLdZkrPqC"
      },
      "source": [
        "We can refit the model using the new clustered variables and recheck the p-values : "
      ]
    },
    {
      "cell_type": "code",
      "metadata": {
        "id": "wuabbO6srPqC"
      },
      "source": [
        "LM_model_1 = sm.formula.ols(\"Sale_Price ~ C(MS_Zoning_2, Treatment('Residential_Low_Density_Floating')) + C(Exter_Qual, Treatment('Typical')) + C(Street, Treatment('Pave'))+ Lot_Area\",data = ames_python_train)\n",
        "LM_model_1_result=LM_model_1.fit()"
      ],
      "execution_count": 37,
      "outputs": []
    },
    {
      "cell_type": "code",
      "metadata": {
        "colab": {
          "base_uri": "https://localhost:8080/"
        },
        "id": "za3IjMWrrPqC",
        "outputId": "9fd6c252-bd4c-42ca-9da0-e705073be0f6"
      },
      "source": [
        "LM_model_1_result.wald_test_terms()"
      ],
      "execution_count": 38,
      "outputs": [
        {
          "output_type": "execute_result",
          "data": {
            "text/plain": [
              "<class 'statsmodels.stats.contrast.WaldTestResults'>\n",
              "                                                                         F            P>F  df constraint  df denom\n",
              "Intercept                                                      2927.574281   0.000000e+00              1    2040.0\n",
              "C(MS_Zoning_2, Treatment('Residential_Low_Density_Floating'))    22.217070   9.620539e-22              5    2040.0\n",
              "C(Exter_Qual, Treatment('Typical'))                             653.291657  1.372945e-297              3    2040.0\n",
              "C(Street, Treatment('Pave'))                                      5.350524   2.081507e-02              1    2040.0\n",
              "Lot_Area                                                        168.900876   3.679856e-37              1    2040.0"
            ]
          },
          "metadata": {},
          "execution_count": 38
        }
      ]
    },
    {
      "cell_type": "code",
      "metadata": {
        "colab": {
          "base_uri": "https://localhost:8080/"
        },
        "id": "Pnr4RzSprPqC",
        "outputId": "7da81d33-7a75-45a9-c165-ee5be8f0e2e0"
      },
      "source": [
        "LM_model_1_result.pvalues"
      ],
      "execution_count": 39,
      "outputs": [
        {
          "output_type": "execute_result",
          "data": {
            "text/plain": [
              "Intercept                                                                                       0.000000e+00\n",
              "C(MS_Zoning_2, Treatment('Residential_Low_Density_Floating'))[T.A_agr]                          1.242246e-03\n",
              "C(MS_Zoning_2, Treatment('Residential_Low_Density_Floating'))[T.C_all]                          1.612520e-06\n",
              "C(MS_Zoning_2, Treatment('Residential_Low_Density_Floating'))[T.I_all]                          9.614341e-03\n",
              "C(MS_Zoning_2, Treatment('Residential_Low_Density_Floating'))[T.Residential_High_Density]       1.974962e-02\n",
              "C(MS_Zoning_2, Treatment('Residential_Low_Density_Floating'))[T.Residential_Medium_Density]     1.625654e-18\n",
              "C(Exter_Qual, Treatment('Typical'))[T.Excellent]                                               2.090716e-205\n",
              "C(Exter_Qual, Treatment('Typical'))[T.Fair]                                                     4.155793e-02\n",
              "C(Exter_Qual, Treatment('Typical'))[T.Good]                                                    3.907881e-187\n",
              "C(Street, Treatment('Pave'))[T.Grvl]                                                            2.081507e-02\n",
              "Lot_Area                                                                                        3.679856e-37\n",
              "dtype: float64"
            ]
          },
          "metadata": {},
          "execution_count": 39
        }
      ]
    },
    {
      "cell_type": "markdown",
      "metadata": {
        "id": "nYroEE17rPqC"
      },
      "source": [
        "We see that the gathering did not induce a change in significance in the variables or in the individual categories"
      ]
    },
    {
      "cell_type": "markdown",
      "metadata": {
        "id": "sJUJOBSrrPqC"
      },
      "source": [
        "We can compare the predictions on the test set : "
      ]
    },
    {
      "cell_type": "code",
      "metadata": {
        "colab": {
          "base_uri": "https://localhost:8080/"
        },
        "id": "1xt4m1kVrPqD",
        "outputId": "4e66da30-a986-43f9-fcad-38c06afa4752"
      },
      "source": [
        "ames_python_test\n",
        "pred_0=LM_model_0_result.predict(ames_python_X_test)\n",
        "pred_1=LM_model_1_result.predict(ames_python_X_test)\n",
        "\n",
        "\n",
        "\n",
        "print(math.sqrt(mean_squared_error(ames_python_test[\"Sale_Price\"],pred_0))/ames_python_test[\"Sale_Price\"].mean())\n",
        "print(math.sqrt(mean_squared_error(ames_python_test[\"Sale_Price\"],pred_1))/ames_python_test[\"Sale_Price\"].mean())"
      ],
      "execution_count": 40,
      "outputs": [
        {
          "output_type": "stream",
          "name": "stdout",
          "text": [
            "0.29065500130755373\n",
            "0.2907423962349138\n"
          ]
        }
      ]
    },
    {
      "cell_type": "markdown",
      "metadata": {
        "id": "bOt1uuZTrPqD"
      },
      "source": [
        "We cannot say the gathering really improve the prediction performance of the model. Nevertheless simplifying the model allows to avoid overfitting and improve its robustness. "
      ]
    },
    {
      "cell_type": "markdown",
      "metadata": {
        "id": "fzh8b698rPqD"
      },
      "source": [
        "# Chapter 4 - GLM on the frequency <a name=\"four\"></a>"
      ]
    },
    {
      "cell_type": "markdown",
      "metadata": {
        "id": "aTHoGWNjrPqD"
      },
      "source": [
        "We will model the frequency of the MTPL database based on the following :variables\n",
        "- FUEL\n",
        "- FLEET\n",
        "- SEX\n",
        "- AGEPH"
      ]
    },
    {
      "cell_type": "code",
      "metadata": {
        "colab": {
          "base_uri": "https://localhost:8080/",
          "height": 204
        },
        "id": "RLfV9I0SrPqD",
        "outputId": "7f3847a7-f67e-4417-e185-0b1c0cf33ced"
      },
      "source": [
        "mtpl_python.head()"
      ],
      "execution_count": 41,
      "outputs": [
        {
          "output_type": "execute_result",
          "data": {
            "text/html": [
              "<div>\n",
              "<style scoped>\n",
              "    .dataframe tbody tr th:only-of-type {\n",
              "        vertical-align: middle;\n",
              "    }\n",
              "\n",
              "    .dataframe tbody tr th {\n",
              "        vertical-align: top;\n",
              "    }\n",
              "\n",
              "    .dataframe thead th {\n",
              "        text-align: right;\n",
              "    }\n",
              "</style>\n",
              "<table border=\"1\" class=\"dataframe\">\n",
              "  <thead>\n",
              "    <tr style=\"text-align: right;\">\n",
              "      <th></th>\n",
              "      <th>ID</th>\n",
              "      <th>NCLAIMS</th>\n",
              "      <th>AMOUNT</th>\n",
              "      <th>AVG</th>\n",
              "      <th>EXP</th>\n",
              "      <th>COVERAGE</th>\n",
              "      <th>FUEL</th>\n",
              "      <th>USE</th>\n",
              "      <th>FLEET</th>\n",
              "      <th>SEX</th>\n",
              "      <th>AGEPH</th>\n",
              "      <th>BM</th>\n",
              "      <th>AGEC</th>\n",
              "      <th>POWER</th>\n",
              "      <th>PC</th>\n",
              "      <th>TOWN</th>\n",
              "      <th>LONG</th>\n",
              "      <th>LAT</th>\n",
              "    </tr>\n",
              "  </thead>\n",
              "  <tbody>\n",
              "    <tr>\n",
              "      <th>0</th>\n",
              "      <td>1</td>\n",
              "      <td>1</td>\n",
              "      <td>1618.001036</td>\n",
              "      <td>1618.001036</td>\n",
              "      <td>1.000000</td>\n",
              "      <td>TPL</td>\n",
              "      <td>gasoline</td>\n",
              "      <td>private</td>\n",
              "      <td>N</td>\n",
              "      <td>male</td>\n",
              "      <td>50</td>\n",
              "      <td>5</td>\n",
              "      <td>12</td>\n",
              "      <td>77</td>\n",
              "      <td>1000</td>\n",
              "      <td>BRUSSEL</td>\n",
              "      <td>4.355223</td>\n",
              "      <td>50.845386</td>\n",
              "    </tr>\n",
              "    <tr>\n",
              "      <th>1</th>\n",
              "      <td>2</td>\n",
              "      <td>0</td>\n",
              "      <td>0.000000</td>\n",
              "      <td>NaN</td>\n",
              "      <td>1.000000</td>\n",
              "      <td>PO</td>\n",
              "      <td>gasoline</td>\n",
              "      <td>private</td>\n",
              "      <td>N</td>\n",
              "      <td>female</td>\n",
              "      <td>64</td>\n",
              "      <td>5</td>\n",
              "      <td>3</td>\n",
              "      <td>66</td>\n",
              "      <td>1000</td>\n",
              "      <td>BRUSSEL</td>\n",
              "      <td>4.355223</td>\n",
              "      <td>50.845386</td>\n",
              "    </tr>\n",
              "    <tr>\n",
              "      <th>2</th>\n",
              "      <td>3</td>\n",
              "      <td>0</td>\n",
              "      <td>0.000000</td>\n",
              "      <td>NaN</td>\n",
              "      <td>1.000000</td>\n",
              "      <td>TPL</td>\n",
              "      <td>diesel</td>\n",
              "      <td>private</td>\n",
              "      <td>N</td>\n",
              "      <td>male</td>\n",
              "      <td>60</td>\n",
              "      <td>0</td>\n",
              "      <td>10</td>\n",
              "      <td>70</td>\n",
              "      <td>1000</td>\n",
              "      <td>BRUSSEL</td>\n",
              "      <td>4.355223</td>\n",
              "      <td>50.845386</td>\n",
              "    </tr>\n",
              "    <tr>\n",
              "      <th>3</th>\n",
              "      <td>4</td>\n",
              "      <td>0</td>\n",
              "      <td>0.000000</td>\n",
              "      <td>NaN</td>\n",
              "      <td>1.000000</td>\n",
              "      <td>TPL</td>\n",
              "      <td>gasoline</td>\n",
              "      <td>private</td>\n",
              "      <td>N</td>\n",
              "      <td>male</td>\n",
              "      <td>77</td>\n",
              "      <td>0</td>\n",
              "      <td>15</td>\n",
              "      <td>57</td>\n",
              "      <td>1000</td>\n",
              "      <td>BRUSSEL</td>\n",
              "      <td>4.355223</td>\n",
              "      <td>50.845386</td>\n",
              "    </tr>\n",
              "    <tr>\n",
              "      <th>4</th>\n",
              "      <td>5</td>\n",
              "      <td>1</td>\n",
              "      <td>155.974606</td>\n",
              "      <td>155.974606</td>\n",
              "      <td>0.046575</td>\n",
              "      <td>TPL</td>\n",
              "      <td>gasoline</td>\n",
              "      <td>private</td>\n",
              "      <td>N</td>\n",
              "      <td>female</td>\n",
              "      <td>28</td>\n",
              "      <td>9</td>\n",
              "      <td>7</td>\n",
              "      <td>70</td>\n",
              "      <td>1000</td>\n",
              "      <td>BRUSSEL</td>\n",
              "      <td>4.355223</td>\n",
              "      <td>50.845386</td>\n",
              "    </tr>\n",
              "  </tbody>\n",
              "</table>\n",
              "</div>"
            ],
            "text/plain": [
              "   ID  NCLAIMS       AMOUNT          AVG  ...    PC     TOWN      LONG        LAT\n",
              "0   1        1  1618.001036  1618.001036  ...  1000  BRUSSEL  4.355223  50.845386\n",
              "1   2        0     0.000000          NaN  ...  1000  BRUSSEL  4.355223  50.845386\n",
              "2   3        0     0.000000          NaN  ...  1000  BRUSSEL  4.355223  50.845386\n",
              "3   4        0     0.000000          NaN  ...  1000  BRUSSEL  4.355223  50.845386\n",
              "4   5        1   155.974606   155.974606  ...  1000  BRUSSEL  4.355223  50.845386\n",
              "\n",
              "[5 rows x 18 columns]"
            ]
          },
          "metadata": {},
          "execution_count": 41
        }
      ]
    },
    {
      "cell_type": "markdown",
      "metadata": {
        "id": "bMv7lD7P4YH9"
      },
      "source": [
        "We check the type of the variables of interest in the dataset"
      ]
    },
    {
      "cell_type": "code",
      "metadata": {
        "colab": {
          "base_uri": "https://localhost:8080/"
        },
        "id": "7QagmQHgrPqF",
        "outputId": "c970a607-b661-4874-eee8-a6b7a84b1743"
      },
      "source": [
        "print(\"MTPL_Python\")\n",
        "mtpl_python[[\"FUEL\",\"FLEET\",\"SEX\",\"AGEPH\"]].info()"
      ],
      "execution_count": 42,
      "outputs": [
        {
          "output_type": "stream",
          "name": "stdout",
          "text": [
            "MTPL_Python\n",
            "<class 'pandas.core.frame.DataFrame'>\n",
            "RangeIndex: 163231 entries, 0 to 163230\n",
            "Data columns (total 4 columns):\n",
            " #   Column  Non-Null Count   Dtype \n",
            "---  ------  --------------   ----- \n",
            " 0   FUEL    163231 non-null  object\n",
            " 1   FLEET   163231 non-null  object\n",
            " 2   SEX     163231 non-null  object\n",
            " 3   AGEPH   163231 non-null  int64 \n",
            "dtypes: int64(1), object(3)\n",
            "memory usage: 5.0+ MB\n"
          ]
        }
      ]
    },
    {
      "cell_type": "markdown",
      "metadata": {
        "id": "On9yVpT74TkU"
      },
      "source": [
        "We convert the object types into category"
      ]
    },
    {
      "cell_type": "code",
      "metadata": {
        "id": "tsE5vM84rPqF"
      },
      "source": [
        "for c in [\"FUEL\",\"FLEET\",\"SEX\"]:\n",
        "    mtpl_python[c]=pd.Categorical(mtpl_python[c])\n",
        "    "
      ],
      "execution_count": 43,
      "outputs": []
    },
    {
      "cell_type": "code",
      "metadata": {
        "colab": {
          "base_uri": "https://localhost:8080/"
        },
        "id": "csqH0EbdrPqF",
        "outputId": "39ce7a1e-4769-464a-fea7-313f6619edd5"
      },
      "source": [
        "print(\"MTPL_Python\")\n",
        "mtpl_python[[\"FUEL\",\"FLEET\",\"SEX\",\"AGEPH\"]].info()"
      ],
      "execution_count": 44,
      "outputs": [
        {
          "output_type": "stream",
          "name": "stdout",
          "text": [
            "MTPL_Python\n",
            "<class 'pandas.core.frame.DataFrame'>\n",
            "RangeIndex: 163231 entries, 0 to 163230\n",
            "Data columns (total 4 columns):\n",
            " #   Column  Non-Null Count   Dtype   \n",
            "---  ------  --------------   -----   \n",
            " 0   FUEL    163231 non-null  category\n",
            " 1   FLEET   163231 non-null  category\n",
            " 2   SEX     163231 non-null  category\n",
            " 3   AGEPH   163231 non-null  int64   \n",
            "dtypes: category(3), int64(1)\n",
            "memory usage: 1.7 MB\n"
          ]
        }
      ]
    },
    {
      "cell_type": "markdown",
      "metadata": {
        "id": "_T8Yv9EV46eK"
      },
      "source": [
        "Before adjusting the linear model, we create a training/test split in stratified way with respect to the target variable ```NCLAIMS```. In order to do so we apply  ```train_test_split``` that was introduced previously.\n",
        "\n",
        "Once this is done we use the ```train_test_split``` function from *sklearn* to create a training and test set using stratified sampling according to the ```y_cat``` variable. We choose to build a training set which corresponds to 80% of the initial dataset. Because we do the sampling in a stratified way it means that we will perform the 80%-20% separately for each frequency level ```NCLAIMS```. It means that the distribution of ```NCLAIMS``` over the full dataset will be preserved in the training and test sets.\n"
      ]
    },
    {
      "cell_type": "code",
      "metadata": {
        "colab": {
          "base_uri": "https://localhost:8080/",
          "height": 350
        },
        "id": "CDnOkQq6rPqG",
        "outputId": "ab111773-a40e-40b0-c32b-0d7fd3a88478"
      },
      "source": [
        "np.random.seed(123)\n",
        "\n",
        "mtpl_python_X = mtpl_python.drop(labels=['NCLAIMS'], axis=1) \n",
        "mtpl_python_X_train, mtpl_python_X_test, mtpl_python_y_train, mtpl_python_y_test = train_test_split(mtpl_python_X,mtpl_python.NCLAIMS, test_size=0.2, stratify=mtpl_python.NCLAIMS)\n",
        "\n",
        "\n",
        "mtpl_python_train=mtpl_python_X_train\n",
        "mtpl_python_train[\"NCLAIMS\"]=mtpl_python_y_train\n",
        "\n",
        "mtpl_python_test=mtpl_python_X_test\n",
        "mtpl_python_test[\"NCLAIMS\"]=mtpl_python_y_test\n",
        "\n",
        "\n",
        "df = pd.DataFrame(mtpl_python_y_train)\n",
        "df1 = pd.DataFrame(mtpl_python_y_test)\n",
        "\n",
        "plot_pd = pd.concat([df,df1], ignore_index=True, axis=1)\n",
        "\n",
        "#rename columns for x-label\n",
        "plot_pd.columns = ['NCLAIMS train', 'NCLAIMS test']\n",
        "\n",
        "#plot \n",
        "\n",
        "fig, axs = plt.subplots(ncols=1, figsize=(10,5));\n",
        "sb.histplot(plot_pd ['NCLAIMS train'], ax = axs, color='r',stat=\"probability\").set(title='NCLAIMS');\n",
        "sb.histplot(plot_pd['NCLAIMS test'], ax = axs, color='k',stat=\"probability\");\n",
        "plt.show()"
      ],
      "execution_count": 45,
      "outputs": [
        {
          "output_type": "display_data",
          "data": {
            "image/png": "[encoded data removed]",
            "text/plain": [
              "<Figure size 720x360 with 1 Axes>"
            ]
          },
          "metadata": {
            "needs_background": "light"
          }
        }
      ]
    },
    {
      "cell_type": "markdown",
      "metadata": {
        "id": "0mENzbj-5or9"
      },
      "source": [
        "To better understand the model outcomes, before adjusting the model, we analyse the observed frequency according to some key features. In order to do so, we define a ```description_analysis2``` function :"
      ]
    },
    {
      "cell_type": "code",
      "metadata": {
        "id": "XN1qOQmZrPqG"
      },
      "source": [
        "def description_analysis2(variable,data):\n",
        "    \n",
        "    Nbr = data[['NCLAIMS']].groupby([data[variable]]).sum().reset_index()\n",
        "    exp = data[['EXP']].groupby([data[variable]]).sum().reset_index()\n",
        "    charge = data[['AMOUNT']].groupby([data[variable]]).sum().reset_index()\n",
        "    obs = pd.merge(Nbr,exp)\n",
        "    obs = pd.merge(obs,charge)\n",
        "    obs['Freq']=obs['NCLAIMS']/obs['EXP']\n",
        "    obs['AVG']=obs['AMOUNT']/obs['NCLAIMS']\n",
        "    \n",
        "    table=obs\n",
        "    \n",
        "    plt.rcParams['figure.figsize'] = [20, 6]\n",
        "    table_to_plot=table.loc[:,[variable,'EXP','Freq']]\n",
        "    table_to_plot[variable]=table_to_plot[variable].astype(\"category\")\n",
        "    table_to_plot.plot(kind='bar', secondary_y='EXP', rot=30)\n",
        "    plt.xticks(range(table_to_plot.shape[0]),list(table_to_plot.iloc[:,0]), rotation=30)\n",
        "    plot=plt.show()\n",
        "    \n",
        "    return(obs)"
      ],
      "execution_count": null,
      "outputs": []
    },
    {
      "cell_type": "code",
      "metadata": {
        "id": "z7CYp4KNrPqG",
        "outputId": "09febe66-96ff-4c50-f79d-8919bf090fbf"
      },
      "source": [
        "description_analysis2(\"AGEPH\",mtpl_python_train)"
      ],
      "execution_count": null,
      "outputs": [
        {
          "data": {
            "image/png": "[encoded data removed]",
            "text/plain": [
              "<Figure size 1440x432 with 2 Axes>"
            ]
          },
          "metadata": {
            "needs_background": "light"
          },
          "output_type": "display_data"
        },
        {
          "data": {
            "text/html": [
              "<div>\n",
              "<style scoped>\n",
              "    .dataframe tbody tr th:only-of-type {\n",
              "        vertical-align: middle;\n",
              "    }\n",
              "\n",
              "    .dataframe tbody tr th {\n",
              "        vertical-align: top;\n",
              "    }\n",
              "\n",
              "    .dataframe thead th {\n",
              "        text-align: right;\n",
              "    }\n",
              "</style>\n",
              "<table border=\"1\" class=\"dataframe\">\n",
              "  <thead>\n",
              "    <tr style=\"text-align: right;\">\n",
              "      <th></th>\n",
              "      <th>AGEPH</th>\n",
              "      <th>NCLAIMS</th>\n",
              "      <th>EXP</th>\n",
              "      <th>AMOUNT</th>\n",
              "      <th>Freq</th>\n",
              "      <th>AVG</th>\n",
              "    </tr>\n",
              "  </thead>\n",
              "  <tbody>\n",
              "    <tr>\n",
              "      <th>0</th>\n",
              "      <td>18</td>\n",
              "      <td>3</td>\n",
              "      <td>3.164384</td>\n",
              "      <td>1306.795505</td>\n",
              "      <td>0.948052</td>\n",
              "      <td>435.598502</td>\n",
              "    </tr>\n",
              "    <tr>\n",
              "      <th>1</th>\n",
              "      <td>19</td>\n",
              "      <td>17</td>\n",
              "      <td>71.671233</td>\n",
              "      <td>35976.836829</td>\n",
              "      <td>0.237194</td>\n",
              "      <td>2116.284519</td>\n",
              "    </tr>\n",
              "    <tr>\n",
              "      <th>2</th>\n",
              "      <td>20</td>\n",
              "      <td>93</td>\n",
              "      <td>280.684932</td>\n",
              "      <td>131440.385326</td>\n",
              "      <td>0.331332</td>\n",
              "      <td>1413.337477</td>\n",
              "    </tr>\n",
              "    <tr>\n",
              "      <th>3</th>\n",
              "      <td>21</td>\n",
              "      <td>116</td>\n",
              "      <td>465.687671</td>\n",
              "      <td>524992.327695</td>\n",
              "      <td>0.249094</td>\n",
              "      <td>4525.795928</td>\n",
              "    </tr>\n",
              "    <tr>\n",
              "      <th>4</th>\n",
              "      <td>22</td>\n",
              "      <td>166</td>\n",
              "      <td>629.065753</td>\n",
              "      <td>252496.287794</td>\n",
              "      <td>0.263883</td>\n",
              "      <td>1521.061975</td>\n",
              "    </tr>\n",
              "    <tr>\n",
              "      <th>...</th>\n",
              "      <td>...</td>\n",
              "      <td>...</td>\n",
              "      <td>...</td>\n",
              "      <td>...</td>\n",
              "      <td>...</td>\n",
              "      <td>...</td>\n",
              "    </tr>\n",
              "    <tr>\n",
              "      <th>73</th>\n",
              "      <td>91</td>\n",
              "      <td>1</td>\n",
              "      <td>7.827397</td>\n",
              "      <td>1471.793435</td>\n",
              "      <td>0.127756</td>\n",
              "      <td>1471.793435</td>\n",
              "    </tr>\n",
              "    <tr>\n",
              "      <th>74</th>\n",
              "      <td>92</td>\n",
              "      <td>1</td>\n",
              "      <td>4.526027</td>\n",
              "      <td>1426.379342</td>\n",
              "      <td>0.220944</td>\n",
              "      <td>1426.379342</td>\n",
              "    </tr>\n",
              "    <tr>\n",
              "      <th>75</th>\n",
              "      <td>93</td>\n",
              "      <td>0</td>\n",
              "      <td>4.046575</td>\n",
              "      <td>0.000000</td>\n",
              "      <td>0.000000</td>\n",
              "      <td>NaN</td>\n",
              "    </tr>\n",
              "    <tr>\n",
              "      <th>76</th>\n",
              "      <td>94</td>\n",
              "      <td>0</td>\n",
              "      <td>2.000000</td>\n",
              "      <td>0.000000</td>\n",
              "      <td>0.000000</td>\n",
              "      <td>NaN</td>\n",
              "    </tr>\n",
              "    <tr>\n",
              "      <th>77</th>\n",
              "      <td>95</td>\n",
              "      <td>0</td>\n",
              "      <td>1.000000</td>\n",
              "      <td>0.000000</td>\n",
              "      <td>0.000000</td>\n",
              "      <td>NaN</td>\n",
              "    </tr>\n",
              "  </tbody>\n",
              "</table>\n",
              "<p>78 rows × 6 columns</p>\n",
              "</div>"
            ],
            "text/plain": [
              "    AGEPH  NCLAIMS         EXP         AMOUNT      Freq          AVG\n",
              "0      18        3    3.164384    1306.795505  0.948052   435.598502\n",
              "1      19       17   71.671233   35976.836829  0.237194  2116.284519\n",
              "2      20       93  280.684932  131440.385326  0.331332  1413.337477\n",
              "3      21      116  465.687671  524992.327695  0.249094  4525.795928\n",
              "4      22      166  629.065753  252496.287794  0.263883  1521.061975\n",
              "..    ...      ...         ...            ...       ...          ...\n",
              "73     91        1    7.827397    1471.793435  0.127756  1471.793435\n",
              "74     92        1    4.526027    1426.379342  0.220944  1426.379342\n",
              "75     93        0    4.046575       0.000000  0.000000          NaN\n",
              "76     94        0    2.000000       0.000000  0.000000          NaN\n",
              "77     95        0    1.000000       0.000000  0.000000          NaN\n",
              "\n",
              "[78 rows x 6 columns]"
            ]
          },
          "execution_count": 224,
          "metadata": {},
          "output_type": "execute_result"
        }
      ]
    },
    {
      "cell_type": "markdown",
      "metadata": {
        "id": "nBODffmL6OiS"
      },
      "source": [
        "One can see the evolution of the claims frequency according to age strating from Age 18 to Age 95 : \n",
        "\n",
        "*   high frequency for young drivers and older drivers\n",
        "*   low frequency for Age between 40 and 60.\n",
        "\n",
        "\n",
        "In oder to use the ```AGEPH``` variable in or GLM, we first define age categories. Such a categorisation of the ```AGEPH``` variable is necessary otherwise, the GLM model can only capture an exponential relation between ```AGEPH``` and the claim frequency."
      ]
    },
    {
      "cell_type": "code",
      "metadata": {
        "id": "j2eMMrxXrPqH"
      },
      "source": [
        "mtpl_python_train[\"AGEPH2\"] = np.where(mtpl_python_train['AGEPH'] < 21, \"18-20\", np.where(mtpl_python_train['AGEPH'] <26 ,\"21-25\", \\\n",
        "                              np.where(mtpl_python_train['AGEPH'] < 31, \"26-30\", np.where(mtpl_python_train['AGEPH'] < 41, \"31-40\", \\\n",
        "                              np.where(mtpl_python_train['AGEPH'] < 51, \"41-50\", np.where(mtpl_python_train['AGEPH'] < 61, \"51-60\", \\\n",
        "                              np.where(mtpl_python_train['AGEPH'] < 71, \"61-70\", \\\n",
        "                              np.where(mtpl_python_train['AGEPH'] < 81, \"71-80\",\">80\"))))))))"
      ],
      "execution_count": 46,
      "outputs": []
    },
    {
      "cell_type": "code",
      "metadata": {
        "id": "czKZrSwYrPqH",
        "outputId": "94a656bf-731a-488a-a2dc-969acd439182"
      },
      "source": [
        "mtpl_python_train.AGEPH.value_counts()"
      ],
      "execution_count": null,
      "outputs": [
        {
          "data": {
            "text/plain": [
              "43    3260\n",
              "49    3218\n",
              "47    3188\n",
              "41    3150\n",
              "50    3136\n",
              "      ... \n",
              "91       8\n",
              "92       5\n",
              "93       5\n",
              "94       2\n",
              "95       1\n",
              "Name: AGEPH, Length: 78, dtype: int64"
            ]
          },
          "execution_count": 226,
          "metadata": {},
          "output_type": "execute_result"
        }
      ]
    },
    {
      "cell_type": "markdown",
      "metadata": {
        "id": "t4ts9mre7z1s"
      },
      "source": [
        "We check that the categorisation steps went well."
      ]
    },
    {
      "cell_type": "code",
      "metadata": {
        "id": "f4SvfBkHrPqH",
        "outputId": "58c2d164-9c45-4236-b4b0-9454c7d853f1"
      },
      "source": [
        "mtpl_python_train.AGEPH2.value_counts()"
      ],
      "execution_count": null,
      "outputs": [
        {
          "data": {
            "text/plain": [
              "41-50    31037\n",
              "31-40    30039\n",
              "51-60    22617\n",
              "61-70    17663\n",
              "26-30    12802\n",
              "71-80     8683\n",
              "21-25     6173\n",
              ">80       1147\n",
              "18-20      423\n",
              "Name: AGEPH2, dtype: int64"
            ]
          },
          "execution_count": 227,
          "metadata": {},
          "output_type": "execute_result"
        }
      ]
    },
    {
      "cell_type": "markdown",
      "metadata": {
        "id": "RM0y5Pry8GKW"
      },
      "source": [
        "We then analyse the observed frequency according the feature ```FLEET```"
      ]
    },
    {
      "cell_type": "code",
      "metadata": {
        "id": "mWXkVM1rrPqH",
        "outputId": "64750acc-8031-497c-b0e1-196c9249ab52"
      },
      "source": [
        "description_analysis2(\"FLEET\",mtpl_python_train)"
      ],
      "execution_count": null,
      "outputs": [
        {
          "data": {
            "image/png": "[encoded data removed]",
            "text/plain": [
              "<Figure size 1440x432 with 2 Axes>"
            ]
          },
          "metadata": {
            "needs_background": "light"
          },
          "output_type": "display_data"
        },
        {
          "data": {
            "text/html": [
              "<div>\n",
              "<style scoped>\n",
              "    .dataframe tbody tr th:only-of-type {\n",
              "        vertical-align: middle;\n",
              "    }\n",
              "\n",
              "    .dataframe tbody tr th {\n",
              "        vertical-align: top;\n",
              "    }\n",
              "\n",
              "    .dataframe thead th {\n",
              "        text-align: right;\n",
              "    }\n",
              "</style>\n",
              "<table border=\"1\" class=\"dataframe\">\n",
              "  <thead>\n",
              "    <tr style=\"text-align: right;\">\n",
              "      <th></th>\n",
              "      <th>FLEET</th>\n",
              "      <th>NCLAIMS</th>\n",
              "      <th>EXP</th>\n",
              "      <th>AMOUNT</th>\n",
              "      <th>Freq</th>\n",
              "      <th>AVG</th>\n",
              "    </tr>\n",
              "  </thead>\n",
              "  <tbody>\n",
              "    <tr>\n",
              "      <th>0</th>\n",
              "      <td>N</td>\n",
              "      <td>15741</td>\n",
              "      <td>112158.052055</td>\n",
              "      <td>2.380137e+07</td>\n",
              "      <td>0.140347</td>\n",
              "      <td>1512.062306</td>\n",
              "    </tr>\n",
              "    <tr>\n",
              "      <th>1</th>\n",
              "      <td>Y</td>\n",
              "      <td>449</td>\n",
              "      <td>4004.586301</td>\n",
              "      <td>5.222845e+05</td>\n",
              "      <td>0.112121</td>\n",
              "      <td>1163.217232</td>\n",
              "    </tr>\n",
              "  </tbody>\n",
              "</table>\n",
              "</div>"
            ],
            "text/plain": [
              "  FLEET  NCLAIMS            EXP        AMOUNT      Freq          AVG\n",
              "0     N    15741  112158.052055  2.380137e+07  0.140347  1512.062306\n",
              "1     Y      449    4004.586301  5.222845e+05  0.112121  1163.217232"
            ]
          },
          "execution_count": 238,
          "metadata": {},
          "output_type": "execute_result"
        }
      ]
    },
    {
      "cell_type": "markdown",
      "metadata": {
        "id": "Y3BnyY6h8QwV"
      },
      "source": [
        "One can notice the limited fleet exposure in this portfolio.\n",
        "\n",
        "We can then fit the genealised linear model (GLM) using the following function coming from the *statmodel* package :\n",
        "\n",
        "\n",
        "*  ```formula.glm``` : definition of the model object (formula, database, distribution of the response variable, ...)\n",
        "*  ```fit``` : model adjustment\n",
        "*  ```summary``` : print of the main model outcome (coefficients, standard deviation, p-value)\n",
        "\n",
        "Outcomes produces from GLMs procedures are very similar to the ones obtained previously with linear model procedures. "
      ]
    },
    {
      "cell_type": "code",
      "metadata": {
        "colab": {
          "base_uri": "https://localhost:8080/"
        },
        "id": "7QmOhZprrPqI",
        "outputId": "ca674f70-2e65-451d-f056-51a9ef4e4000"
      },
      "source": [
        "mtpl_python_train['LogRiskExp']=np.log(mtpl_python_train['EXP'])\n",
        "\n",
        "GLM_model_0_formula = sm.formula.glm(\"NCLAIMS ~ C(FLEET, Treatment('N')) + C(FUEL, Treatment('gasoline')) + C(SEX, Treatment('male')) + C(AGEPH2, Treatment('41-50'))\", \\\n",
        "                              data = mtpl_python_train,family=sm.families.Poisson(link=sm.families.links.log), \\\n",
        "                              offset = mtpl_python_train['LogRiskExp'])\n",
        "\n",
        "GLM_model_0_result = GLM_model_0_formula.fit()\n",
        "print(GLM_model_0_result.summary())"
      ],
      "execution_count": 48,
      "outputs": [
        {
          "output_type": "stream",
          "name": "stdout",
          "text": [
            "                 Generalized Linear Model Regression Results                  \n",
            "==============================================================================\n",
            "Dep. Variable:                NCLAIMS   No. Observations:               130584\n",
            "Model:                            GLM   Df Residuals:                   130572\n",
            "Model Family:                 Poisson   Df Model:                           11\n",
            "Link Function:                    log   Scale:                          1.0000\n",
            "Method:                          IRLS   Log-Likelihood:                -50524.\n",
            "Date:                Tue, 26 Oct 2021   Deviance:                       70863.\n",
            "Time:                        09:39:58   Pearson chi2:                 1.57e+05\n",
            "No. Iterations:                     6                                         \n",
            "Covariance Type:            nonrobust                                         \n",
            "============================================================================================================\n",
            "                                               coef    std err          z      P>|z|      [0.025      0.975]\n",
            "------------------------------------------------------------------------------------------------------------\n",
            "Intercept                                   -2.0514      0.018   -111.081      0.000      -2.088      -2.015\n",
            "C(FLEET, Treatment('N'))[T.Y]               -0.1463      0.048     -3.049      0.002      -0.240      -0.052\n",
            "C(FUEL, Treatment('gasoline'))[T.diesel]     0.1516      0.017      9.007      0.000       0.119       0.185\n",
            "C(SEX, Treatment('male'))[T.female]          0.0344      0.018      1.925      0.054      -0.001       0.069\n",
            "C(AGEPH2, Treatment('41-50'))[T.18-20]       0.8617      0.096      9.021      0.000       0.674       1.049\n",
            "C(AGEPH2, Treatment('41-50'))[T.21-25]       0.5860      0.032     18.202      0.000       0.523       0.649\n",
            "C(AGEPH2, Treatment('41-50'))[T.26-30]       0.3431      0.027     12.645      0.000       0.290       0.396\n",
            "C(AGEPH2, Treatment('41-50'))[T.31-40]       0.0898      0.023      3.929      0.000       0.045       0.135\n",
            "C(AGEPH2, Treatment('41-50'))[T.51-60]      -0.1267      0.026     -4.864      0.000      -0.178      -0.076\n",
            "C(AGEPH2, Treatment('41-50'))[T.61-70]      -0.2899      0.030     -9.715      0.000      -0.348      -0.231\n",
            "C(AGEPH2, Treatment('41-50'))[T.71-80]      -0.2867      0.039     -7.304      0.000      -0.364      -0.210\n",
            "C(AGEPH2, Treatment('41-50'))[T.>80]        -0.1246      0.093     -1.335      0.182      -0.307       0.058\n",
            "============================================================================================================\n"
          ]
        }
      ]
    },
    {
      "cell_type": "code",
      "metadata": {
        "colab": {
          "base_uri": "https://localhost:8080/"
        },
        "id": "qV7Bdga3rPqI",
        "outputId": "9cfb6139-6285-4237-9fbf-88039bcf5a48"
      },
      "source": [
        "GLM_model_0_result.wald_test_terms()"
      ],
      "execution_count": 49,
      "outputs": [
        {
          "output_type": "execute_result",
          "data": {
            "text/plain": [
              "<class 'statsmodels.stats.contrast.WaldTestResults'>\n",
              "                                        chi2         P>chi2  df constraint\n",
              "Intercept                       12339.050549   0.000000e+00              1\n",
              "C(FLEET, Treatment('N'))            9.295950   2.296610e-03              1\n",
              "C(FUEL, Treatment('gasoline'))     81.130621   2.112807e-19              1\n",
              "C(SEX, Treatment('male'))           3.706282   5.420801e-02              1\n",
              "C(AGEPH2, Treatment('41-50'))     978.099406  7.961358e-206              8"
            ]
          },
          "metadata": {},
          "execution_count": 49
        }
      ]
    },
    {
      "cell_type": "markdown",
      "metadata": {
        "id": "aXfJMV_MrPqI"
      },
      "source": [
        "Looking at the p-value of the this statistical test, one can conclude that we should probably remove the ```sex``` variable from our first model. "
      ]
    },
    {
      "cell_type": "code",
      "metadata": {
        "colab": {
          "base_uri": "https://localhost:8080/"
        },
        "id": "7aapTr22rPqJ",
        "outputId": "2e96b6ad-4ee9-44ac-8422-a55da5f9e02a"
      },
      "source": [
        "GLM_model_1_formula = sm.formula.glm(\"NCLAIMS ~ C(FLEET, Treatment('N')) + C(FUEL, Treatment('gasoline')) + C(AGEPH2, Treatment('41-50'))\", \\\n",
        "                              data = mtpl_python_train,family=sm.families.Poisson(link=sm.families.links.log), \\\n",
        "                              offset = mtpl_python_train['LogRiskExp'])\n",
        "GLM_model_1_result = GLM_model_1_formula.fit()\n",
        "\n",
        "GLM_model_1_result.wald_test_terms()"
      ],
      "execution_count": 50,
      "outputs": [
        {
          "output_type": "execute_result",
          "data": {
            "text/plain": [
              "<class 'statsmodels.stats.contrast.WaldTestResults'>\n",
              "                                        chi2         P>chi2  df constraint\n",
              "Intercept                       13548.047543   0.000000e+00              1\n",
              "C(FLEET, Treatment('N'))            9.031439   2.653755e-03              1\n",
              "C(FUEL, Treatment('gasoline'))     78.009985   1.025210e-18              1\n",
              "C(AGEPH2, Treatment('41-50'))    1014.187460  1.293232e-213              8"
            ]
          },
          "metadata": {},
          "execution_count": 50
        }
      ]
    },
    {
      "cell_type": "markdown",
      "metadata": {
        "id": "25grbMFSrPqJ"
      },
      "source": [
        "All the variables are significant."
      ]
    },
    {
      "cell_type": "markdown",
      "metadata": {
        "id": "2A6QgJPtrPqJ"
      },
      "source": [
        "Let us check if some gatherings between categories of the ```AGEPH2``` variable are statistically justified : "
      ]
    },
    {
      "cell_type": "code",
      "metadata": {
        "id": "GfKOqq1WrPqJ",
        "outputId": "284aeda8-fe9a-4d67-f173-f805b546a2b9"
      },
      "source": [
        "GLM_model_1_result.pvalues"
      ],
      "execution_count": null,
      "outputs": [
        {
          "data": {
            "text/plain": [
              "Intercept                                   0.000000e+00\n",
              "C(FLEET, Treatment('N'))[T.Y]               2.653755e-03\n",
              "C(FUEL, Treatment('gasoline'))[T.diesel]    1.025210e-18\n",
              "C(AGEPH2, Treatment('41-50'))[T.18-20]      1.446108e-19\n",
              "C(AGEPH2, Treatment('41-50'))[T.21-25]      6.561971e-75\n",
              "C(AGEPH2, Treatment('41-50'))[T.26-30]      3.335320e-37\n",
              "C(AGEPH2, Treatment('41-50'))[T.31-40]      6.924970e-05\n",
              "C(AGEPH2, Treatment('41-50'))[T.51-60]      7.276773e-07\n",
              "C(AGEPH2, Treatment('41-50'))[T.61-70]      5.498773e-23\n",
              "C(AGEPH2, Treatment('41-50'))[T.71-80]      9.294616e-14\n",
              "C(AGEPH2, Treatment('41-50'))[T.>80]        1.621479e-01\n",
              "dtype: float64"
            ]
          },
          "execution_count": 286,
          "metadata": {},
          "output_type": "execute_result"
        }
      ]
    },
    {
      "cell_type": "markdown",
      "metadata": {
        "id": "0wbUV4ecrPqK"
      },
      "source": [
        "Preivous outcomes already suggested that the modality >80 could be merged to the reference class [41-50]. But from a commercial point of view it has little sense. Because the variable is ordonate we will rather check adjacent gatherings."
      ]
    },
    {
      "cell_type": "markdown",
      "metadata": {
        "id": "soVBuyyXrPqK"
      },
      "source": [
        "We will define the test statistics corresponding to the test\n",
        "\n",
        "$$ H_0 : \\beta_{x}(i) = \\beta_{x}(j) $$"
      ]
    },
    {
      "cell_type": "markdown",
      "metadata": {
        "id": "_aGOVRNGrPqK"
      },
      "source": [
        "We will compute the test statistics for all pair $(i,j)$ but only consider adjacent pairs. In order to do so we define a ```Wald_hypothesis()``` function :"
      ]
    },
    {
      "cell_type": "code",
      "metadata": {
        "id": "JWKYfXaRrPqK"
      },
      "source": [
        "def Wald_hypothesis(model,variable):\n",
        "\n",
        "    params=pd.DataFrame(model.params)\n",
        "    params_var=params.loc[np.array([s for s in params.index if variable in s])]\n",
        "    cov=model.cov_params()\n",
        "    cov_var=cov.loc[np.array([s for s in cov.index if variable in s]),np.array([s for s in cov.columns if variable in s])]\n",
        "     \n",
        "    wald_matrix = np.array([[0.000 for j in range(len(params_var))] for i in range(len(params_var))])\n",
        "\n",
        "    for i in range(len(params_var)):\n",
        "        for j in range(len(params_var)):\n",
        "            wald_matrix[i,j]=(params_var.iloc[i]-params_var.iloc[j])**2/(cov_var.iloc[i,i] - 2*cov_var.iloc[i,j] + cov_var.iloc[j,j])\n",
        "\n",
        "    return(wald_matrix.round(3))\n",
        "\n"
      ],
      "execution_count": 51,
      "outputs": []
    },
    {
      "cell_type": "markdown",
      "metadata": {
        "id": "fbFmE5uoACAM"
      },
      "source": [
        "We apply this ```Wald_hypothesis()``` funtion to our model for the variable ```AGEPH2```"
      ]
    },
    {
      "cell_type": "code",
      "metadata": {
        "colab": {
          "base_uri": "https://localhost:8080/",
          "height": 328
        },
        "id": "mEqAkfLirPqL",
        "outputId": "d7e7fa39-ca5d-45d7-db07-43f994d9bd6f"
      },
      "source": [
        "wald_table=Wald_hypothesis(GLM_model_1_result,'AGEPH2')\n",
        "wald_table=pd.DataFrame(wald_table, \n",
        "             columns=['18-20', \n",
        "                      '21-25',\n",
        "                      '26-30', \n",
        "                      '31-40', \n",
        "                      '51-60',\n",
        "                      '61-70', \n",
        "                      '71-80',\n",
        "                       '>80'])\n",
        "wald_table['AGEPH2']=['18-20', \n",
        "                      '21-25',\n",
        "                      '26-30', \n",
        "                      '31-40', \n",
        "                      '51-60',\n",
        "                      '61-70', \n",
        "                      '71-80',\n",
        "                       '>80']\n",
        "wald_table.set_index('AGEPH2')"
      ],
      "execution_count": 52,
      "outputs": [
        {
          "output_type": "execute_result",
          "data": {
            "text/html": [
              "<div>\n",
              "<style scoped>\n",
              "    .dataframe tbody tr th:only-of-type {\n",
              "        vertical-align: middle;\n",
              "    }\n",
              "\n",
              "    .dataframe tbody tr th {\n",
              "        vertical-align: top;\n",
              "    }\n",
              "\n",
              "    .dataframe thead th {\n",
              "        text-align: right;\n",
              "    }\n",
              "</style>\n",
              "<table border=\"1\" class=\"dataframe\">\n",
              "  <thead>\n",
              "    <tr style=\"text-align: right;\">\n",
              "      <th></th>\n",
              "      <th>18-20</th>\n",
              "      <th>21-25</th>\n",
              "      <th>26-30</th>\n",
              "      <th>31-40</th>\n",
              "      <th>51-60</th>\n",
              "      <th>61-70</th>\n",
              "      <th>71-80</th>\n",
              "      <th>&gt;80</th>\n",
              "    </tr>\n",
              "    <tr>\n",
              "      <th>AGEPH2</th>\n",
              "      <th></th>\n",
              "      <th></th>\n",
              "      <th></th>\n",
              "      <th></th>\n",
              "      <th></th>\n",
              "      <th></th>\n",
              "      <th></th>\n",
              "      <th></th>\n",
              "    </tr>\n",
              "  </thead>\n",
              "  <tbody>\n",
              "    <tr>\n",
              "      <th>18-20</th>\n",
              "      <td>NaN</td>\n",
              "      <td>7.878</td>\n",
              "      <td>28.858</td>\n",
              "      <td>65.611</td>\n",
              "      <td>106.446</td>\n",
              "      <td>141.684</td>\n",
              "      <td>132.256</td>\n",
              "      <td>57.285</td>\n",
              "    </tr>\n",
              "    <tr>\n",
              "      <th>21-25</th>\n",
              "      <td>7.878</td>\n",
              "      <td>NaN</td>\n",
              "      <td>47.921</td>\n",
              "      <td>241.923</td>\n",
              "      <td>436.891</td>\n",
              "      <td>561.587</td>\n",
              "      <td>381.288</td>\n",
              "      <td>56.222</td>\n",
              "    </tr>\n",
              "    <tr>\n",
              "      <th>26-30</th>\n",
              "      <td>28.858</td>\n",
              "      <td>47.921</td>\n",
              "      <td>NaN</td>\n",
              "      <td>89.319</td>\n",
              "      <td>255.656</td>\n",
              "      <td>374.892</td>\n",
              "      <td>233.538</td>\n",
              "      <td>25.422</td>\n",
              "    </tr>\n",
              "    <tr>\n",
              "      <th>31-40</th>\n",
              "      <td>65.611</td>\n",
              "      <td>241.923</td>\n",
              "      <td>89.319</td>\n",
              "      <td>NaN</td>\n",
              "      <td>72.366</td>\n",
              "      <td>168.621</td>\n",
              "      <td>95.925</td>\n",
              "      <td>5.634</td>\n",
              "    </tr>\n",
              "    <tr>\n",
              "      <th>51-60</th>\n",
              "      <td>106.446</td>\n",
              "      <td>436.891</td>\n",
              "      <td>255.656</td>\n",
              "      <td>72.366</td>\n",
              "      <td>NaN</td>\n",
              "      <td>26.457</td>\n",
              "      <td>15.846</td>\n",
              "      <td>0.000</td>\n",
              "    </tr>\n",
              "    <tr>\n",
              "      <th>61-70</th>\n",
              "      <td>141.684</td>\n",
              "      <td>561.587</td>\n",
              "      <td>374.892</td>\n",
              "      <td>168.621</td>\n",
              "      <td>26.457</td>\n",
              "      <td>NaN</td>\n",
              "      <td>0.002</td>\n",
              "      <td>2.960</td>\n",
              "    </tr>\n",
              "    <tr>\n",
              "      <th>71-80</th>\n",
              "      <td>132.256</td>\n",
              "      <td>381.288</td>\n",
              "      <td>233.538</td>\n",
              "      <td>95.925</td>\n",
              "      <td>15.846</td>\n",
              "      <td>0.002</td>\n",
              "      <td>NaN</td>\n",
              "      <td>2.698</td>\n",
              "    </tr>\n",
              "    <tr>\n",
              "      <th>&gt;80</th>\n",
              "      <td>57.285</td>\n",
              "      <td>56.222</td>\n",
              "      <td>25.422</td>\n",
              "      <td>5.634</td>\n",
              "      <td>0.000</td>\n",
              "      <td>2.960</td>\n",
              "      <td>2.698</td>\n",
              "      <td>NaN</td>\n",
              "    </tr>\n",
              "  </tbody>\n",
              "</table>\n",
              "</div>"
            ],
            "text/plain": [
              "          18-20    21-25    26-30    31-40    51-60    61-70    71-80     >80\n",
              "AGEPH2                                                                       \n",
              "18-20       NaN    7.878   28.858   65.611  106.446  141.684  132.256  57.285\n",
              "21-25     7.878      NaN   47.921  241.923  436.891  561.587  381.288  56.222\n",
              "26-30    28.858   47.921      NaN   89.319  255.656  374.892  233.538  25.422\n",
              "31-40    65.611  241.923   89.319      NaN   72.366  168.621   95.925   5.634\n",
              "51-60   106.446  436.891  255.656   72.366      NaN   26.457   15.846   0.000\n",
              "61-70   141.684  561.587  374.892  168.621   26.457      NaN    0.002   2.960\n",
              "71-80   132.256  381.288  233.538   95.925   15.846    0.002      NaN   2.698\n",
              ">80      57.285   56.222   25.422    5.634    0.000    2.960    2.698     NaN"
            ]
          },
          "metadata": {},
          "execution_count": 52
        }
      ]
    },
    {
      "cell_type": "markdown",
      "metadata": {
        "id": "M8_DH-1qrPqL"
      },
      "source": [
        "The output of our ```Wald_hypothesis()``` function is a table that show the test statistic of the Wald-test for the different potential gathering of ```AGEPH2```categories.\n",
        "\n",
        "The value of 3.841 is the 95% quantile value of the test statistic, meaning that below this value the p-value is more than 5%. \n",
        "\n",
        "It means that the difference in the parameters between 2 classes is not high enough to reject the hypothese that the true effect of the two classes are the same. It means that we can gather the 2 classes if the test statistics is below 3.841.  "
      ]
    },
    {
      "cell_type": "markdown",
      "metadata": {
        "id": "HXiEiv7_rPqL"
      },
      "source": [
        "We see that the first gathering to perform is between [61-70] and [71-80]"
      ]
    },
    {
      "cell_type": "code",
      "metadata": {
        "id": "v-gVHqKCrPqM"
      },
      "source": [
        "mtpl_python_train['AGEPH3'] = mtpl_python_train['AGEPH2'].replace(['61-70','71-80'],'61-80')"
      ],
      "execution_count": 53,
      "outputs": []
    },
    {
      "cell_type": "code",
      "metadata": {
        "colab": {
          "base_uri": "https://localhost:8080/"
        },
        "id": "lTY2K1uYrPqM",
        "outputId": "6919e39d-3cfb-40aa-ab00-ae1784e6ba6c"
      },
      "source": [
        "GLM_model_2_formula = sm.formula.glm(\"NCLAIMS ~ C(FLEET, Treatment('N')) + C(FUEL, Treatment('gasoline')) + C(AGEPH3, Treatment('41-50'))\", \\\n",
        "                              data = mtpl_python_train,family=sm.families.Poisson(link=sm.families.links.log), \\\n",
        "                              offset = mtpl_python_train['LogRiskExp'])\n",
        "GLM_model_2_result = GLM_model_2_formula.fit()\n",
        "\n",
        "GLM_model_2_result.wald_test_terms()"
      ],
      "execution_count": 54,
      "outputs": [
        {
          "output_type": "execute_result",
          "data": {
            "text/plain": [
              "<class 'statsmodels.stats.contrast.WaldTestResults'>\n",
              "                                        chi2         P>chi2  df constraint\n",
              "Intercept                       13551.418375   0.000000e+00              1\n",
              "C(FLEET, Treatment('N'))            9.029193   2.657017e-03              1\n",
              "C(FUEL, Treatment('gasoline'))     78.142772   9.585575e-19              1\n",
              "C(AGEPH3, Treatment('41-50'))    1014.190191  1.034398e-214              7"
            ]
          },
          "metadata": {},
          "execution_count": 54
        }
      ]
    },
    {
      "cell_type": "code",
      "metadata": {
        "colab": {
          "base_uri": "https://localhost:8080/"
        },
        "id": "sk5F_5SPrPqM",
        "outputId": "0fc65aa6-8735-4691-ab97-2b8afa1c3844"
      },
      "source": [
        "GLM_model_2_result.pvalues"
      ],
      "execution_count": 55,
      "outputs": [
        {
          "output_type": "execute_result",
          "data": {
            "text/plain": [
              "Intercept                                   0.000000e+00\n",
              "C(FLEET, Treatment('N'))[T.Y]               2.657017e-03\n",
              "C(FUEL, Treatment('gasoline'))[T.diesel]    9.585575e-19\n",
              "C(AGEPH3, Treatment('41-50'))[T.18-20]      1.446761e-19\n",
              "C(AGEPH3, Treatment('41-50'))[T.21-25]      6.563880e-75\n",
              "C(AGEPH3, Treatment('41-50'))[T.26-30]      3.334371e-37\n",
              "C(AGEPH3, Treatment('41-50'))[T.31-40]      6.924039e-05\n",
              "C(AGEPH3, Treatment('41-50'))[T.51-60]      7.275211e-07\n",
              "C(AGEPH3, Treatment('41-50'))[T.61-80]      4.704463e-29\n",
              "C(AGEPH3, Treatment('41-50'))[T.>80]        1.621036e-01\n",
              "dtype: float64"
            ]
          },
          "metadata": {},
          "execution_count": 55
        }
      ]
    },
    {
      "cell_type": "markdown",
      "metadata": {
        "id": "xFebqd4xBna6"
      },
      "source": [
        "**Exercise : Do you think that the model still needed to be modified?** "
      ]
    },
    {
      "cell_type": "code",
      "metadata": {
        "id": "qN0ZSlW8rPqO"
      },
      "source": [
        ""
      ],
      "execution_count": null,
      "outputs": []
    }
  ]
}