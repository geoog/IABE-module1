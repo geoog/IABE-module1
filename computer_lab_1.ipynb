{
 "cells": [
  {
   "cell_type": "markdown",
   "metadata": {
    "id": "CvxEHcMI1WSS"
   },
   "source": [
    "<center> <h1> <span style=\"color:black\"> IABE Data Science Certificate - Module 1 - Computer lab 1  </h1> </center> \n",
    "<center> <h2> <span style=\"color:red\"> Programming : Foundations of actuarial learning and organization of the training </h1> </center>"
   ]
  },
  {
   "cell_type": "markdown",
   "metadata": {
    "id": "K1k8uLar1WSa"
   },
   "source": [
    "# Agenda\n",
    "\n",
    "* [Chapter 1 - Introduction](#one)\n",
    "    + [1.1 Objective of the notebook](#one-one)\n",
    "    + [1.2 Speakers](#one-two)\n",
    "    + [1.3 IT requirements](#one-three)\n",
    "\n",
    "\n",
    "* [Chapter 2 - Import of libraries and dataset](#two)\n",
    "    + [2.1 Importing the libraries](#two-one)\n",
    "    + [2.2 Importing the data](#two-two)\n",
    "    \n",
    "    \n",
    "* [Chapter 3 - Basic exploration of the dataset](#three)\n",
    "\n",
    "\n",
    "* [Chapter 4 - Features filtering](#four)\n",
    "    + [4.1 Missing values filters](#four-one)\n",
    "    + [4.2 Low dispersion ratio/high concentration filters](#four-two)\n",
    "    \n",
    "    \n",
    "* [Chapter 5 - Training/Test split](#five)\n",
    "\n",
    "\n",
    "* [Chapter 6 - Features engineering](#six)\n"
   ]
  },
  {
   "cell_type": "markdown",
   "metadata": {
    "id": "g3NVguZ11WSc"
   },
   "source": [
    "<br><br>"
   ]
  },
  {
   "cell_type": "markdown",
   "metadata": {
    "id": "5d_kIsfY1WSc"
   },
   "source": [
    "# Chapter 1 - Introduction <a name=\"one\"></a>"
   ]
  },
  {
   "cell_type": "markdown",
   "metadata": {
    "id": "ZmZy9U841WSd"
   },
   "source": [
    "## 1.1 Objective of the notebook <a name=\"one-one\"></a>"
   ]
  },
  {
   "cell_type": "markdown",
   "metadata": {
    "id": "_8ZD7TDk1WSd"
   },
   "source": [
    "The objectif of this notebook is to \n",
    "1. Explain how to run the python notebooks with either Google Colab or Anaconda\n",
    "2. Introduce the datasets which will be used throughout the training\n",
    "3. Perform some simple but useful tasks on those datasets such as\n",
    "    - descriptive analysis\n",
    "    - feature engineering\n",
    "    - feature filtering"
   ]
  },
  {
   "cell_type": "markdown",
   "metadata": {
    "id": "uCOyUA6R1WSe"
   },
   "source": [
    "## 1.2 Speakers<a name=\"one-two\"></a>"
   ]
  },
  {
   "cell_type": "markdown",
   "metadata": {
    "id": "8PhlPEuO1WSf"
   },
   "source": [
    "- Samuel Mahy\n",
    "\n",
    "Samuel Mahy is director at Reacfin and head of the Non-Life Center of Excellence. He holds a Master of Engineering in Applied Mathematics and a Master of Actuarial Sciences both from the University of Louvain.\n",
    "\n",
    "contact : samuel.mahy@reacfin.com\n",
    "\n",
    "- Michael Lecuivre\n",
    "\n",
    "Michael Lecuivre is senior consultant Non-Life at Reacfin. He holds a Master of Physics and a Master of Actuarial Sciences both from the University of Louvain.  \n",
    "\n",
    "contact : michael.lecuivre@reacfin.com"
   ]
  },
  {
   "cell_type": "markdown",
   "metadata": {
    "id": "iK_P1oQS1WSg"
   },
   "source": [
    "## 1.3 IT requirements <a name=\"one-three\"></a>"
   ]
  },
  {
   "cell_type": "markdown",
   "metadata": {
    "id": "umOHXOvQ1WSh"
   },
   "source": [
    "First, download the notebook dedicated to computer lab 1 of the Data Science Certificate by clicking [here](https://gitfront.io/r/katrienantonio/a29071bdc7b2f20f24268be573ef54b68c65168c/IABE-DS-module-1/)\n",
    "\n",
    "\n",
    "\n",
    "You then have two options to join the coding exercises covered during the \n",
    "computer labs.\n",
    "\n",
    "**Google Colab - default!**\n",
    "\n",
    "Google Colaboratory, or “Colab” for short, allows you to write and execute Python in your browser. Having a Google account you should be able to open the notebook and to run the python code cells. You can find [here](https://colab.research.google.com/drive/1ow9YIPqDiBwMPVanEK74G3CGX7Xx0PRx#scrollTo=umOHXOvQ1WSh) the notebook dedicated to the first computer lab of the IA|BE Data Science Certificate. You can store a copy of this notebook on your Google drive, or download a local copy.\n",
    "\n",
    "To open the notebook you can either follow the direct link or you can download the notebook from [here](https://gitfront.io/r/katrienantonio/a29071bdc7b2f20f24268be573ef54b68c65168c/IABE-DS-module-1/) and then you just have to perform the following steps : \n",
    "1. go to Google Colab :  https://colab.research.google.com\n",
    "2. click on **Upload** and upload your local copy of the notebook.\n",
    "\n",
    "To execute the code in a code cell, select it with a click and then either press the play button to the left of the code, or use the keyboard shortcut \"Command/Ctrl+Enter\". To edit the code, just click the cell and start editing. Watch [Introduction to Colab](https://www.youtube.com/watch?v=inN8seMm7UI) to learn more.\n",
    "\n",
    "In colab many python libraries are already available by default. If a library is missing it can be installed as explained [here](https://colab.research.google.com/notebooks/snippets/importing_libraries.ipynb)\n",
    "\n",
    "**Local installation - optional**\n",
    "\n",
    "We recommend obtaining your local installation of Python via the distribution platform Anaconda. Here you should\n",
    "\n",
    "- download Anaconda at https://www.anaconda.com/distribution/#download-section, select the version for Python 3.8 and make sure to pick the right operating system (top of the page: select Windows, macOS or Linux)\n",
    "\n",
    "- install Anaconda; this is straightforward after launching the installer, but (in case you are in doubt) some instructions are at https://docs.anaconda.com/anaconda/install/windows/.\n",
    "\n",
    "To open the notebook you have downloaded [here](https://gitfront.io/r/katrienantonio/a29071bdc7b2f20f24268be573ef54b68c65168c/IABE-DS-module-1/) simply\n",
    "\n",
    "1. Launch Anaconda\n",
    "2. Launch Jupiter Notebook from Anaconda main screen\n",
    "3. Open the notebook file stored on your computer\n",
    "\n",
    "In Anaconda many python libraries are already available by default. If a library is missing it can be installed by typing **pip install [library]** in the Anaconda command prompt. In order to be able to run this command you have to install **pip** from [here](https://pip.pypa.io/en/stable/installing/)"
   ]
  },
  {
   "cell_type": "markdown",
   "metadata": {
    "id": "UrwNFC7D1WSi"
   },
   "source": [
    "# Chapter 2 - Import of libraries and datasets <a name=\"two\"></a>"
   ]
  },
  {
   "cell_type": "markdown",
   "metadata": {
    "id": "7mUMU7Um1WSj"
   },
   "source": [
    "In this chapter, we will explain how to load the required libraries and datasets\n",
    "<br><br>"
   ]
  },
  {
   "cell_type": "markdown",
   "metadata": {
    "id": "rHoIWrfF1WSj"
   },
   "source": [
    "## 2.1 Importing the libraries<a name=\"two-one\"></a>"
   ]
  },
  {
   "cell_type": "markdown",
   "metadata": {
    "id": "jN7eZdjF1WSj"
   },
   "source": [
    "First we make sure we are running an up to date version of Python (at least 3.8)"
   ]
  },
  {
   "cell_type": "code",
   "execution_count": null,
   "metadata": {
    "colab": {
     "base_uri": "https://localhost:8080/"
    },
    "id": "0syr7xA61WSk",
    "outputId": "8724383d-22b9-48c6-de41-f6b687b40488"
   },
   "outputs": [
    {
     "name": "stdout",
     "output_type": "stream",
     "text": [
      "3.7.12 (default, Sep 10 2021, 00:21:48) \n",
      "[GCC 7.5.0]\n"
     ]
    }
   ],
   "source": [
    "import sys\n",
    "print (sys.version)"
   ]
  },
  {
   "cell_type": "markdown",
   "metadata": {
    "id": "Q_pse1qp1WSl"
   },
   "source": [
    "In this first training we will use the **following libraries**: \n",
    "\n",
    "|Library | Definition                                                                             |\n",
    "|----|---------------------------------------------------------------------------------|\n",
    "| feature_engine | Contains functions related to feature engineering such as one hot encoding,...|\n",
    "| matplotlib | Python 2D plotting library that contains many submodules like pyplot, a matlab-like interface\t|\n",
    "| math | Mathematical functions such as exponential, sine, etc. |\n",
    "| numpy | Fundamental package for scientific computing. Numpy allows the user to integrate C/C++ and Fortran code to Python projects |\n",
    "| pandas | Provides high-performance, easy-to-use data structures and data analysis tools |\n",
    "| seaborn | Allows to plot distributions|\n",
    "| sklearn | Widely used machine learning library with classification, regression, clustering, model selection, preprocessing etc. |\n",
    "| warnings | Allows to handle warnings options|\n",
    "\n",
    "\n"
   ]
  },
  {
   "cell_type": "markdown",
   "metadata": {
    "id": "wgtD4IAt1WSl"
   },
   "source": [
    "After installing the libraries through the use of **pip**, we still have to import them in the notebook for which we can use the `import` statement."
   ]
  },
  {
   "cell_type": "markdown",
   "metadata": {
    "id": "ofe9xi4U1WSm"
   },
   "source": [
    " "
   ]
  },
  {
   "cell_type": "code",
   "execution_count": null,
   "metadata": {
    "id": "83jUhlmU1WSm"
   },
   "outputs": [],
   "source": [
    "import math \n",
    "import warnings; warnings.filterwarnings(\"ignore\") #delete warnings"
   ]
  },
  {
   "cell_type": "markdown",
   "metadata": {
    "id": "jfUiQ9-d1WSm"
   },
   "source": [
    " "
   ]
  },
  {
   "cell_type": "markdown",
   "metadata": {
    "id": "77vElmKn1WSm"
   },
   "source": [
    "Basically, we know that we will have to use the *pandas* library many times. To **improve the code readability**, we will also use the command `import pandas as pd`. This means that we will be able to use a pandas function using `pd.name_of_a_function`. We will apply the same manipulation for other packages as well, e.g. for a package such as *numpy*."
   ]
  },
  {
   "cell_type": "code",
   "execution_count": null,
   "metadata": {
    "id": "zsss2CPf1WSn"
   },
   "outputs": [],
   "source": [
    "import pandas as pd\n",
    "import numpy as np\n",
    "import seaborn as sb\n",
    "import matplotlib.pyplot as plt\n"
   ]
  },
  {
   "cell_type": "markdown",
   "metadata": {
    "id": "_j9N1Jd61WSn"
   },
   "source": [
    "Some libraries, such as *sklearn*, are **too big for the limited use that we will need**. Therefore, we prefer to import only one function, i.e. *train_test_split*, from *sklearn*. The same logic is used for some other libraries:"
   ]
  },
  {
   "cell_type": "code",
   "execution_count": null,
   "metadata": {
    "colab": {
     "base_uri": "https://localhost:8080/"
    },
    "id": "xF1zZ5D31WSn",
    "outputId": "6a4c2b74-125b-4dec-f2c2-0bc4dc9fc63b"
   },
   "outputs": [
    {
     "name": "stdout",
     "output_type": "stream",
     "text": [
      "Requirement already satisfied: feature_engine in /usr/local/lib/python3.7/dist-packages (1.1.2)\n",
      "Requirement already satisfied: scikit-learn>=0.22.2 in /usr/local/lib/python3.7/dist-packages (from feature_engine) (0.22.2.post1)\n",
      "Requirement already satisfied: scipy>=1.4.1 in /usr/local/lib/python3.7/dist-packages (from feature_engine) (1.4.1)\n",
      "Requirement already satisfied: statsmodels>=0.11.1 in /usr/local/lib/python3.7/dist-packages (from feature_engine) (0.13.0)\n",
      "Requirement already satisfied: numpy>=1.18.2 in /usr/local/lib/python3.7/dist-packages (from feature_engine) (1.19.5)\n",
      "Requirement already satisfied: pandas>=1.0.3 in /usr/local/lib/python3.7/dist-packages (from feature_engine) (1.1.5)\n",
      "Requirement already satisfied: python-dateutil>=2.7.3 in /usr/local/lib/python3.7/dist-packages (from pandas>=1.0.3->feature_engine) (2.8.2)\n",
      "Requirement already satisfied: pytz>=2017.2 in /usr/local/lib/python3.7/dist-packages (from pandas>=1.0.3->feature_engine) (2018.9)\n",
      "Requirement already satisfied: six>=1.5 in /usr/local/lib/python3.7/dist-packages (from python-dateutil>=2.7.3->pandas>=1.0.3->feature_engine) (1.15.0)\n",
      "Requirement already satisfied: joblib>=0.11 in /usr/local/lib/python3.7/dist-packages (from scikit-learn>=0.22.2->feature_engine) (1.0.1)\n",
      "Requirement already satisfied: patsy>=0.5.2 in /usr/local/lib/python3.7/dist-packages (from statsmodels>=0.11.1->feature_engine) (0.5.2)\n"
     ]
    }
   ],
   "source": [
    "from sklearn.model_selection import train_test_split\n",
    "from sklearn.model_selection import cross_val_score\n",
    "from sklearn.model_selection import RepeatedStratifiedKFold\n",
    "from sklearn.model_selection import KFold\n",
    "\n",
    "from sklearn.compose import ColumnTransformer\n",
    "from sklearn.preprocessing import StandardScaler, MinMaxScaler\n",
    "from sklearn.pipeline import make_pipeline\n",
    "from sklearn.linear_model import LinearRegression\n",
    "\n",
    "# run !pip install feature_engine in colab as it is not in the evironment by default\n",
    "# !pip install feature_engine\n",
    "from feature_engine.encoding import OrdinalEncoder, OneHotEncoder\n",
    "\n"
   ]
  },
  {
   "cell_type": "markdown",
   "metadata": {
    "id": "64RZ1zdt1WSo"
   },
   "source": [
    "This approach has **several benefits**:\n",
    "\n",
    "* Few functions (and their dependences) are loaded;\n",
    "* We can just call the function by its name.\n",
    "\n",
    "Some libraries, such as *gensim*, are **too big for the use we will have**. Therefore, we prefer to import only one function, i.e. *KeyedVectors*, from *gensim*. The same logic is used for some other libraries:"
   ]
  },
  {
   "cell_type": "markdown",
   "metadata": {
    "id": "J1ciASHu1WSo"
   },
   "source": [
    "<br>"
   ]
  },
  {
   "cell_type": "markdown",
   "metadata": {
    "id": "dyFx8_ug1WSo"
   },
   "source": [
    "## 2.2 Importing the data<a name=\"two-two\"></a>"
   ]
  },
  {
   "cell_type": "markdown",
   "metadata": {
    "id": "Dp4HrdeV1WSo"
   },
   "source": [
    "For business case purposes, we will use the following datasets : \n",
    "\n",
    "- a dataset describing the sale of individual residential property in Ames, Iowa from 2006 to 2010 (more info [here](http://jse.amstat.org/v19n3/decock/DataDocumentation.txt))\n",
    "- a dataset containing the claim history for Motor Third Party Liability insurance cover \n",
    "\n",
    "If we want to load these files in Python, we can use the function `read_csv()` which belongs to the panda library (which we abbreviated to `pd`)"
   ]
  },
  {
   "cell_type": "code",
   "execution_count": null,
   "metadata": {
    "id": "ClEeMCWl1WSp"
   },
   "outputs": [],
   "source": [
    "ames_python = pd.read_csv(\"https://katrienantonio.github.io/hands-on-machine-learning-R-module-1/data/ames_python.csv\")\n",
    "mtpl_python = pd.read_csv(\"https://katrienantonio.github.io/hands-on-machine-learning-R-module-1/data/PC_data.txt\", delimiter = \"\\t\")"
   ]
  },
  {
   "cell_type": "markdown",
   "metadata": {
    "id": "FyT9xObF1WSp"
   },
   "source": [
    " "
   ]
  },
  {
   "cell_type": "markdown",
   "metadata": {
    "id": "-02wAuiE1WSp"
   },
   "source": [
    "We can check that the import was performed correctly by using the `head()` function."
   ]
  },
  {
   "cell_type": "code",
   "execution_count": null,
   "metadata": {
    "colab": {
     "base_uri": "https://localhost:8080/",
     "height": 269
    },
    "id": "ojTKDeee1WSq",
    "outputId": "a9d55bef-c8a2-4070-9094-fb21d0673b2d"
   },
   "outputs": [
    {
     "data": {
      "text/html": [
       "<div>\n",
       "<style scoped>\n",
       "    .dataframe tbody tr th:only-of-type {\n",
       "        vertical-align: middle;\n",
       "    }\n",
       "\n",
       "    .dataframe tbody tr th {\n",
       "        vertical-align: top;\n",
       "    }\n",
       "\n",
       "    .dataframe thead th {\n",
       "        text-align: right;\n",
       "    }\n",
       "</style>\n",
       "<table border=\"1\" class=\"dataframe\">\n",
       "  <thead>\n",
       "    <tr style=\"text-align: right;\">\n",
       "      <th></th>\n",
       "      <th>Unnamed: 0</th>\n",
       "      <th>MS_SubClass</th>\n",
       "      <th>MS_Zoning</th>\n",
       "      <th>Lot_Frontage</th>\n",
       "      <th>Lot_Area</th>\n",
       "      <th>Street</th>\n",
       "      <th>Alley</th>\n",
       "      <th>Lot_Shape</th>\n",
       "      <th>Land_Contour</th>\n",
       "      <th>Utilities</th>\n",
       "      <th>Lot_Config</th>\n",
       "      <th>Land_Slope</th>\n",
       "      <th>Neighborhood</th>\n",
       "      <th>Condition_1</th>\n",
       "      <th>Condition_2</th>\n",
       "      <th>Bldg_Type</th>\n",
       "      <th>House_Style</th>\n",
       "      <th>Overall_Qual</th>\n",
       "      <th>Overall_Cond</th>\n",
       "      <th>Year_Built</th>\n",
       "      <th>Year_Remod_Add</th>\n",
       "      <th>Roof_Style</th>\n",
       "      <th>Roof_Matl</th>\n",
       "      <th>Exterior_1st</th>\n",
       "      <th>Exterior_2nd</th>\n",
       "      <th>Mas_Vnr_Type</th>\n",
       "      <th>Mas_Vnr_Area</th>\n",
       "      <th>Exter_Qual</th>\n",
       "      <th>Exter_Cond</th>\n",
       "      <th>Foundation</th>\n",
       "      <th>Bsmt_Qual</th>\n",
       "      <th>Bsmt_Cond</th>\n",
       "      <th>Bsmt_Exposure</th>\n",
       "      <th>BsmtFin_Type_1</th>\n",
       "      <th>BsmtFin_SF_1</th>\n",
       "      <th>BsmtFin_Type_2</th>\n",
       "      <th>BsmtFin_SF_2</th>\n",
       "      <th>Bsmt_Unf_SF</th>\n",
       "      <th>Total_Bsmt_SF</th>\n",
       "      <th>Heating</th>\n",
       "      <th>...</th>\n",
       "      <th>Electrical</th>\n",
       "      <th>First_Flr_SF</th>\n",
       "      <th>Second_Flr_SF</th>\n",
       "      <th>Low_Qual_Fin_SF</th>\n",
       "      <th>Gr_Liv_Area</th>\n",
       "      <th>Bsmt_Full_Bath</th>\n",
       "      <th>Bsmt_Half_Bath</th>\n",
       "      <th>Full_Bath</th>\n",
       "      <th>Half_Bath</th>\n",
       "      <th>Bedroom_AbvGr</th>\n",
       "      <th>Kitchen_AbvGr</th>\n",
       "      <th>Kitchen_Qual</th>\n",
       "      <th>TotRms_AbvGrd</th>\n",
       "      <th>Functional</th>\n",
       "      <th>Fireplaces</th>\n",
       "      <th>Fireplace_Qu</th>\n",
       "      <th>Garage_Type</th>\n",
       "      <th>Garage_Finish</th>\n",
       "      <th>Garage_Cars</th>\n",
       "      <th>Garage_Area</th>\n",
       "      <th>Garage_Qual</th>\n",
       "      <th>Garage_Cond</th>\n",
       "      <th>Paved_Drive</th>\n",
       "      <th>Wood_Deck_SF</th>\n",
       "      <th>Open_Porch_SF</th>\n",
       "      <th>Enclosed_Porch</th>\n",
       "      <th>Three_season_porch</th>\n",
       "      <th>Screen_Porch</th>\n",
       "      <th>Pool_Area</th>\n",
       "      <th>Pool_QC</th>\n",
       "      <th>Fence</th>\n",
       "      <th>Misc_Feature</th>\n",
       "      <th>Misc_Val</th>\n",
       "      <th>Mo_Sold</th>\n",
       "      <th>Year_Sold</th>\n",
       "      <th>Sale_Type</th>\n",
       "      <th>Sale_Condition</th>\n",
       "      <th>Sale_Price</th>\n",
       "      <th>Longitude</th>\n",
       "      <th>Latitude</th>\n",
       "    </tr>\n",
       "  </thead>\n",
       "  <tbody>\n",
       "    <tr>\n",
       "      <th>0</th>\n",
       "      <td>1</td>\n",
       "      <td>One_Story_1946_and_Newer_All_Styles</td>\n",
       "      <td>Residential_Low_Density</td>\n",
       "      <td>141</td>\n",
       "      <td>31770</td>\n",
       "      <td>Pave</td>\n",
       "      <td>No_Alley_Access</td>\n",
       "      <td>Slightly_Irregular</td>\n",
       "      <td>Lvl</td>\n",
       "      <td>AllPub</td>\n",
       "      <td>Corner</td>\n",
       "      <td>Gtl</td>\n",
       "      <td>North_Ames</td>\n",
       "      <td>Norm</td>\n",
       "      <td>Norm</td>\n",
       "      <td>OneFam</td>\n",
       "      <td>One_Story</td>\n",
       "      <td>Above_Average</td>\n",
       "      <td>Average</td>\n",
       "      <td>1960</td>\n",
       "      <td>1960</td>\n",
       "      <td>Hip</td>\n",
       "      <td>CompShg</td>\n",
       "      <td>BrkFace</td>\n",
       "      <td>Plywood</td>\n",
       "      <td>Stone</td>\n",
       "      <td>112</td>\n",
       "      <td>Typical</td>\n",
       "      <td>Typical</td>\n",
       "      <td>CBlock</td>\n",
       "      <td>Typical</td>\n",
       "      <td>Good</td>\n",
       "      <td>Gd</td>\n",
       "      <td>BLQ</td>\n",
       "      <td>2</td>\n",
       "      <td>Unf</td>\n",
       "      <td>0</td>\n",
       "      <td>441</td>\n",
       "      <td>1080</td>\n",
       "      <td>GasA</td>\n",
       "      <td>...</td>\n",
       "      <td>SBrkr</td>\n",
       "      <td>1656</td>\n",
       "      <td>0</td>\n",
       "      <td>0</td>\n",
       "      <td>1656</td>\n",
       "      <td>1</td>\n",
       "      <td>0</td>\n",
       "      <td>1</td>\n",
       "      <td>0</td>\n",
       "      <td>3</td>\n",
       "      <td>1</td>\n",
       "      <td>Typical</td>\n",
       "      <td>7</td>\n",
       "      <td>Typ</td>\n",
       "      <td>2</td>\n",
       "      <td>Good</td>\n",
       "      <td>Attchd</td>\n",
       "      <td>Fin</td>\n",
       "      <td>2</td>\n",
       "      <td>528</td>\n",
       "      <td>Typical</td>\n",
       "      <td>Typical</td>\n",
       "      <td>Partial_Pavement</td>\n",
       "      <td>210</td>\n",
       "      <td>62</td>\n",
       "      <td>0</td>\n",
       "      <td>0</td>\n",
       "      <td>0</td>\n",
       "      <td>0</td>\n",
       "      <td>No_Pool</td>\n",
       "      <td>No_Fence</td>\n",
       "      <td>None</td>\n",
       "      <td>0</td>\n",
       "      <td>5</td>\n",
       "      <td>2010</td>\n",
       "      <td>WD</td>\n",
       "      <td>Normal</td>\n",
       "      <td>215000</td>\n",
       "      <td>-93.619754</td>\n",
       "      <td>42.054035</td>\n",
       "    </tr>\n",
       "    <tr>\n",
       "      <th>1</th>\n",
       "      <td>2</td>\n",
       "      <td>One_Story_1946_and_Newer_All_Styles</td>\n",
       "      <td>Residential_High_Density</td>\n",
       "      <td>80</td>\n",
       "      <td>11622</td>\n",
       "      <td>Pave</td>\n",
       "      <td>No_Alley_Access</td>\n",
       "      <td>Regular</td>\n",
       "      <td>Lvl</td>\n",
       "      <td>AllPub</td>\n",
       "      <td>Inside</td>\n",
       "      <td>Gtl</td>\n",
       "      <td>North_Ames</td>\n",
       "      <td>Feedr</td>\n",
       "      <td>Norm</td>\n",
       "      <td>OneFam</td>\n",
       "      <td>One_Story</td>\n",
       "      <td>Average</td>\n",
       "      <td>Above_Average</td>\n",
       "      <td>1961</td>\n",
       "      <td>1961</td>\n",
       "      <td>Gable</td>\n",
       "      <td>CompShg</td>\n",
       "      <td>VinylSd</td>\n",
       "      <td>VinylSd</td>\n",
       "      <td>None</td>\n",
       "      <td>0</td>\n",
       "      <td>Typical</td>\n",
       "      <td>Typical</td>\n",
       "      <td>CBlock</td>\n",
       "      <td>Typical</td>\n",
       "      <td>Typical</td>\n",
       "      <td>No</td>\n",
       "      <td>Rec</td>\n",
       "      <td>6</td>\n",
       "      <td>LwQ</td>\n",
       "      <td>144</td>\n",
       "      <td>270</td>\n",
       "      <td>882</td>\n",
       "      <td>GasA</td>\n",
       "      <td>...</td>\n",
       "      <td>SBrkr</td>\n",
       "      <td>896</td>\n",
       "      <td>0</td>\n",
       "      <td>0</td>\n",
       "      <td>896</td>\n",
       "      <td>0</td>\n",
       "      <td>0</td>\n",
       "      <td>1</td>\n",
       "      <td>0</td>\n",
       "      <td>2</td>\n",
       "      <td>1</td>\n",
       "      <td>Typical</td>\n",
       "      <td>5</td>\n",
       "      <td>Typ</td>\n",
       "      <td>0</td>\n",
       "      <td>No_Fireplace</td>\n",
       "      <td>Attchd</td>\n",
       "      <td>Unf</td>\n",
       "      <td>1</td>\n",
       "      <td>730</td>\n",
       "      <td>Typical</td>\n",
       "      <td>Typical</td>\n",
       "      <td>Paved</td>\n",
       "      <td>140</td>\n",
       "      <td>0</td>\n",
       "      <td>0</td>\n",
       "      <td>0</td>\n",
       "      <td>120</td>\n",
       "      <td>0</td>\n",
       "      <td>No_Pool</td>\n",
       "      <td>Minimum_Privacy</td>\n",
       "      <td>None</td>\n",
       "      <td>0</td>\n",
       "      <td>6</td>\n",
       "      <td>2010</td>\n",
       "      <td>WD</td>\n",
       "      <td>Normal</td>\n",
       "      <td>105000</td>\n",
       "      <td>-93.619756</td>\n",
       "      <td>42.053014</td>\n",
       "    </tr>\n",
       "    <tr>\n",
       "      <th>2</th>\n",
       "      <td>3</td>\n",
       "      <td>One_Story_1946_and_Newer_All_Styles</td>\n",
       "      <td>Residential_Low_Density</td>\n",
       "      <td>81</td>\n",
       "      <td>14267</td>\n",
       "      <td>Pave</td>\n",
       "      <td>No_Alley_Access</td>\n",
       "      <td>Slightly_Irregular</td>\n",
       "      <td>Lvl</td>\n",
       "      <td>AllPub</td>\n",
       "      <td>Corner</td>\n",
       "      <td>Gtl</td>\n",
       "      <td>North_Ames</td>\n",
       "      <td>Norm</td>\n",
       "      <td>Norm</td>\n",
       "      <td>OneFam</td>\n",
       "      <td>One_Story</td>\n",
       "      <td>Above_Average</td>\n",
       "      <td>Above_Average</td>\n",
       "      <td>1958</td>\n",
       "      <td>1958</td>\n",
       "      <td>Hip</td>\n",
       "      <td>CompShg</td>\n",
       "      <td>Wd Sdng</td>\n",
       "      <td>Wd Sdng</td>\n",
       "      <td>BrkFace</td>\n",
       "      <td>108</td>\n",
       "      <td>Typical</td>\n",
       "      <td>Typical</td>\n",
       "      <td>CBlock</td>\n",
       "      <td>Typical</td>\n",
       "      <td>Typical</td>\n",
       "      <td>No</td>\n",
       "      <td>ALQ</td>\n",
       "      <td>1</td>\n",
       "      <td>Unf</td>\n",
       "      <td>0</td>\n",
       "      <td>406</td>\n",
       "      <td>1329</td>\n",
       "      <td>GasA</td>\n",
       "      <td>...</td>\n",
       "      <td>SBrkr</td>\n",
       "      <td>1329</td>\n",
       "      <td>0</td>\n",
       "      <td>0</td>\n",
       "      <td>1329</td>\n",
       "      <td>0</td>\n",
       "      <td>0</td>\n",
       "      <td>1</td>\n",
       "      <td>1</td>\n",
       "      <td>3</td>\n",
       "      <td>1</td>\n",
       "      <td>Good</td>\n",
       "      <td>6</td>\n",
       "      <td>Typ</td>\n",
       "      <td>0</td>\n",
       "      <td>No_Fireplace</td>\n",
       "      <td>Attchd</td>\n",
       "      <td>Unf</td>\n",
       "      <td>1</td>\n",
       "      <td>312</td>\n",
       "      <td>Typical</td>\n",
       "      <td>Typical</td>\n",
       "      <td>Paved</td>\n",
       "      <td>393</td>\n",
       "      <td>36</td>\n",
       "      <td>0</td>\n",
       "      <td>0</td>\n",
       "      <td>0</td>\n",
       "      <td>0</td>\n",
       "      <td>No_Pool</td>\n",
       "      <td>No_Fence</td>\n",
       "      <td>Gar2</td>\n",
       "      <td>12500</td>\n",
       "      <td>6</td>\n",
       "      <td>2010</td>\n",
       "      <td>WD</td>\n",
       "      <td>Normal</td>\n",
       "      <td>172000</td>\n",
       "      <td>-93.619387</td>\n",
       "      <td>42.052659</td>\n",
       "    </tr>\n",
       "    <tr>\n",
       "      <th>3</th>\n",
       "      <td>4</td>\n",
       "      <td>One_Story_1946_and_Newer_All_Styles</td>\n",
       "      <td>Residential_Low_Density</td>\n",
       "      <td>93</td>\n",
       "      <td>11160</td>\n",
       "      <td>Pave</td>\n",
       "      <td>No_Alley_Access</td>\n",
       "      <td>Regular</td>\n",
       "      <td>Lvl</td>\n",
       "      <td>AllPub</td>\n",
       "      <td>Corner</td>\n",
       "      <td>Gtl</td>\n",
       "      <td>North_Ames</td>\n",
       "      <td>Norm</td>\n",
       "      <td>Norm</td>\n",
       "      <td>OneFam</td>\n",
       "      <td>One_Story</td>\n",
       "      <td>Good</td>\n",
       "      <td>Average</td>\n",
       "      <td>1968</td>\n",
       "      <td>1968</td>\n",
       "      <td>Hip</td>\n",
       "      <td>CompShg</td>\n",
       "      <td>BrkFace</td>\n",
       "      <td>BrkFace</td>\n",
       "      <td>None</td>\n",
       "      <td>0</td>\n",
       "      <td>Good</td>\n",
       "      <td>Typical</td>\n",
       "      <td>CBlock</td>\n",
       "      <td>Typical</td>\n",
       "      <td>Typical</td>\n",
       "      <td>No</td>\n",
       "      <td>ALQ</td>\n",
       "      <td>1</td>\n",
       "      <td>Unf</td>\n",
       "      <td>0</td>\n",
       "      <td>1045</td>\n",
       "      <td>2110</td>\n",
       "      <td>GasA</td>\n",
       "      <td>...</td>\n",
       "      <td>SBrkr</td>\n",
       "      <td>2110</td>\n",
       "      <td>0</td>\n",
       "      <td>0</td>\n",
       "      <td>2110</td>\n",
       "      <td>1</td>\n",
       "      <td>0</td>\n",
       "      <td>2</td>\n",
       "      <td>1</td>\n",
       "      <td>3</td>\n",
       "      <td>1</td>\n",
       "      <td>Excellent</td>\n",
       "      <td>8</td>\n",
       "      <td>Typ</td>\n",
       "      <td>2</td>\n",
       "      <td>Typical</td>\n",
       "      <td>Attchd</td>\n",
       "      <td>Fin</td>\n",
       "      <td>2</td>\n",
       "      <td>522</td>\n",
       "      <td>Typical</td>\n",
       "      <td>Typical</td>\n",
       "      <td>Paved</td>\n",
       "      <td>0</td>\n",
       "      <td>0</td>\n",
       "      <td>0</td>\n",
       "      <td>0</td>\n",
       "      <td>0</td>\n",
       "      <td>0</td>\n",
       "      <td>No_Pool</td>\n",
       "      <td>No_Fence</td>\n",
       "      <td>None</td>\n",
       "      <td>0</td>\n",
       "      <td>4</td>\n",
       "      <td>2010</td>\n",
       "      <td>WD</td>\n",
       "      <td>Normal</td>\n",
       "      <td>244000</td>\n",
       "      <td>-93.617320</td>\n",
       "      <td>42.051245</td>\n",
       "    </tr>\n",
       "    <tr>\n",
       "      <th>4</th>\n",
       "      <td>5</td>\n",
       "      <td>Two_Story_1946_and_Newer</td>\n",
       "      <td>Residential_Low_Density</td>\n",
       "      <td>74</td>\n",
       "      <td>13830</td>\n",
       "      <td>Pave</td>\n",
       "      <td>No_Alley_Access</td>\n",
       "      <td>Slightly_Irregular</td>\n",
       "      <td>Lvl</td>\n",
       "      <td>AllPub</td>\n",
       "      <td>Inside</td>\n",
       "      <td>Gtl</td>\n",
       "      <td>Gilbert</td>\n",
       "      <td>Norm</td>\n",
       "      <td>Norm</td>\n",
       "      <td>OneFam</td>\n",
       "      <td>Two_Story</td>\n",
       "      <td>Average</td>\n",
       "      <td>Average</td>\n",
       "      <td>1997</td>\n",
       "      <td>1998</td>\n",
       "      <td>Gable</td>\n",
       "      <td>CompShg</td>\n",
       "      <td>VinylSd</td>\n",
       "      <td>VinylSd</td>\n",
       "      <td>None</td>\n",
       "      <td>0</td>\n",
       "      <td>Typical</td>\n",
       "      <td>Typical</td>\n",
       "      <td>PConc</td>\n",
       "      <td>Good</td>\n",
       "      <td>Typical</td>\n",
       "      <td>No</td>\n",
       "      <td>GLQ</td>\n",
       "      <td>3</td>\n",
       "      <td>Unf</td>\n",
       "      <td>0</td>\n",
       "      <td>137</td>\n",
       "      <td>928</td>\n",
       "      <td>GasA</td>\n",
       "      <td>...</td>\n",
       "      <td>SBrkr</td>\n",
       "      <td>928</td>\n",
       "      <td>701</td>\n",
       "      <td>0</td>\n",
       "      <td>1629</td>\n",
       "      <td>0</td>\n",
       "      <td>0</td>\n",
       "      <td>2</td>\n",
       "      <td>1</td>\n",
       "      <td>3</td>\n",
       "      <td>1</td>\n",
       "      <td>Typical</td>\n",
       "      <td>6</td>\n",
       "      <td>Typ</td>\n",
       "      <td>1</td>\n",
       "      <td>Typical</td>\n",
       "      <td>Attchd</td>\n",
       "      <td>Fin</td>\n",
       "      <td>2</td>\n",
       "      <td>482</td>\n",
       "      <td>Typical</td>\n",
       "      <td>Typical</td>\n",
       "      <td>Paved</td>\n",
       "      <td>212</td>\n",
       "      <td>34</td>\n",
       "      <td>0</td>\n",
       "      <td>0</td>\n",
       "      <td>0</td>\n",
       "      <td>0</td>\n",
       "      <td>No_Pool</td>\n",
       "      <td>Minimum_Privacy</td>\n",
       "      <td>None</td>\n",
       "      <td>0</td>\n",
       "      <td>3</td>\n",
       "      <td>2010</td>\n",
       "      <td>WD</td>\n",
       "      <td>Normal</td>\n",
       "      <td>189900</td>\n",
       "      <td>-93.638933</td>\n",
       "      <td>42.060899</td>\n",
       "    </tr>\n",
       "  </tbody>\n",
       "</table>\n",
       "<p>5 rows × 82 columns</p>\n",
       "</div>"
      ],
      "text/plain": [
       "   Unnamed: 0                          MS_SubClass  ...  Longitude   Latitude\n",
       "0           1  One_Story_1946_and_Newer_All_Styles  ... -93.619754  42.054035\n",
       "1           2  One_Story_1946_and_Newer_All_Styles  ... -93.619756  42.053014\n",
       "2           3  One_Story_1946_and_Newer_All_Styles  ... -93.619387  42.052659\n",
       "3           4  One_Story_1946_and_Newer_All_Styles  ... -93.617320  42.051245\n",
       "4           5             Two_Story_1946_and_Newer  ... -93.638933  42.060899\n",
       "\n",
       "[5 rows x 82 columns]"
      ]
     },
     "execution_count": 6,
     "metadata": {},
     "output_type": "execute_result"
    }
   ],
   "source": [
    "ames_python.head()\n"
   ]
  },
  {
   "cell_type": "code",
   "execution_count": null,
   "metadata": {
    "colab": {
     "base_uri": "https://localhost:8080/",
     "height": 203
    },
    "id": "_yfm6BJx1WSq",
    "outputId": "6474e8a1-4207-41cf-e31d-fa9624b54fed",
    "scrolled": true
   },
   "outputs": [
    {
     "data": {
      "text/html": [
       "<div>\n",
       "<style scoped>\n",
       "    .dataframe tbody tr th:only-of-type {\n",
       "        vertical-align: middle;\n",
       "    }\n",
       "\n",
       "    .dataframe tbody tr th {\n",
       "        vertical-align: top;\n",
       "    }\n",
       "\n",
       "    .dataframe thead th {\n",
       "        text-align: right;\n",
       "    }\n",
       "</style>\n",
       "<table border=\"1\" class=\"dataframe\">\n",
       "  <thead>\n",
       "    <tr style=\"text-align: right;\">\n",
       "      <th></th>\n",
       "      <th>ID</th>\n",
       "      <th>NCLAIMS</th>\n",
       "      <th>AMOUNT</th>\n",
       "      <th>AVG</th>\n",
       "      <th>EXP</th>\n",
       "      <th>COVERAGE</th>\n",
       "      <th>FUEL</th>\n",
       "      <th>USE</th>\n",
       "      <th>FLEET</th>\n",
       "      <th>SEX</th>\n",
       "      <th>AGEPH</th>\n",
       "      <th>BM</th>\n",
       "      <th>AGEC</th>\n",
       "      <th>POWER</th>\n",
       "      <th>PC</th>\n",
       "      <th>TOWN</th>\n",
       "      <th>LONG</th>\n",
       "      <th>LAT</th>\n",
       "    </tr>\n",
       "  </thead>\n",
       "  <tbody>\n",
       "    <tr>\n",
       "      <th>0</th>\n",
       "      <td>1</td>\n",
       "      <td>1</td>\n",
       "      <td>1618.001036</td>\n",
       "      <td>1618.001036</td>\n",
       "      <td>1.000000</td>\n",
       "      <td>TPL</td>\n",
       "      <td>gasoline</td>\n",
       "      <td>private</td>\n",
       "      <td>N</td>\n",
       "      <td>male</td>\n",
       "      <td>50</td>\n",
       "      <td>5</td>\n",
       "      <td>12</td>\n",
       "      <td>77</td>\n",
       "      <td>1000</td>\n",
       "      <td>BRUSSEL</td>\n",
       "      <td>4.355223</td>\n",
       "      <td>50.845386</td>\n",
       "    </tr>\n",
       "    <tr>\n",
       "      <th>1</th>\n",
       "      <td>2</td>\n",
       "      <td>0</td>\n",
       "      <td>0.000000</td>\n",
       "      <td>NaN</td>\n",
       "      <td>1.000000</td>\n",
       "      <td>PO</td>\n",
       "      <td>gasoline</td>\n",
       "      <td>private</td>\n",
       "      <td>N</td>\n",
       "      <td>female</td>\n",
       "      <td>64</td>\n",
       "      <td>5</td>\n",
       "      <td>3</td>\n",
       "      <td>66</td>\n",
       "      <td>1000</td>\n",
       "      <td>BRUSSEL</td>\n",
       "      <td>4.355223</td>\n",
       "      <td>50.845386</td>\n",
       "    </tr>\n",
       "    <tr>\n",
       "      <th>2</th>\n",
       "      <td>3</td>\n",
       "      <td>0</td>\n",
       "      <td>0.000000</td>\n",
       "      <td>NaN</td>\n",
       "      <td>1.000000</td>\n",
       "      <td>TPL</td>\n",
       "      <td>diesel</td>\n",
       "      <td>private</td>\n",
       "      <td>N</td>\n",
       "      <td>male</td>\n",
       "      <td>60</td>\n",
       "      <td>0</td>\n",
       "      <td>10</td>\n",
       "      <td>70</td>\n",
       "      <td>1000</td>\n",
       "      <td>BRUSSEL</td>\n",
       "      <td>4.355223</td>\n",
       "      <td>50.845386</td>\n",
       "    </tr>\n",
       "    <tr>\n",
       "      <th>3</th>\n",
       "      <td>4</td>\n",
       "      <td>0</td>\n",
       "      <td>0.000000</td>\n",
       "      <td>NaN</td>\n",
       "      <td>1.000000</td>\n",
       "      <td>TPL</td>\n",
       "      <td>gasoline</td>\n",
       "      <td>private</td>\n",
       "      <td>N</td>\n",
       "      <td>male</td>\n",
       "      <td>77</td>\n",
       "      <td>0</td>\n",
       "      <td>15</td>\n",
       "      <td>57</td>\n",
       "      <td>1000</td>\n",
       "      <td>BRUSSEL</td>\n",
       "      <td>4.355223</td>\n",
       "      <td>50.845386</td>\n",
       "    </tr>\n",
       "    <tr>\n",
       "      <th>4</th>\n",
       "      <td>5</td>\n",
       "      <td>1</td>\n",
       "      <td>155.974606</td>\n",
       "      <td>155.974606</td>\n",
       "      <td>0.046575</td>\n",
       "      <td>TPL</td>\n",
       "      <td>gasoline</td>\n",
       "      <td>private</td>\n",
       "      <td>N</td>\n",
       "      <td>female</td>\n",
       "      <td>28</td>\n",
       "      <td>9</td>\n",
       "      <td>7</td>\n",
       "      <td>70</td>\n",
       "      <td>1000</td>\n",
       "      <td>BRUSSEL</td>\n",
       "      <td>4.355223</td>\n",
       "      <td>50.845386</td>\n",
       "    </tr>\n",
       "  </tbody>\n",
       "</table>\n",
       "</div>"
      ],
      "text/plain": [
       "   ID  NCLAIMS       AMOUNT          AVG  ...    PC     TOWN      LONG        LAT\n",
       "0   1        1  1618.001036  1618.001036  ...  1000  BRUSSEL  4.355223  50.845386\n",
       "1   2        0     0.000000          NaN  ...  1000  BRUSSEL  4.355223  50.845386\n",
       "2   3        0     0.000000          NaN  ...  1000  BRUSSEL  4.355223  50.845386\n",
       "3   4        0     0.000000          NaN  ...  1000  BRUSSEL  4.355223  50.845386\n",
       "4   5        1   155.974606   155.974606  ...  1000  BRUSSEL  4.355223  50.845386\n",
       "\n",
       "[5 rows x 18 columns]"
      ]
     },
     "execution_count": 7,
     "metadata": {},
     "output_type": "execute_result"
    }
   ],
   "source": [
    "mtpl_python.head()\n"
   ]
  },
  {
   "cell_type": "markdown",
   "metadata": {
    "id": "G4RSd9bJ1WSq"
   },
   "source": [
    " "
   ]
  },
  {
   "cell_type": "markdown",
   "metadata": {
    "id": "86Lxx9ju1WSr"
   },
   "source": [
    "# Chapter 3 - Basic exploration of the datasets <a name=\"three\"></a>"
   ]
  },
  {
   "cell_type": "markdown",
   "metadata": {
    "id": "t8043qBp1WSr"
   },
   "source": [
    "In this chapter we will perform some descriptive analysis of the two datasets we just loaded"
   ]
  },
  {
   "cell_type": "markdown",
   "metadata": {
    "id": "p3ZsxCrg1WSs"
   },
   "source": [
    "First, we can get the number of rows and columns of each the dataset as follow : "
   ]
  },
  {
   "cell_type": "code",
   "execution_count": null,
   "metadata": {
    "colab": {
     "base_uri": "https://localhost:8080/"
    },
    "id": "NUN0VH2k1WSs",
    "outputId": "9ca9ec48-72f5-418e-f7b2-3b923325ff2f"
   },
   "outputs": [
    {
     "name": "stdout",
     "output_type": "stream",
     "text": [
      "(2930, 82)\n",
      "(163231, 18)\n"
     ]
    }
   ],
   "source": [
    "print(ames_python.shape)\n",
    "print(mtpl_python.shape)"
   ]
  },
  {
   "cell_type": "markdown",
   "metadata": {
    "id": "52BAC1Qq1WSt"
   },
   "source": [
    "We see that the ames_python dataset has 2 930 rows and 82 columns while the mtpl_pyhton has 163 231 rows and 18 columns.\n",
    "\n",
    "Let us now look at the type of variables available in each of the datasets : "
   ]
  },
  {
   "cell_type": "code",
   "execution_count": null,
   "metadata": {
    "colab": {
     "base_uri": "https://localhost:8080/"
    },
    "id": "aUxeKJBt1WSt",
    "outputId": "db8cec23-c7b2-461f-8e34-715ac21a32e7"
   },
   "outputs": [
    {
     "name": "stdout",
     "output_type": "stream",
     "text": [
      "Ames_Python\n",
      "object     46\n",
      "int64      34\n",
      "float64     2\n",
      "dtype: int64\n",
      "\n",
      "MTPL_Python\n",
      "int64      7\n",
      "object     6\n",
      "float64    5\n",
      "dtype: int64\n"
     ]
    }
   ],
   "source": [
    "print(\"Ames_Python\")\n",
    "print(ames_python.dtypes.value_counts())\n",
    "print(\"\")\n",
    "print(\"MTPL_Python\")\n",
    "print(mtpl_python.dtypes.value_counts())"
   ]
  },
  {
   "cell_type": "markdown",
   "metadata": {
    "id": "PWxXbhPQ1WSu"
   },
   "source": [
    "We can also have more detailed information of each column by running the following commands :"
   ]
  },
  {
   "cell_type": "code",
   "execution_count": null,
   "metadata": {
    "colab": {
     "base_uri": "https://localhost:8080/"
    },
    "id": "w7SGMq7L1WSu",
    "outputId": "6e7b9bb0-2e38-442c-af0f-0fa14a24e337"
   },
   "outputs": [
    {
     "name": "stdout",
     "output_type": "stream",
     "text": [
      "Ames_Python\n",
      "<class 'pandas.core.frame.DataFrame'>\n",
      "RangeIndex: 2930 entries, 0 to 2929\n",
      "Data columns (total 82 columns):\n",
      " #   Column              Non-Null Count  Dtype  \n",
      "---  ------              --------------  -----  \n",
      " 0   Unnamed: 0          2930 non-null   int64  \n",
      " 1   MS_SubClass         2930 non-null   object \n",
      " 2   MS_Zoning           2930 non-null   object \n",
      " 3   Lot_Frontage        2930 non-null   int64  \n",
      " 4   Lot_Area            2930 non-null   int64  \n",
      " 5   Street              2930 non-null   object \n",
      " 6   Alley               2930 non-null   object \n",
      " 7   Lot_Shape           2930 non-null   object \n",
      " 8   Land_Contour        2930 non-null   object \n",
      " 9   Utilities           2930 non-null   object \n",
      " 10  Lot_Config          2930 non-null   object \n",
      " 11  Land_Slope          2930 non-null   object \n",
      " 12  Neighborhood        2930 non-null   object \n",
      " 13  Condition_1         2930 non-null   object \n",
      " 14  Condition_2         2930 non-null   object \n",
      " 15  Bldg_Type           2930 non-null   object \n",
      " 16  House_Style         2930 non-null   object \n",
      " 17  Overall_Qual        2930 non-null   object \n",
      " 18  Overall_Cond        2930 non-null   object \n",
      " 19  Year_Built          2930 non-null   int64  \n",
      " 20  Year_Remod_Add      2930 non-null   int64  \n",
      " 21  Roof_Style          2930 non-null   object \n",
      " 22  Roof_Matl           2930 non-null   object \n",
      " 23  Exterior_1st        2930 non-null   object \n",
      " 24  Exterior_2nd        2930 non-null   object \n",
      " 25  Mas_Vnr_Type        2930 non-null   object \n",
      " 26  Mas_Vnr_Area        2930 non-null   int64  \n",
      " 27  Exter_Qual          2930 non-null   object \n",
      " 28  Exter_Cond          2930 non-null   object \n",
      " 29  Foundation          2930 non-null   object \n",
      " 30  Bsmt_Qual           2930 non-null   object \n",
      " 31  Bsmt_Cond           2930 non-null   object \n",
      " 32  Bsmt_Exposure       2930 non-null   object \n",
      " 33  BsmtFin_Type_1      2930 non-null   object \n",
      " 34  BsmtFin_SF_1        2930 non-null   int64  \n",
      " 35  BsmtFin_Type_2      2930 non-null   object \n",
      " 36  BsmtFin_SF_2        2930 non-null   int64  \n",
      " 37  Bsmt_Unf_SF         2930 non-null   int64  \n",
      " 38  Total_Bsmt_SF       2930 non-null   int64  \n",
      " 39  Heating             2930 non-null   object \n",
      " 40  Heating_QC          2930 non-null   object \n",
      " 41  Central_Air         2930 non-null   object \n",
      " 42  Electrical          2930 non-null   object \n",
      " 43  First_Flr_SF        2930 non-null   int64  \n",
      " 44  Second_Flr_SF       2930 non-null   int64  \n",
      " 45  Low_Qual_Fin_SF     2930 non-null   int64  \n",
      " 46  Gr_Liv_Area         2930 non-null   int64  \n",
      " 47  Bsmt_Full_Bath      2930 non-null   int64  \n",
      " 48  Bsmt_Half_Bath      2930 non-null   int64  \n",
      " 49  Full_Bath           2930 non-null   int64  \n",
      " 50  Half_Bath           2930 non-null   int64  \n",
      " 51  Bedroom_AbvGr       2930 non-null   int64  \n",
      " 52  Kitchen_AbvGr       2930 non-null   int64  \n",
      " 53  Kitchen_Qual        2930 non-null   object \n",
      " 54  TotRms_AbvGrd       2930 non-null   int64  \n",
      " 55  Functional          2930 non-null   object \n",
      " 56  Fireplaces          2930 non-null   int64  \n",
      " 57  Fireplace_Qu        2930 non-null   object \n",
      " 58  Garage_Type         2930 non-null   object \n",
      " 59  Garage_Finish       2930 non-null   object \n",
      " 60  Garage_Cars         2930 non-null   int64  \n",
      " 61  Garage_Area         2930 non-null   int64  \n",
      " 62  Garage_Qual         2930 non-null   object \n",
      " 63  Garage_Cond         2930 non-null   object \n",
      " 64  Paved_Drive         2930 non-null   object \n",
      " 65  Wood_Deck_SF        2930 non-null   int64  \n",
      " 66  Open_Porch_SF       2930 non-null   int64  \n",
      " 67  Enclosed_Porch      2930 non-null   int64  \n",
      " 68  Three_season_porch  2930 non-null   int64  \n",
      " 69  Screen_Porch        2930 non-null   int64  \n",
      " 70  Pool_Area           2930 non-null   int64  \n",
      " 71  Pool_QC             2930 non-null   object \n",
      " 72  Fence               2930 non-null   object \n",
      " 73  Misc_Feature        2930 non-null   object \n",
      " 74  Misc_Val            2930 non-null   int64  \n",
      " 75  Mo_Sold             2930 non-null   int64  \n",
      " 76  Year_Sold           2930 non-null   int64  \n",
      " 77  Sale_Type           2930 non-null   object \n",
      " 78  Sale_Condition      2930 non-null   object \n",
      " 79  Sale_Price          2930 non-null   int64  \n",
      " 80  Longitude           2930 non-null   float64\n",
      " 81  Latitude            2930 non-null   float64\n",
      "dtypes: float64(2), int64(34), object(46)\n",
      "memory usage: 1.8+ MB\n",
      "None\n",
      "\n",
      "MTPL_Python\n",
      "<class 'pandas.core.frame.DataFrame'>\n",
      "RangeIndex: 163231 entries, 0 to 163230\n",
      "Data columns (total 18 columns):\n",
      " #   Column    Non-Null Count   Dtype  \n",
      "---  ------    --------------   -----  \n",
      " 0   ID        163231 non-null  int64  \n",
      " 1   NCLAIMS   163231 non-null  int64  \n",
      " 2   AMOUNT    163231 non-null  float64\n",
      " 3   AVG       18295 non-null   float64\n",
      " 4   EXP       163231 non-null  float64\n",
      " 5   COVERAGE  163231 non-null  object \n",
      " 6   FUEL      163231 non-null  object \n",
      " 7   USE       163231 non-null  object \n",
      " 8   FLEET     163231 non-null  object \n",
      " 9   SEX       163231 non-null  object \n",
      " 10  AGEPH     163231 non-null  int64  \n",
      " 11  BM        163231 non-null  int64  \n",
      " 12  AGEC      163231 non-null  int64  \n",
      " 13  POWER     163231 non-null  int64  \n",
      " 14  PC        163231 non-null  int64  \n",
      " 15  TOWN      163231 non-null  object \n",
      " 16  LONG      163231 non-null  float64\n",
      " 17  LAT       163231 non-null  float64\n",
      "dtypes: float64(5), int64(7), object(6)\n",
      "memory usage: 22.4+ MB\n",
      "None\n"
     ]
    }
   ],
   "source": [
    "print(\"Ames_Python\")\n",
    "print(ames_python.info())\n",
    "print(\"\")\n",
    "print(\"MTPL_Python\")\n",
    "print(mtpl_python.info())\n"
   ]
  },
  {
   "cell_type": "markdown",
   "metadata": {
    "id": "OFPMAfey1WSu"
   },
   "source": [
    "The quality of the datasets could also be quickly assessed by checking the number of missing values through the following commands : "
   ]
  },
  {
   "cell_type": "code",
   "execution_count": null,
   "metadata": {
    "colab": {
     "base_uri": "https://localhost:8080/"
    },
    "id": "BLGOQTNW1WSu",
    "outputId": "8defd49e-6b0a-45f5-ad63-645f55635d20",
    "scrolled": true
   },
   "outputs": [
    {
     "name": "stdout",
     "output_type": "stream",
     "text": [
      "Ames_Python\n",
      "Unnamed: 0        0\n",
      "MS_SubClass       0\n",
      "MS_Zoning         0\n",
      "Lot_Frontage      0\n",
      "Lot_Area          0\n",
      "                 ..\n",
      "Sale_Type         0\n",
      "Sale_Condition    0\n",
      "Sale_Price        0\n",
      "Longitude         0\n",
      "Latitude          0\n",
      "Length: 82, dtype: int64\n",
      "\n",
      "MTPL_Python\n",
      "ID               0\n",
      "NCLAIMS          0\n",
      "AMOUNT           0\n",
      "AVG         144936\n",
      "EXP              0\n",
      "COVERAGE         0\n",
      "FUEL             0\n",
      "USE              0\n",
      "FLEET            0\n",
      "SEX              0\n",
      "AGEPH            0\n",
      "BM               0\n",
      "AGEC             0\n",
      "POWER            0\n",
      "PC               0\n",
      "TOWN             0\n",
      "LONG             0\n",
      "LAT              0\n",
      "dtype: int64\n"
     ]
    }
   ],
   "source": [
    "print(\"Ames_Python\")\n",
    "print(ames_python.isnull().sum())\n",
    "print(\"\")\n",
    "print(\"MTPL_Python\")\n",
    "print(mtpl_python.isnull().sum())\n"
   ]
  },
  {
   "cell_type": "markdown",
   "metadata": {
    "id": "tLjhqeeK1WSv"
   },
   "source": [
    "We can define the following categories of variables for the Ames dataset :\n",
    "\n",
    "- continous : numerical variables taking continuous values (ex : surface of the lot)\n",
    "- discrete : numerical variables taking a limited range of values (ex : the number of bathrooms)\n",
    "- ordinal : categorical variables having a natural order (ex : the slope of the land)\n",
    "- nominal : categorical variables having no natural order (ex : the type of the dwelling)"
   ]
  },
  {
   "cell_type": "code",
   "execution_count": null,
   "metadata": {
    "colab": {
     "base_uri": "https://localhost:8080/"
    },
    "id": "u1VLKe7f1WSv",
    "outputId": "863731eb-b504-4634-895c-0226a3df0ff2"
   },
   "outputs": [
    {
     "data": {
      "text/plain": [
       "object      33\n",
       "int64       22\n",
       "category     2\n",
       "category     2\n",
       "float64      2\n",
       "category     2\n",
       "category     2\n",
       "category     2\n",
       "category     2\n",
       "category     1\n",
       "category     1\n",
       "category     1\n",
       "category     1\n",
       "category     1\n",
       "category     1\n",
       "category     1\n",
       "category     1\n",
       "category     1\n",
       "category     1\n",
       "category     1\n",
       "category     1\n",
       "category     1\n",
       "dtype: int64"
      ]
     },
     "execution_count": 12,
     "metadata": {},
     "output_type": "execute_result"
    }
   ],
   "source": [
    "ordinal = [\"Land_Slope\", \"Overall_Qual\",\"Overall_Cond\", \"Exter_Qual\", \"Exter_Cond\", \"Bsmt_Qual\", \"Bsmt_Cond\", \"Bsmt_Exposure\",\"Kitchen_Qual\",\"Garage_Qual\", \"Functional\", \"Garage_Cond\", \"Paved_Drive\", \"Bedroom_AbvGr\", \"Kitchen_AbvGr\", \"Fireplaces\", \"TotRms_AbvGrd\", \"Garage_Cars\"]\n",
    "\n",
    "discrete = [\"Year_Built\", \"Bsmt_Full_Bath\", \"Bsmt_Half_Bath\", \"Full_Bath\", \"Half_Bath\", \"Year_Sold\", \"Mo_Sold\"]\n",
    "\n",
    "continuous = [\"Lot_Frontage\", \"Lot_Area\", \"Mas_Vnr_Area\", \"BsmtFin_SF_1\", \"Bsmt_Unf_SF\", \"Total_Bsmt_SF\", \"First_Flr_SF\", \"Second_Flr_SF\", \"Gr_Liv_Area\", \"Garage_Area\", \"Open_Porch_SF\", \"Longitude\", \"Latitude\", \"Year_Remod_Add\", \"BsmtFin_SF_1\"]\n",
    "\n",
    "for c in ordinal: \n",
    "    ames_python[c] = pd.Categorical(ames_python[c])\n",
    "\n",
    "for c in discrete:\n",
    "    ames_python[c] = pd.Categorical(ames_python[c])\n",
    "    \n",
    "for c in continuous:\n",
    "    ames_python[c] = pd.to_numeric(ames_python[c])\n",
    "\n",
    "\n",
    "nominal = ames_python.dtypes.pipe(lambda x: x[x == 'object']).index\n",
    "\n",
    "ames_python.dtypes.value_counts()\n"
   ]
  },
  {
   "cell_type": "code",
   "execution_count": null,
   "metadata": {
    "id": "9kGKsytm4e2p"
   },
   "outputs": [],
   "source": []
  },
  {
   "cell_type": "markdown",
   "metadata": {
    "id": "i2VsTHfI1WSv"
   },
   "source": [
    "In the Ames dataset the target variable is the Sale_Price. We can get basic information on this variable as follow : "
   ]
  },
  {
   "cell_type": "code",
   "execution_count": null,
   "metadata": {
    "colab": {
     "base_uri": "https://localhost:8080/"
    },
    "id": "S4_byr3N1WSv",
    "outputId": "d23d2cf5-8938-4428-c48b-771ec9763a20"
   },
   "outputs": [
    {
     "data": {
      "text/plain": [
       "count      2930.000000\n",
       "mean     180796.060068\n",
       "std       79886.692357\n",
       "min       12789.000000\n",
       "25%      129500.000000\n",
       "50%      160000.000000\n",
       "75%      213500.000000\n",
       "max      755000.000000\n",
       "Name: Sale_Price, dtype: float64"
      ]
     },
     "execution_count": 13,
     "metadata": {},
     "output_type": "execute_result"
    }
   ],
   "source": [
    "ames_python.Sale_Price.describe()"
   ]
  },
  {
   "cell_type": "code",
   "execution_count": null,
   "metadata": {
    "colab": {
     "base_uri": "https://localhost:8080/",
     "height": 282
    },
    "id": "Q7yzr1jw1WSv",
    "outputId": "c853a8a5-b82a-481d-b59e-76efef838360"
   },
   "outputs": [
    {
     "data": {
      "text/plain": [
       "<matplotlib.axes._subplots.AxesSubplot at 0x7f18dbc766d0>"
      ]
     },
     "execution_count": 14,
     "metadata": {},
     "output_type": "execute_result"
    },
    {
     "data": {
      "image/png": "[encoded data removed]",
      "text/plain": [
       "<Figure size 432x288 with 1 Axes>"
      ]
     },
     "metadata": {
      "needs_background": "light"
     },
     "output_type": "display_data"
    }
   ],
   "source": [
    "ames_python.Sale_Price.hist()"
   ]
  },
  {
   "cell_type": "markdown",
   "metadata": {
    "id": "IpiF-AUP1WSw"
   },
   "source": [
    "In the MTPL dataset the target variables are the number of claims and the claim amount. We can visualize the claims frequency and the exposure according to a given variable in the following way : \n"
   ]
  },
  {
   "cell_type": "code",
   "execution_count": null,
   "metadata": {
    "id": "LdaYew_y1WSw"
   },
   "outputs": [],
   "source": [
    "def MTPL_description(variable):\n",
    "    \n",
    "    Nbr = mtpl_python[['NCLAIMS']].groupby([mtpl_python[variable]]).sum().reset_index()\n",
    "    exp = mtpl_python[['EXP']].groupby([mtpl_python[variable]]).sum().reset_index()\n",
    "    charge = mtpl_python[['AMOUNT']].groupby([mtpl_python[variable]]).sum().reset_index()\n",
    "    obs = pd.merge(Nbr,exp)\n",
    "    obs = pd.merge(obs,charge)\n",
    "    obs['Freq']=obs['NCLAIMS']/obs['EXP']\n",
    "    obs['AVG']=obs['AMOUNT']/obs['NCLAIMS']\n",
    "\n",
    "    return(obs)"
   ]
  },
  {
   "cell_type": "code",
   "execution_count": null,
   "metadata": {
    "colab": {
     "base_uri": "https://localhost:8080/"
    },
    "id": "rP4nfkN81WSw",
    "outputId": "4bb5a0da-7afb-462b-d229-a4f5a290773d"
   },
   "outputs": [
    {
     "name": "stdout",
     "output_type": "stream",
     "text": [
      "       FUEL  NCLAIMS            EXP        AMOUNT      Freq          AVG\n",
      "0    diesel     7031   44568.054795  1.002497e+07  0.157759  1425.823857\n",
      "1  gasoline    13205  100664.432877  2.275847e+07  0.131178  1723.473352\n"
     ]
    }
   ],
   "source": [
    "table=MTPL_description('FUEL')\n",
    "print(table)"
   ]
  },
  {
   "cell_type": "code",
   "execution_count": null,
   "metadata": {
    "colab": {
     "base_uri": "https://localhost:8080/",
     "height": 374
    },
    "id": "mIiiHbYF1WSw",
    "outputId": "434396a0-8519-410c-952a-76d1fe89e4dd"
   },
   "outputs": [
    {
     "data": {
      "image/png": "[encoded data removed]",
      "text/plain": [
       "<Figure size 1080x432 with 2 Axes>"
      ]
     },
     "metadata": {
      "needs_background": "light"
     },
     "output_type": "display_data"
    }
   ],
   "source": [
    "def MTPL_description_plot(variable):\n",
    "\n",
    "    plt.rcParams['figure.figsize'] = [15, 6]\n",
    "    table_to_plot=table.loc[:,[variable,'EXP','Freq']]\n",
    "    table_to_plot.plot(kind='bar', secondary_y='EXP', rot=0)\n",
    "    plt.xticks(range(table_to_plot.shape[0]),list(table_to_plot.iloc[:,0]), rotation=30)\n",
    "    plot=plt.show()\n",
    "    \n",
    "    return(plot)\n",
    "\n",
    "MTPL_description_plot(\"FUEL\")"
   ]
  },
  {
   "cell_type": "markdown",
   "metadata": {
    "id": "4woG_jf-1WSw"
   },
   "source": [
    "# Chapter 4 - Features filtering <a name=\"four\"></a>"
   ]
  },
  {
   "cell_type": "markdown",
   "metadata": {
    "id": "NzjfWWtR1WSx"
   },
   "source": [
    "The objective of this section is to illustrate how we can remove variables (or features) which likely have little prediction power. The filters presented here can be applied ahead of any kind of model as they do not rely on any hypotheses. "
   ]
  },
  {
   "cell_type": "markdown",
   "metadata": {
    "id": "NFqqiE_E1WSx"
   },
   "source": [
    "### 4.1 Missing values filter <a name=\"four-one\"></a>"
   ]
  },
  {
   "cell_type": "markdown",
   "metadata": {
    "id": "6f9F7Gbs1WSx"
   },
   "source": [
    "First, we can define a filter based on the percentage of missing values. The idea is to remove variables for which the proportion of missing values is too important. "
   ]
  },
  {
   "cell_type": "code",
   "execution_count": null,
   "metadata": {
    "id": "Kp9mqjaY1WSx"
   },
   "outputs": [],
   "source": [
    "def missing_value_filtering(data,threshold):\n",
    "    \n",
    "    variables_to_remove = []\n",
    "    \n",
    "    for var in data.columns :\n",
    "    \n",
    "        miss_perc=data[var].isnull().sum()/data.shape[0]\n",
    "        \n",
    "        if miss_perc > threshold : \n",
    "            variables_to_remove.append(var)\n",
    "    \n",
    "    \n",
    "    return(variables_to_remove)"
   ]
  },
  {
   "cell_type": "code",
   "execution_count": null,
   "metadata": {
    "colab": {
     "base_uri": "https://localhost:8080/"
    },
    "id": "m3jC_j4s1WSx",
    "outputId": "99a52068-3c79-4618-d73a-b7cbd3bf51dc"
   },
   "outputs": [
    {
     "name": "stdout",
     "output_type": "stream",
     "text": [
      "Ames_Python\n",
      "[]\n",
      "\n",
      "MTPL_Python\n",
      "['AVG']\n"
     ]
    }
   ],
   "source": [
    "print(\"Ames_Python\")\n",
    "var_to_remove=missing_value_filtering(ames_python,0.3)\n",
    "print(var_to_remove)\n",
    "print(\"\")\n",
    "print(\"MTPL_Python\")\n",
    "var_to_remove=missing_value_filtering(mtpl_python,0.3)\n",
    "print(var_to_remove)\n"
   ]
  },
  {
   "cell_type": "markdown",
   "metadata": {
    "id": "oIYaR94n1WSx"
   },
   "source": [
    "### 4.2 Low dispersion ratio / high concentration filters <a name=\"four-two\"></a>"
   ]
  },
  {
   "cell_type": "markdown",
   "metadata": {
    "id": "PHoGClW_1WSx"
   },
   "source": [
    "The idea is to remove numerical variables whose dispersion ratio is too low and categorical variables for which there is a concentration in a single modality which is too high."
   ]
  },
  {
   "cell_type": "code",
   "execution_count": null,
   "metadata": {
    "id": "n_w6xup81WSy"
   },
   "outputs": [],
   "source": [
    "def low_dispertion_filtering(data,threshold):\n",
    "    \n",
    "    variables_to_remove = []\n",
    "    data2=data.select_dtypes(include=['float64','int64']).copy()\n",
    "    \n",
    "    for var in data2.columns :\n",
    "    \n",
    "        dispertion=data[var].std()/data[var].mean()\n",
    "        \n",
    "        if dispertion < threshold : \n",
    "            variables_to_remove.append(var)\n",
    "    \n",
    "    \n",
    "    return(variables_to_remove)"
   ]
  },
  {
   "cell_type": "code",
   "execution_count": null,
   "metadata": {
    "colab": {
     "base_uri": "https://localhost:8080/"
    },
    "id": "G9d3-a5M1WSy",
    "outputId": "1e976c90-679c-4e86-b8df-99c85070c53f"
   },
   "outputs": [
    {
     "name": "stdout",
     "output_type": "stream",
     "text": [
      "Ames_Python\n",
      "['Year_Remod_Add', 'Longitude', 'Latitude']\n",
      "\n",
      "MTPL_Python\n",
      "['EXP', 'LONG', 'LAT']\n"
     ]
    }
   ],
   "source": [
    "print(\"Ames_Python\")\n",
    "var_to_remove=low_dispertion_filtering(ames_python,0.3)\n",
    "print(var_to_remove)\n",
    "print(\"\")\n",
    "print(\"MTPL_Python\")\n",
    "var_to_remove=low_dispertion_filtering(mtpl_python,0.3)\n",
    "print(var_to_remove)"
   ]
  },
  {
   "cell_type": "markdown",
   "metadata": {
    "id": "Sr9xNnAF1WSy"
   },
   "source": [
    "The exposure is not an explanatory variable and should of course be kept. The longitude and latitude are flagged as being variables for which the variability is not big enough according to our expert judgment threshold. We need to be careful before removing those variables because even very small variations in longitude and latitude can correspond to big variations in terms of kilometers."
   ]
  },
  {
   "cell_type": "code",
   "execution_count": null,
   "metadata": {
    "id": "moSjJ5wr1WSy"
   },
   "outputs": [],
   "source": [
    "def high_concentration_filtering(data,threshold):\n",
    "    \n",
    "    variables_to_remove = []\n",
    "    data2=data.select_dtypes(exclude=['float64','int64']).copy()\n",
    "    \n",
    "    for var in data2.columns :\n",
    "    \n",
    "        concentration=data[var].value_counts().max()/data[var].value_counts().sum()\n",
    "        \n",
    "        if concentration > threshold : \n",
    "            variables_to_remove.append(var)\n",
    "    \n",
    "    \n",
    "    return(variables_to_remove)"
   ]
  },
  {
   "cell_type": "code",
   "execution_count": null,
   "metadata": {
    "id": "DY8DIYCp1WSz"
   },
   "outputs": [],
   "source": [
    "print(\"Ames_Python\")\n",
    "var_to_remove=high_concentration_filtering(ames_python,0.9)\n",
    "print(var_to_remove)\n",
    "print(\"\")\n",
    "print(\"MTPL_Python\")\n",
    "var_to_remove=high_concentration_filtering(mtpl_python,0.9)\n",
    "print(var_to_remove)"
   ]
  },
  {
   "cell_type": "code",
   "execution_count": null,
   "metadata": {
    "colab": {
     "base_uri": "https://localhost:8080/"
    },
    "id": "dR1bbqfE1WSz",
    "outputId": "a5d53416-a0af-4890-e455-ccb2fa38a121"
   },
   "outputs": [
    {
     "data": {
      "text/plain": [
       "Pave    2918\n",
       "Grvl      12\n",
       "Name: Street, dtype: int64"
      ]
     },
     "execution_count": 23,
     "metadata": {},
     "output_type": "execute_result"
    }
   ],
   "source": [
    "ames_python.Street.value_counts()"
   ]
  },
  {
   "cell_type": "markdown",
   "metadata": {
    "id": "Ls94Ir1t1WSz"
   },
   "source": [
    "Let us mention that the package *Feature_engine* contains a built-in function *DropConstantFeatures()* which allows to remove automatically features which are constant or almost constant"
   ]
  },
  {
   "cell_type": "markdown",
   "metadata": {
    "id": "1p1MeG4l1WSz"
   },
   "source": [
    "# Chapter 5 - Training/Test split <a name=\"five\"></a>"
   ]
  },
  {
   "cell_type": "markdown",
   "metadata": {
    "id": "4S4SQXWS1WSz"
   },
   "source": [
    "In machine learning we usually adopt the following strategy : \n",
    "- split the full dataset into a training dataset and a test dataset\n",
    "- use the training dataset to train your optimal model using K-Fold cross validation \n",
    "- only use the test set to assess the quality of your final model"
   ]
  },
  {
   "cell_type": "markdown",
   "metadata": {
    "id": "IKGiaSSm1WS0"
   },
   "source": [
    "Let us first create the split in the most basic way. We will simply create the training set by randomly selecting 70% of the rows of the initial full dataset. "
   ]
  },
  {
   "cell_type": "code",
   "execution_count": null,
   "metadata": {
    "colab": {
     "base_uri": "https://localhost:8080/"
    },
    "id": "IJHR-3Dl1WS0",
    "outputId": "9db18f2e-f96f-4570-99ea-39481c2e2ae8"
   },
   "outputs": [
    {
     "data": {
      "text/plain": [
       "0.7"
      ]
     },
     "execution_count": 24,
     "metadata": {},
     "output_type": "execute_result"
    }
   ],
   "source": [
    "np.random.seed(123)\n",
    "\n",
    "ames_python_train_1 = ames_python.sample(frac=0.7) \n",
    "ames_python_test_1 = ames_python.drop(labels=ames_python_train_1.index)  \n",
    "\n",
    "ames_python_train_1.shape[0]/ames_python.shape[0]\n"
   ]
  },
  {
   "cell_type": "markdown",
   "metadata": {
    "id": "HmK4IK6Y1WS0"
   },
   "source": [
    "Of course by doing the split this way we are not sure that the distribution of the response variable will be similar in the training and test set. This can be solved by performing stratified sampling using the *train_test_split* function from *scikit-learn*. \n",
    "\n",
    "First, we categorize the response variable *Sale_Price* into 20 bins. We create the bins using the *linspace* function from the *numpy* package and we then feed those bins to the *cut* function from the *pandas* package which will categorize the *Sale_Price* according to the bins. "
   ]
  },
  {
   "cell_type": "code",
   "execution_count": null,
   "metadata": {
    "id": "1lAmhjD81WS0"
   },
   "outputs": [],
   "source": [
    "bins = np.linspace(ames_python.Sale_Price.min(),ames_python.Sale_Price.max(), 20 ) \n",
    "y_cat = pd.cut(ames_python.Sale_Price,bins=bins,include_lowest=True) "
   ]
  },
  {
   "cell_type": "markdown",
   "metadata": {
    "id": "bTN9kb801WS1"
   },
   "source": [
    "Once this is done we use the *train_test_split* function from *sklearn* to create a training and test set using stratified sampling according to the *y_cat* variable. We choose to build a training set which corresponds to 70% of the initial dataset. Because we do the sampling in a stratified way it means that we will perform the 70%-30% separately in each category of *y_cat*. It means that the distribution of *y_cat* over the full dataset will be preserved in the training and test sets.  "
   ]
  },
  {
   "cell_type": "code",
   "execution_count": null,
   "metadata": {
    "id": "lW9Pmugm1WS1"
   },
   "outputs": [],
   "source": [
    "ames_python_X = ames_python.drop(labels=['Sale_Price'], axis=1) \n",
    "ames_python_X_train_2, ames_python_X_test_2, ames_python_y_train_2, ames_python_y_test_2 = train_test_split(ames_python_X,ames_python.Sale_Price, test_size=0.3, stratify=y_cat) "
   ]
  },
  {
   "cell_type": "markdown",
   "metadata": {
    "id": "nfnXo_5e1WS1"
   },
   "source": [
    "We can now compare base Pyhton and scikit-learn as to how the response variable distribution is preserved between training and test set "
   ]
  },
  {
   "cell_type": "code",
   "execution_count": null,
   "metadata": {
    "colab": {
     "base_uri": "https://localhost:8080/",
     "height": 350
    },
    "id": "Uuyqp1yc1WS1",
    "outputId": "cf1d7505-b6d2-4ed8-fb03-85502ea9312a",
    "scrolled": true
   },
   "outputs": [
    {
     "data": {
      "image/png": "[encoded data removed]",
      "text/plain": [
       "<Figure size 720x360 with 2 Axes>"
      ]
     },
     "metadata": {
      "needs_background": "light"
     },
     "output_type": "display_data"
    }
   ],
   "source": [
    "#create dataframe from different vector lengths\n",
    "df = pd.DataFrame(ames_python_train_1.Sale_Price)\n",
    "df1 = pd.DataFrame(ames_python_y_train_2)\n",
    "df2 = pd.DataFrame(ames_python_test_1.Sale_Price)\n",
    "df3= pd.DataFrame(ames_python_y_test_2)\n",
    "plot_pd = pd.concat([df,df1,df2, df3], ignore_index=True, axis=1)\n",
    "\n",
    "#rename columns for x-label\n",
    "plot_pd.columns = ['Base: Sale Price train', 'scikit-learn: Sale Price train', 'Base: Sale Price test', 'scikit-learn: Sale Price test']\n",
    "\n",
    "#plot \n",
    "\n",
    "fig, axs = plt.subplots(ncols=2, figsize=(10,5));\n",
    "sb.kdeplot(plot_pd ['Base: Sale Price train'], ax = axs[0], color='r').set(title='base Pyhton');\n",
    "sb.kdeplot(plot_pd['Base: Sale Price test'], ax = axs[0], color='k');\n",
    "sb.kdeplot(plot_pd['scikit-learn: Sale Price train'], ax = axs[1], color='r').set(title='scikit-learn');\n",
    "sb.kdeplot(plot_pd['scikit-learn: Sale Price test'], ax = axs[1], color='k');\n",
    "plt.show()\n"
   ]
  },
  {
   "cell_type": "markdown",
   "metadata": {
    "id": "7bFzYmV81WS1"
   },
   "source": [
    "On the training set, K-fold cross validation will be performed later on in order to select the optimal hyperparameters of the ML models (optimal = minimizing mean cross validation error). For example, the mean cross validation error for a given value $cp_{0}$ of the the complexity parameter used in a regression tree is computed by\n",
    "1. Splitting the training dataset in K parts (=folds)\n",
    "2. Train K regression trees removing each time a different fold out of the data used for the training\n",
    "3. Compute the prediction of each of these regression tree on the left out fold\n",
    "4. Compute the mean prediction error over these left out folds\n",
    "\n",
    "The partition into K-Fold can be performed using scikit-learn :  "
   ]
  },
  {
   "cell_type": "code",
   "execution_count": null,
   "metadata": {
    "colab": {
     "base_uri": "https://localhost:8080/"
    },
    "id": "DTIFMoRD1WS1",
    "outputId": "2a8d9f76-5605-4625-c706-197eebc30e32"
   },
   "outputs": [
    {
     "name": "stdout",
     "output_type": "stream",
     "text": [
      "[   1    2    3 ... 2047 2049 2050]\n",
      "[   0    1    2 ... 2048 2049 2050]\n",
      "[   0    1    2 ... 2047 2048 2050]\n",
      "[   0    1    2 ... 2048 2049 2050]\n",
      "[   0    4    5 ... 2047 2048 2049]\n"
     ]
    }
   ],
   "source": [
    "np.random.seed(123) \n",
    "kf5 = KFold(n_splits=5,  \n",
    "            shuffle=True) \n",
    "\n",
    "for train_index, test_index in kf5.split(ames_python_X_train_2):\n",
    "    print(train_index)"
   ]
  },
  {
   "cell_type": "markdown",
   "metadata": {
    "id": "wNfBHiwy1WS2"
   },
   "source": [
    "This constitutes the 5 possible sub-training sets built during the 5-Fold cross validation on the full training set"
   ]
  },
  {
   "cell_type": "markdown",
   "metadata": {
    "id": "zMGpAcBr1WS2"
   },
   "source": [
    "# Chapter 6 - Feature engineering <a name=\"six\"></a>"
   ]
  },
  {
   "cell_type": "markdown",
   "metadata": {
    "id": "-0wgZa_D1WS2"
   },
   "source": [
    "Feature engineering consists in transforming your explanatory variables and/or your target variable before running your model $f()$. It means that if you have a target variable **y** and a machine learning predictor $f()$, instead of having $\\hat{y}=f(x)$ you actually have $g(\\hat{y})=f(h(x))$ or in other word that the prediction for your target variable **y** is given by $\\hat{y}=g^{-1}(f(h(x)):=p_{3}(p_{2}(p_{1}(x))):=p(x)$.  \n",
    "\n",
    "For example, you could typically have that\n",
    "\n",
    "- $h()$ scales the numerical features \n",
    "- $f()$ is a neural network predictor \n",
    "- $g^{-1}()$ is the logarithmic function\n",
    "\n",
    "\n",
    "\n",
    "The function $p()$ contains all the transformations that need to be performed on the features to get the prediction. This is the function that needs to be trained on the training set. Often, only the machine learning part $f()$ of the function is trained on the training dataset while the other transformations are fitted using also the information of the test set.  "
   ]
  },
  {
   "cell_type": "markdown",
   "metadata": {
    "id": "Z13WZnWH1WS2"
   },
   "source": [
    "Let us illustrate how we can automatize the creation of such pipelines in python.\n",
    "\n",
    "First, we simplify the notations for the ames_python dataset : "
   ]
  },
  {
   "cell_type": "code",
   "execution_count": null,
   "metadata": {
    "id": "nYNE1ku31WS2"
   },
   "outputs": [],
   "source": [
    "X_train=ames_python_X_train_2.copy()\n",
    "y_train=ames_python_y_train_2.copy()\n",
    "X_test=ames_python_X_test_2.copy()\n",
    "y_test=ames_python_y_test_2.copy()\n"
   ]
  },
  {
   "cell_type": "markdown",
   "metadata": {
    "id": "ZqqZz0xb1WS2"
   },
   "source": [
    "We will use 3 explanatory variables in our model :\n",
    "- MS_Zoning (categorical variable with no order)\n",
    "- Lot_Area (continuous variable)\n",
    "- Exter_Qual (categorical variable with order)\n",
    "\n",
    "Let us check the possible modalities for the categorical variables : "
   ]
  },
  {
   "cell_type": "code",
   "execution_count": null,
   "metadata": {
    "colab": {
     "base_uri": "https://localhost:8080/"
    },
    "id": "-_XTlrLd1WS2",
    "outputId": "5e6617d5-2446-44d9-a4e3-734bc151dad7"
   },
   "outputs": [
    {
     "name": "stdout",
     "output_type": "stream",
     "text": [
      "MS_Zoning                   \n",
      "Residential_Low_Density         1583\n",
      "Residential_Medium_Density       336\n",
      "Floating_Village_Residential      98\n",
      "Residential_High_Density          16\n",
      "C_all                             16\n",
      "I_all                              1\n",
      "A_agr                              1\n",
      "dtype: int64\n",
      "\n",
      "Exter_Qual\n",
      "Typical       1252\n",
      "Good           702\n",
      "Excellent       74\n",
      "Fair            23\n",
      "dtype: int64\n"
     ]
    }
   ],
   "source": [
    "print(X_train[['MS_Zoning']].value_counts())\n",
    "print(\"\")\n",
    "print(X_train[['Exter_Qual']].value_counts())"
   ]
  },
  {
   "cell_type": "markdown",
   "metadata": {
    "id": "O_6vT9Oo1WS2"
   },
   "source": [
    "In this example we will run a linear regression. Ahead of this we decide to \n",
    "- scale the continuous variable\n",
    "- replace the MS_Zoning variable by dummy variables (one for each possible modality)\n",
    "- replace the Exter_Qual variable by a ordered categorical variable based on the mean response by modality\n",
    "\n",
    "Let us mention that only the treatment on the MS_Zoning variable is actually required for a linear regression. Other treatments are done as illustrations of what might be useful for other models.\n",
    "\n",
    "We can define a process containing all those manipulations thanks to the *ColumnTransformer()* function of *sklearn*"
   ]
  },
  {
   "cell_type": "code",
   "execution_count": null,
   "metadata": {
    "id": "dRCtEdlk1WS3"
   },
   "outputs": [],
   "source": [
    "preprocessing = ColumnTransformer([\n",
    "    (\"cont\", StandardScaler(),['Lot_Area']),\n",
    "  (\"nom\", OneHotEncoder(), ['MS_Zoning']),\n",
    "  (\"ord\", OrdinalEncoder(encoding_method='ordered'),['Exter_Qual'])\n",
    "])\n",
    "\n",
    "\n"
   ]
  },
  {
   "cell_type": "markdown",
   "metadata": {
    "id": "QqfMi-Iv1WS3"
   },
   "source": [
    "We splitted the data into a training and a test set. We have to\n",
    "- fit the transformation on the training dataset\n",
    "- apply the fitted transformation on both the training and test set\n",
    "- fit the regression model on the transformed train dataset\n",
    "- make predictions on the transformed test set"
   ]
  },
  {
   "cell_type": "code",
   "execution_count": null,
   "metadata": {
    "id": "yniYUqSj1WS3"
   },
   "outputs": [],
   "source": [
    "X_train_sub=X_train[['MS_Zoning','Exter_Qual','Lot_Area']]\n",
    "X_test_sub=X_test[['MS_Zoning','Exter_Qual','Lot_Area']]\n",
    "\n",
    "preprocessing.fit(X_train_sub,y_train)\n",
    "\n",
    "X_train_sub_trans=preprocessing.transform(X_train_sub)\n",
    "X_test_sub_trans=preprocessing.transform(X_test_sub)\n"
   ]
  },
  {
   "cell_type": "markdown",
   "metadata": {
    "id": "-MryJ2jM1WS3"
   },
   "source": [
    "We insist on the fact that the scaling parameters $\\mu$ and $\\sigma$ for the variable Lot Area are fitted on the training set and then applied on both the training and test set. We do not scale the Lot Area in the test set based on scaling parameters fitted on the test set. Nor do we fit the scaling parameters on the full dataset (before the split train/test) as this would imply information on the distribution of the Lot Area variable on the test set would be used to transform the train set (data leakage) "
   ]
  },
  {
   "cell_type": "code",
   "execution_count": null,
   "metadata": {
    "colab": {
     "base_uri": "https://localhost:8080/"
    },
    "id": "5tnviWhj1WS3",
    "outputId": "e9efd475-8305-4d4a-a59c-c15f0e901fa4"
   },
   "outputs": [
    {
     "name": "stdout",
     "output_type": "stream",
     "text": [
      "Initial data\n",
      "                       MS_Zoning Exter_Qual  Lot_Area\n",
      "560      Residential_Low_Density    Typical     10000\n",
      "1362  Residential_Medium_Density    Typical     10320\n",
      "1224     Residential_Low_Density    Typical      9600\n",
      "1107     Residential_Low_Density       Good     10010\n",
      "1397     Residential_Low_Density    Typical     10200\n",
      "...                          ...        ...       ...\n",
      "1740     Residential_Low_Density       Good      7697\n",
      "2696  Residential_Medium_Density    Typical      6780\n",
      "2249     Residential_Low_Density    Typical      9187\n",
      "1577     Residential_Low_Density    Typical      9735\n",
      "916      Residential_Low_Density    Typical      6292\n",
      "\n",
      "[2051 rows x 3 columns]\n",
      "\n",
      "Transformed data\n",
      "[[-0.01601961  1.          0.         ...  0.          0.\n",
      "   1.        ]\n",
      " [ 0.02619999  0.          1.         ...  0.          0.\n",
      "   1.        ]\n",
      " [-0.06879411  1.          0.         ...  0.          0.\n",
      "   1.        ]\n",
      " ...\n",
      " [-0.12328377  1.          0.         ...  0.          0.\n",
      "   1.        ]\n",
      " [-0.05098271  1.          0.         ...  0.          0.\n",
      "   1.        ]\n",
      " [-0.5052392   1.          0.         ...  0.          0.\n",
      "   1.        ]]\n"
     ]
    }
   ],
   "source": [
    "print(\"Initial data\")\n",
    "print(X_train_sub)\n",
    "print(\"\")\n",
    "print(\"Transformed data\")\n",
    "print(X_train_sub_trans)"
   ]
  },
  {
   "cell_type": "markdown",
   "metadata": {
    "id": "_WofHaKq1WS3"
   },
   "source": [
    "We see that the transformed dataset has way more columns."
   ]
  },
  {
   "cell_type": "code",
   "execution_count": null,
   "metadata": {
    "colab": {
     "base_uri": "https://localhost:8080/"
    },
    "id": "CgJeDjwY1WS3",
    "outputId": "7c94ac96-a807-453f-8b14-ce7c73df22f1"
   },
   "outputs": [
    {
     "data": {
      "text/plain": [
       "(2051, 9)"
      ]
     },
     "execution_count": 35,
     "metadata": {},
     "output_type": "execute_result"
    }
   ],
   "source": [
    "X_train_sub_trans.shape"
   ]
  },
  {
   "cell_type": "markdown",
   "metadata": {
    "id": "SK2p__6l1WS3"
   },
   "source": [
    "We can combine the preprocessing steps and the regression model in a single pipeline : "
   ]
  },
  {
   "cell_type": "code",
   "execution_count": null,
   "metadata": {
    "id": "5i2kho4k1WS3"
   },
   "outputs": [],
   "source": [
    "preprocessing = ColumnTransformer([\n",
    "    (\"cont\", StandardScaler(),['Lot_Area']),\n",
    "  (\"nom\", OneHotEncoder(), ['MS_Zoning']),\n",
    "  (\"ord\", OrdinalEncoder(encoding_method='ordered'),['Exter_Qual'])\n",
    "])\n",
    "\n",
    "complete_pipeline = make_pipeline(preprocessing, LinearRegression())\n",
    "\n"
   ]
  },
  {
   "cell_type": "code",
   "execution_count": null,
   "metadata": {
    "colab": {
     "base_uri": "https://localhost:8080/"
    },
    "id": "eL4VHveR1WS4",
    "outputId": "02eaab26-dde6-4cf7-cc27-97f96fbc9c9e"
   },
   "outputs": [
    {
     "data": {
      "text/plain": [
       "Pipeline(memory=None,\n",
       "         steps=[('columntransformer',\n",
       "                 ColumnTransformer(n_jobs=None, remainder='drop',\n",
       "                                   sparse_threshold=0.3,\n",
       "                                   transformer_weights=None,\n",
       "                                   transformers=[('cont',\n",
       "                                                  StandardScaler(copy=True,\n",
       "                                                                 with_mean=True,\n",
       "                                                                 with_std=True),\n",
       "                                                  ['Lot_Area']),\n",
       "                                                 ('nom',\n",
       "                                                  OneHotEncoder(drop_last=False,\n",
       "                                                                drop_last_binary=False,\n",
       "                                                                ignore_format=False,\n",
       "                                                                top_categories=None,\n",
       "                                                                variables=None),\n",
       "                                                  ['MS_Zoning']),\n",
       "                                                 ('ord',\n",
       "                                                  OrdinalEncoder(encoding_method='ordered',\n",
       "                                                                 ignore_format=False,\n",
       "                                                                 variables=None),\n",
       "                                                  ['Exter_Qual'])],\n",
       "                                   verbose=False)),\n",
       "                ('linearregression',\n",
       "                 LinearRegression(copy_X=True, fit_intercept=True, n_jobs=None,\n",
       "                                  normalize=False))],\n",
       "         verbose=False)"
      ]
     },
     "execution_count": 37,
     "metadata": {},
     "output_type": "execute_result"
    }
   ],
   "source": [
    "complete_pipeline"
   ]
  },
  {
   "cell_type": "markdown",
   "metadata": {
    "id": "kbRSLvUQ1WS4"
   },
   "source": [
    "This full pipeline can be fitted on the training set. It means that the preprocessing steps will be fitted & applied on the training set and then the model will be run on this transformed training set."
   ]
  },
  {
   "cell_type": "code",
   "execution_count": null,
   "metadata": {
    "colab": {
     "base_uri": "https://localhost:8080/"
    },
    "id": "tFb7pxMb1WS4",
    "outputId": "0b0f83a9-e567-465d-b735-96ca2697e3fa"
   },
   "outputs": [
    {
     "data": {
      "text/plain": [
       "Pipeline(memory=None,\n",
       "         steps=[('columntransformer',\n",
       "                 ColumnTransformer(n_jobs=None, remainder='drop',\n",
       "                                   sparse_threshold=0.3,\n",
       "                                   transformer_weights=None,\n",
       "                                   transformers=[('cont',\n",
       "                                                  StandardScaler(copy=True,\n",
       "                                                                 with_mean=True,\n",
       "                                                                 with_std=True),\n",
       "                                                  ['Lot_Area']),\n",
       "                                                 ('nom',\n",
       "                                                  OneHotEncoder(drop_last=False,\n",
       "                                                                drop_last_binary=False,\n",
       "                                                                ignore_format=False,\n",
       "                                                                top_categories=None,\n",
       "                                                                variables=None),\n",
       "                                                  ['MS_Zoning']),\n",
       "                                                 ('ord',\n",
       "                                                  OrdinalEncoder(encoding_method='ordered',\n",
       "                                                                 ignore_format=False,\n",
       "                                                                 variables=None),\n",
       "                                                  ['Exter_Qual'])],\n",
       "                                   verbose=False)),\n",
       "                ('linearregression',\n",
       "                 LinearRegression(copy_X=True, fit_intercept=True, n_jobs=None,\n",
       "                                  normalize=False))],\n",
       "         verbose=False)"
      ]
     },
     "execution_count": 38,
     "metadata": {},
     "output_type": "execute_result"
    }
   ],
   "source": [
    "complete_pipeline.fit(X_train[['MS_Zoning','Exter_Qual','Lot_Area']],y_train)"
   ]
  },
  {
   "cell_type": "markdown",
   "metadata": {
    "id": "K3yqKrar1WS4"
   },
   "source": [
    "We can then apply the transformations fitted on the training set on the test set and make the predictions"
   ]
  },
  {
   "cell_type": "code",
   "execution_count": null,
   "metadata": {
    "id": "Z-HvEOIE1WS4"
   },
   "outputs": [],
   "source": [
    "y_pred=complete_pipeline.predict(X_test[['MS_Zoning','Exter_Qual','Lot_Area']])"
   ]
  },
  {
   "cell_type": "markdown",
   "metadata": {
    "id": "32li_Yw81WS4"
   },
   "source": [
    "The coefficients can be accessed the following way : "
   ]
  },
  {
   "cell_type": "code",
   "execution_count": null,
   "metadata": {
    "colab": {
     "base_uri": "https://localhost:8080/"
    },
    "id": "UPkxRj0t1WS6",
    "outputId": "0f763c0d-50d7-4024-cc1c-380c09d556b0"
   },
   "outputs": [
    {
     "data": {
      "text/plain": [
       "array([  16106.85212574,   42647.84320563,   14240.37666136,\n",
       "         30996.89761736,   -3204.05554419,   33032.13030935,\n",
       "        -14369.75798483, -103343.43426468,   89586.41669295])"
      ]
     },
     "execution_count": 40,
     "metadata": {},
     "output_type": "execute_result"
    }
   ],
   "source": [
    "complete_pipeline.named_steps['linearregression'].coef_"
   ]
  },
  {
   "cell_type": "markdown",
   "metadata": {
    "id": "mu0IiELn1WS6"
   },
   "source": [
    "The big advantage of working with pipelines is that we can easily pass the whole process of data treatment + model fitting to each step of the crossvalidation. "
   ]
  },
  {
   "cell_type": "code",
   "execution_count": null,
   "metadata": {
    "colab": {
     "base_uri": "https://localhost:8080/"
    },
    "id": "sUkP_-Nb1WS6",
    "outputId": "24c89c79-d4b7-4ec8-f577-009278492334"
   },
   "outputs": [
    {
     "data": {
      "text/plain": [
       "array([0.52576227, 0.54665606, 0.54995272, 0.62203893, 0.23010173,\n",
       "       0.56977039, 0.51801319, 0.53094792, 0.58703892, 0.39914312,\n",
       "       0.5552104 , 0.51940138, 0.55522727, 0.59677951, 0.36646804])"
      ]
     },
     "execution_count": 41,
     "metadata": {},
     "output_type": "execute_result"
    }
   ],
   "source": [
    "preprocessing = ColumnTransformer([\n",
    "    (\"cont\", StandardScaler(),['Lot_Area']),\n",
    "  (\"nom\", OneHotEncoder(), ['MS_Zoning']),\n",
    "  (\"ord\", OrdinalEncoder(encoding_method='ordered'),['Exter_Qual'])\n",
    "])\n",
    "\n",
    "complete_pipeline = make_pipeline(preprocessing, LinearRegression())\n",
    "\n",
    "cv = RepeatedStratifiedKFold(n_splits=5, n_repeats=3, random_state=1)\n",
    "scores = cross_val_score(complete_pipeline, X_train[['MS_Zoning','Exter_Qual','Lot_Area']], y_train, cv=cv, n_jobs=-1)\n",
    "scores"
   ]
  },
  {
   "cell_type": "markdown",
   "metadata": {
    "id": "pEhqY4wl1WS7"
   },
   "source": [
    "It is really important to include the fit of the data transformation within the crossvalidation and not do it ahead of time on the whole training set. Otherwise data leakage could  occur. Data leakage means we use information of the test sets to train the model. It means that we likely underestimate the prediction error with the cross validation error.\n",
    "\n",
    "Here is how data leakage could occur if we run a model whose predictions are influenced by the data pre transformations  : "
   ]
  },
  {
   "cell_type": "code",
   "execution_count": null,
   "metadata": {
    "colab": {
     "base_uri": "https://localhost:8080/"
    },
    "id": "MRpV7mAw1WS7",
    "outputId": "185304e6-e627-4f0b-c2cb-9cffef5c367c"
   },
   "outputs": [
    {
     "data": {
      "text/plain": [
       "array([0.52576227, 0.54665606, 0.54995272, 0.62203893, 0.23010173,\n",
       "       0.56977039, 0.51801319, 0.53094792, 0.58703892, 0.39914312,\n",
       "       0.5552104 , 0.51940138, 0.55522727, 0.59677951, 0.36646804])"
      ]
     },
     "execution_count": 42,
     "metadata": {},
     "output_type": "execute_result"
    }
   ],
   "source": [
    "model=LinearRegression()\n",
    "\n",
    "X_train_sub=X_train[['MS_Zoning','Exter_Qual','Lot_Area']]\n",
    "X_test_sub=X_test[['MS_Zoning','Exter_Qual','Lot_Area']]\n",
    "\n",
    "preprocessing.fit(X_train_sub,y_train)\n",
    "\n",
    "X_train_sub_trans=preprocessing.transform(X_train_sub)\n",
    "X_test_sub_trans=preprocessing.transform(X_test_sub)\n",
    "\n",
    "\n",
    "cv = RepeatedStratifiedKFold(n_splits=5, n_repeats=3, random_state=1)\n",
    "scores = cross_val_score(model, X_train_sub_trans, y_train, cv=cv, n_jobs=-1)\n",
    "scores\n"
   ]
  },
  {
   "cell_type": "markdown",
   "metadata": {
    "id": "_f3q2Rk71WS7"
   },
   "source": [
    "In our example we do not observe any data leakage in practice. The reasons are that : \n",
    "\n",
    "- the Scaling does not influence the quality of the prediction of a linear model\n",
    "- the encoding of the Exter_Qual is the same when using the full training set or part of it (in the cross val). This is not a guarantee in practice. \n",
    "- The one hot encoding does not impact the quality of the prediction of a linear model"
   ]
  }
 ],
 "metadata": {
  "colab": {
   "name": "IABE_DS_Certificate_Module1_Computer_Lab_1.ipynb",
   "provenance": []
  },
  "kernelspec": {
   "display_name": "Python 3",
   "language": "python",
   "name": "python3"
  },
  "language_info": {
   "codemirror_mode": {
    "name": "ipython",
    "version": 3
   },
   "file_extension": ".py",
   "mimetype": "text/x-python",
   "name": "python",
   "nbconvert_exporter": "python",
   "pygments_lexer": "ipython3",
   "version": "3.7.3"
  }
 },
 "nbformat": 4,
 "nbformat_minor": 1
}
